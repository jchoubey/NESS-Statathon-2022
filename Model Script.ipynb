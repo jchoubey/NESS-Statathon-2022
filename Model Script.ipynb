{
 "cells": [
  {
   "cell_type": "markdown",
   "id": "4ac7d0ff",
   "metadata": {},
   "source": [
    "### Import Libraries"
   ]
  },
  {
   "cell_type": "code",
   "execution_count": 75,
   "id": "a8b880c5",
   "metadata": {},
   "outputs": [],
   "source": [
    "import pandas as pd\n",
    "import numpy as np\n",
    "import matplotlib.pyplot as plt\n",
    "import seaborn as sns\n",
    "import scipy.stats as stats"
   ]
  },
  {
   "cell_type": "markdown",
   "id": "671a5e6d",
   "metadata": {},
   "source": [
    "  "
   ]
  },
  {
   "cell_type": "markdown",
   "id": "c3cf1b87",
   "metadata": {},
   "source": [
    "## Create Functions for Data Cleaning"
   ]
  },
  {
   "cell_type": "markdown",
   "id": "9f39201c",
   "metadata": {},
   "source": [
    "**1. Rename columns** <br></br>"
   ]
  },
  {
   "cell_type": "code",
   "execution_count": 76,
   "id": "e44320f5",
   "metadata": {},
   "outputs": [],
   "source": [
    "def rename(df, data_type):\n",
    "    \"\"\"Rename columns to appropriate fields\"\"\"\n",
    "    \n",
    "    if data_type == 'train':\n",
    "        columns_new = ['id', 'cancel', 'year', 'zipcode', 'house_color', 'age', 'len_residence', \n",
    "                       'credit', 'plan', 'property', 'premium', 'channel', 'gender', 'married',\n",
    "                       'adults', 'children', 'tenure', 'claim']\n",
    "        df = df[df['cancel'] != -1]\n",
    "    else:\n",
    "        columns_new = ['id','tenure','claim','adults','children','gender','married','premium','channel',\n",
    "                       'plan','property','len_residence','credit','house_color','age','year','zipcode']\n",
    "    df.columns = columns_new\n",
    "    \n",
    "    return df"
   ]
  },
  {
   "cell_type": "markdown",
   "id": "606935fd",
   "metadata": {},
   "source": [
    "**2. Impute Missing values** <br></br>"
   ]
  },
  {
   "cell_type": "code",
   "execution_count": 77,
   "id": "26c8ed90",
   "metadata": {},
   "outputs": [],
   "source": [
    "def impute_nulls(df):\n",
    "    \"\"\"To impute missing data from both training set\"\"\"\n",
    "    \n",
    "    imputed_vals = {}\n",
    "    numerical_cols = ['age', 'len_residence', 'premium', 'tenure']\n",
    "    categorical_cols = ['year', 'zipcode', 'house_color', 'credit', 'plan', 'property', \n",
    "                        'channel', 'gender', 'married', 'adults', 'children', 'claim']\n",
    "    for cols in numerical_cols:\n",
    "        imputed_vals[cols] = df[cols].median()\n",
    "    for cols in categorical_cols:\n",
    "        imputed_vals[cols] = df[cols].mode()[0]\n",
    "    \n",
    "    return imputed_vals"
   ]
  },
  {
   "cell_type": "markdown",
   "id": "1bfdbbbf",
   "metadata": {},
   "source": [
    "**3. Clean Table** <br></br>"
   ]
  },
  {
   "cell_type": "code",
   "execution_count": 78,
   "id": "17e2abea",
   "metadata": {},
   "outputs": [],
   "source": [
    "def clean_table(df, nulls_dict):\n",
    "    \"\"\"To clean dataset off missing values & irregular column data types\"\"\"\n",
    "    \n",
    "    # Fill nulls:\n",
    "    for keys, values in nulls_dict.items():\n",
    "        df[keys].fillna(values, inplace = True)\n",
    "    \n",
    "    # Change datatype:\n",
    "    int_cols = ['year', 'zipcode', 'married', 'adults', 'children', 'tenure', 'claim']\n",
    "    for cols in int_cols:\n",
    "        df[cols] = df[cols].astype('int')\n",
    "    \n",
    "    cat_cols = ['house_color','credit', 'plan', 'property', 'channel', 'gender']\n",
    "    for cols in cat_cols:\n",
    "        df[cols] = df[cols].astype('category')\n",
    "    \n",
    "    \n",
    "    # Clean Textual Info:\n",
    "    str_cols = ['house_color', 'credit', 'property', 'channel']\n",
    "    for cols in str_cols:\n",
    "        df[cols] = df[cols].str.lower()\n",
    "      \n",
    "    \n",
    "    # Int to String description of columns:\n",
    "    indicator_cols = ['married', 'claim']\n",
    "    for cols in indicator_cols:\n",
    "        df[cols] = df[cols].apply(lambda x: 'Y' if x == 1 else 'N')\n",
    "    \n",
    "    return df"
   ]
  },
  {
   "cell_type": "markdown",
   "id": "d9bbc89a",
   "metadata": {},
   "source": [
    "**4. Feature Engineering** <br></br>"
   ]
  },
  {
   "cell_type": "code",
   "execution_count": 79,
   "id": "083b4b94",
   "metadata": {},
   "outputs": [],
   "source": [
    "def feature_engineering(df):\n",
    "    \"\"\"To create derived features\"\"\"\n",
    "    \n",
    "    # Create Zonal Data\n",
    "    df['zone'] = df['zipcode'].astype(str).str[0:2]\n",
    "    df['zone'] = df['zone'].astype('category')\n",
    "    \n",
    "    # Handle Age > 100:\n",
    "    def age_bin(x):\n",
    "        if x <= 25:\n",
    "            return 'Under 25'\n",
    "        elif x > 25 and x <= 35:\n",
    "            return '25-35'\n",
    "        elif x > 35 and x <= 45:\n",
    "            return '35-45'\n",
    "        elif x > 45 and x <= 60:\n",
    "            return '45-60'\n",
    "        else:\n",
    "            return 'Above 60'\n",
    "    \n",
    "    df['age_bins'] = df['age'].apply(lambda x: age_bin(x))\n",
    "    \n",
    "    # Binning #children for Family Size\n",
    "    df['num_children'] = df['children'].apply(lambda x: '0' if x == 0 else ('LE3' if x <= 3 else 'G3'))\n",
    "    \n",
    "    # Binning #adults for Family Size\n",
    "    df['num_adults'] = df['adults'].apply(lambda x: '1' if x == 1 else ('2' if x == 2 else 'G2'))\n",
    "    \n",
    "    return df"
   ]
  },
  {
   "cell_type": "markdown",
   "id": "0b845933",
   "metadata": {},
   "source": [
    "**5. One-Hot Encoding** <br></br>"
   ]
  },
  {
   "cell_type": "code",
   "execution_count": 80,
   "id": "a7c68ee3",
   "metadata": {},
   "outputs": [],
   "source": [
    "def categorical_encoding(df, formula, interaction_cols, dummy_cols):\n",
    "    \"\"\"To create dummy variables for categorical columns in both training & test datasets\"\"\"\n",
    "    \n",
    "    # Create Interaction Terms\n",
    "    #X_inter = []\n",
    "    #for f in formula:\n",
    "    #    X_inter.append(dmatrix(f+' -1', df, return_type = \"dataframe\"))\n",
    "    \n",
    "    # Create dummy variables\n",
    "    df = pd.get_dummies(data = df, columns = interaction_cols + dummy_cols, drop_first = True)\n",
    "    \n",
    "    # Combine\n",
    "    #for X in X_inter:\n",
    "    #    df = pd.concat([X, df], axis = 1)\n",
    "    \n",
    "    return df"
   ]
  },
  {
   "cell_type": "markdown",
   "id": "2b8ace04",
   "metadata": {},
   "source": [
    "  "
   ]
  },
  {
   "cell_type": "markdown",
   "id": "cacc052c",
   "metadata": {},
   "source": [
    "  "
   ]
  },
  {
   "cell_type": "markdown",
   "id": "23332e10",
   "metadata": {},
   "source": [
    "  "
   ]
  },
  {
   "cell_type": "markdown",
   "id": "b20ac290",
   "metadata": {},
   "source": [
    "## Execute Main Program: Statistical Model Creation"
   ]
  },
  {
   "cell_type": "markdown",
   "id": "963e647c",
   "metadata": {},
   "source": [
    "**1. Load Dataset** <br></br>"
   ]
  },
  {
   "cell_type": "code",
   "execution_count": 81,
   "id": "874f4387",
   "metadata": {},
   "outputs": [],
   "source": [
    "data = pd.read_csv('train.csv')"
   ]
  },
  {
   "cell_type": "markdown",
   "id": "bea03d4d",
   "metadata": {},
   "source": [
    "**2. Data Cleaning & Feature Engineering using custom functions** <br></br>"
   ]
  },
  {
   "cell_type": "code",
   "execution_count": 82,
   "id": "24a6ea4d",
   "metadata": {},
   "outputs": [],
   "source": [
    "data = rename(df = data, data_type = 'train')\n",
    "values = impute_nulls(df = data)\n",
    "data = clean_table(df = data, nulls_dict = values)\n",
    "data = feature_engineering(df = data)"
   ]
  },
  {
   "cell_type": "markdown",
   "id": "fea8c68d",
   "metadata": {},
   "source": [
    "**3. Create Interaction Terms & One-Hot Encoding**"
   ]
  },
  {
   "cell_type": "code",
   "execution_count": 83,
   "id": "5ddbb047",
   "metadata": {},
   "outputs": [],
   "source": [
    "from patsy import dmatrix\n",
    "\n",
    "#formula = ['credit:channel', 'credit:zone', 'credit:age_bins', 'credit:married']\n",
    "formula = []\n",
    "inter_cols = ['credit','channel','zone','age_bins','married']\n",
    "dummy_columns = ['year','plan','property','gender','claim','num_children','num_adults']\n",
    "data_encoded = categorical_encoding(df = data, formula = formula, interaction_cols = inter_cols, dummy_cols = dummy_columns)"
   ]
  },
  {
   "cell_type": "markdown",
   "id": "ca811471",
   "metadata": {},
   "source": [
    "**4. Set Response (Y) & Predictor variables (X)**"
   ]
  },
  {
   "cell_type": "code",
   "execution_count": 84,
   "id": "e43f33b0",
   "metadata": {},
   "outputs": [],
   "source": [
    "drop_columns = ['id', 'cancel', 'zipcode', 'house_color', 'adults', 'age',\n",
    "                'children', 'gender_M', 'premium', 'tenure', 'len_residence']\n",
    "all_columns = set(data_encoded.columns)\n",
    "list_X = list(all_columns.difference(set(drop_columns)))\n",
    "X = data_encoded[list_X]\n",
    "y = data_encoded['cancel']"
   ]
  },
  {
   "cell_type": "markdown",
   "id": "a5748445",
   "metadata": {},
   "source": [
    "**5. Training Set & Validation Set Split** <br></br>"
   ]
  },
  {
   "cell_type": "code",
   "execution_count": 85,
   "id": "65a53bcc",
   "metadata": {},
   "outputs": [],
   "source": [
    "from sklearn.model_selection import train_test_split\n",
    "\n",
    "X_train, X_test, y_train, y_test = train_test_split(X, y, test_size = 0.2, random_state = 42, stratify = y)"
   ]
  },
  {
   "cell_type": "markdown",
   "id": "94c5add6",
   "metadata": {},
   "source": [
    "**6. Multinomial Logistic Regression Model**"
   ]
  },
  {
   "cell_type": "markdown",
   "id": "1fe2bb2f",
   "metadata": {},
   "source": [
    "$\\space\\space\\space\\space\\space\\space$ A. Without Interaction terms"
   ]
  },
  {
   "cell_type": "code",
   "execution_count": 22,
   "id": "d4a4f75b",
   "metadata": {},
   "outputs": [],
   "source": [
    "from sklearn.linear_model import LogisticRegression\n",
    "from warnings import filterwarnings\n",
    "filterwarnings('ignore')\n",
    "\n",
    "mlogit_model = LogisticRegression(multi_class = 'ovr').fit(X_train, y_train)"
   ]
  },
  {
   "cell_type": "code",
   "execution_count": 12,
   "id": "6da440ff",
   "metadata": {},
   "outputs": [
    {
     "name": "stdout",
     "output_type": "stream",
     "text": [
      "Accuracy: 0.7250926922616912\n",
      "Precision: 0.6520866034454588\n"
     ]
    }
   ],
   "source": [
    "from sklearn.metrics import accuracy_score, precision_score\n",
    "print(f\"Accuracy: {accuracy_score(y_test, mlogit_model.predict(X_test))}\")\n",
    "print(f\"Precision: {precision_score(y_test, mlogit_model.predict(X_test), average = 'weighted', zero_division = 0)}\")"
   ]
  },
  {
   "cell_type": "code",
   "execution_count": 13,
   "id": "2f1dd7e1",
   "metadata": {},
   "outputs": [
    {
     "name": "stdout",
     "output_type": "stream",
     "text": [
      "Predicted       0      2\n",
      "Actual                  \n",
      "0          107463  11056\n",
      "1           11003   1131\n",
      "2           33012   3341\n"
     ]
    }
   ],
   "source": [
    "y_actual = pd.Series(y_test, name='Actual')\n",
    "y_predicted = pd.Series(mlogit_model.predict(X_test), name='Predicted')\n",
    "\n",
    "print(pd.crosstab(y_actual, y_predicted))"
   ]
  },
  {
   "cell_type": "code",
   "execution_count": 14,
   "id": "23fd8cb6",
   "metadata": {},
   "outputs": [
    {
     "data": {
      "image/png": "[encoded data removed]",
      "text/plain": [
       "<Figure size 432x720 with 1 Axes>"
      ]
     },
     "metadata": {
      "needs_background": "light"
     },
     "output_type": "display_data"
    }
   ],
   "source": [
    "dt = pd.DataFrame(zip(list_X, mlogit_model.coef_[0]), columns = ['features', 'importance'])\n",
    "dt.sort_values(by = 'importance', ascending = False, inplace = True)\n",
    "fig, ax = plt.subplots(figsize = (6, 10))\n",
    "sns.barplot(x = 'importance', y = 'features', data = dt)\n",
    "plt.show()"
   ]
  },
  {
   "cell_type": "markdown",
   "id": "4ed1b263",
   "metadata": {},
   "source": [
    "$\\space\\space\\space\\space\\space\\space$ B. With Interaction terms"
   ]
  },
  {
   "cell_type": "code",
   "execution_count": 23,
   "id": "5e0c26d8",
   "metadata": {},
   "outputs": [],
   "source": [
    "from sklearn.linear_model import LogisticRegression\n",
    "from warnings import filterwarnings\n",
    "filterwarnings('ignore')\n",
    "\n",
    "mlogit_model = LogisticRegression(multi_class = 'ovr').fit(X_train, y_train)"
   ]
  },
  {
   "cell_type": "code",
   "execution_count": 24,
   "id": "f8a59d23",
   "metadata": {},
   "outputs": [
    {
     "name": "stdout",
     "output_type": "stream",
     "text": [
      "Accuracy: 0.7242913527090061\n",
      "Precision: 0.6507686039020166\n"
     ]
    }
   ],
   "source": [
    "from sklearn.metrics import accuracy_score, precision_score\n",
    "print(f\"Accuracy: {accuracy_score(y_test, mlogit_model.predict(X_test))}\")\n",
    "print(f\"Precision: {precision_score(y_test, mlogit_model.predict(X_test), average = 'weighted', zero_division = 0)}\")"
   ]
  },
  {
   "cell_type": "code",
   "execution_count": 25,
   "id": "b064129a",
   "metadata": {},
   "outputs": [
    {
     "name": "stdout",
     "output_type": "stream",
     "text": [
      "Predicted      0     2\n",
      "Actual                \n",
      "0          27075  2723\n",
      "1           2732   273\n",
      "2           8365   816\n"
     ]
    }
   ],
   "source": [
    "y_actual = pd.Series(y_test, name='Actual')\n",
    "y_predicted = pd.Series(mlogit_model.predict(X_test), name='Predicted')\n",
    "\n",
    "print(pd.crosstab(y_actual, y_predicted))"
   ]
  },
  {
   "cell_type": "code",
   "execution_count": 26,
   "id": "c99dd3da",
   "metadata": {},
   "outputs": [
    {
     "data": {
      "image/png": "[encoded data removed]",
      "text/plain": [
       "<Figure size 432x720 with 1 Axes>"
      ]
     },
     "metadata": {
      "needs_background": "light"
     },
     "output_type": "display_data"
    }
   ],
   "source": [
    "dt = pd.DataFrame(zip(list_X, mlogit_model.coef_[0]), columns = ['features', 'importance'])\n",
    "dt.sort_values(by = 'importance', ascending = False, inplace = True)\n",
    "fig, ax = plt.subplots(figsize = (6, 10))\n",
    "sns.barplot(x = 'importance', y = 'features', data = dt)\n",
    "plt.show()"
   ]
  },
  {
   "cell_type": "code",
   "execution_count": null,
   "id": "506aa019",
   "metadata": {},
   "outputs": [],
   "source": []
  },
  {
   "cell_type": "code",
   "execution_count": null,
   "id": "6d1d5166",
   "metadata": {},
   "outputs": [],
   "source": []
  },
  {
   "cell_type": "markdown",
   "id": "9c204d13",
   "metadata": {},
   "source": [
    "### LDA"
   ]
  },
  {
   "cell_type": "markdown",
   "id": "aa715a17",
   "metadata": {},
   "source": [
    "A. Without Interaction Terms"
   ]
  },
  {
   "cell_type": "code",
   "execution_count": 15,
   "id": "cd493e2b",
   "metadata": {},
   "outputs": [],
   "source": [
    "from sklearn.discriminant_analysis import LinearDiscriminantAnalysis\n",
    "lda_model = LinearDiscriminantAnalysis().fit(X_train, y_train)"
   ]
  },
  {
   "cell_type": "code",
   "execution_count": 16,
   "id": "ee8968b1",
   "metadata": {},
   "outputs": [
    {
     "name": "stdout",
     "output_type": "stream",
     "text": [
      "Accuracy: 0.7239086233704103\n",
      "Precision: 0.6501643069738292\n"
     ]
    }
   ],
   "source": [
    "from sklearn.metrics import accuracy_score, precision_score\n",
    "print(f\"Accuracy: {accuracy_score(y_test, lda_model.predict(X_test))}\")\n",
    "print(f\"Precision: {precision_score(y_test, lda_model.predict(X_test), average = 'weighted', zero_division = 0)}\")"
   ]
  },
  {
   "cell_type": "code",
   "execution_count": 17,
   "id": "cc983adb",
   "metadata": {},
   "outputs": [
    {
     "name": "stdout",
     "output_type": "stream",
     "text": [
      "Predicted       0      2\n",
      "Actual                  \n",
      "0          105849  12670\n",
      "1           10857   1277\n",
      "2           32492   3861\n"
     ]
    }
   ],
   "source": [
    "y_actual = pd.Series(y_test, name='Actual')\n",
    "y_predicted = pd.Series(lda_model.predict(X_test), name='Predicted')\n",
    "\n",
    "print(pd.crosstab(y_actual, y_predicted))"
   ]
  },
  {
   "cell_type": "markdown",
   "id": "3d2b16fc",
   "metadata": {},
   "source": [
    "B. With Interaction Terms"
   ]
  },
  {
   "cell_type": "code",
   "execution_count": 201,
   "id": "cd493e2b",
   "metadata": {},
   "outputs": [],
   "source": [
    "from sklearn.discriminant_analysis import LinearDiscriminantAnalysis\n",
    "lda_model = LinearDiscriminantAnalysis().fit(X_train, y_train)"
   ]
  },
  {
   "cell_type": "code",
   "execution_count": 202,
   "id": "ee8968b1",
   "metadata": {},
   "outputs": [
    {
     "name": "stdout",
     "output_type": "stream",
     "text": [
      "Accuracy: 0.721109915081928\n",
      "Precision: 0.6494729314551991\n"
     ]
    }
   ],
   "source": [
    "from sklearn.metrics import accuracy_score, precision_score\n",
    "print(f\"Accuracy: {accuracy_score(y_test, lda_model.predict(X_test))}\")\n",
    "print(f\"Precision: {precision_score(y_test, lda_model.predict(X_test), average = 'weighted', zero_division = 0)}\")"
   ]
  },
  {
   "cell_type": "code",
   "execution_count": 203,
   "id": "cc983adb",
   "metadata": {},
   "outputs": [
    {
     "name": "stdout",
     "output_type": "stream",
     "text": [
      "Predicted      0   1     2\n",
      "Actual                    \n",
      "0          26568  99  3131\n",
      "1           2687   3   315\n",
      "2           8209  28   944\n"
     ]
    }
   ],
   "source": [
    "y_actual = pd.Series(y_test, name='Actual')\n",
    "y_predicted = pd.Series(lda_model.predict(X_test), name='Predicted')\n",
    "\n",
    "print(pd.crosstab(y_actual, y_predicted))"
   ]
  },
  {
   "cell_type": "code",
   "execution_count": null,
   "id": "5d55fb93",
   "metadata": {},
   "outputs": [],
   "source": []
  },
  {
   "cell_type": "code",
   "execution_count": null,
   "id": "d650d026",
   "metadata": {},
   "outputs": [],
   "source": []
  },
  {
   "cell_type": "code",
   "execution_count": null,
   "id": "b0148f00",
   "metadata": {},
   "outputs": [],
   "source": []
  },
  {
   "cell_type": "code",
   "execution_count": null,
   "id": "7fae2b2b",
   "metadata": {},
   "outputs": [],
   "source": []
  },
  {
   "cell_type": "code",
   "execution_count": null,
   "id": "4f0fa7a1",
   "metadata": {},
   "outputs": [],
   "source": []
  },
  {
   "cell_type": "markdown",
   "id": "9e0b5769",
   "metadata": {},
   "source": [
    "### QDA"
   ]
  },
  {
   "cell_type": "markdown",
   "id": "5f5d00a7",
   "metadata": {},
   "source": [
    "A. Without Interaction Terms"
   ]
  },
  {
   "cell_type": "code",
   "execution_count": 18,
   "id": "3e6274a7",
   "metadata": {},
   "outputs": [],
   "source": [
    "from sklearn.discriminant_analysis import QuadraticDiscriminantAnalysis\n",
    "qda_model = QuadraticDiscriminantAnalysis().fit(X_train, y_train)"
   ]
  },
  {
   "cell_type": "code",
   "execution_count": 19,
   "id": "96efdead",
   "metadata": {},
   "outputs": [
    {
     "name": "stdout",
     "output_type": "stream",
     "text": [
      "Accuracy: 0.6918670015548379\n",
      "Precision: 0.6742664741741251\n"
     ]
    }
   ],
   "source": [
    "from sklearn.metrics import accuracy_score, precision_score\n",
    "print(f\"Accuracy: {accuracy_score(y_test, qda_model.predict(X_test))}\")\n",
    "print(f\"Precision: {precision_score(y_test, qda_model.predict(X_test), average = 'weighted', zero_division = 0)}\")"
   ]
  },
  {
   "cell_type": "code",
   "execution_count": 20,
   "id": "f18799e3",
   "metadata": {},
   "outputs": [
    {
     "name": "stdout",
     "output_type": "stream",
     "text": [
      "Predicted      0     1      2\n",
      "Actual                       \n",
      "0          90350  8041  20128\n",
      "1           9207   857   2070\n",
      "2          27754  2450   6149\n"
     ]
    }
   ],
   "source": [
    "y_actual = pd.Series(y_test, name='Actual')\n",
    "y_predicted = pd.Series(qda_model.predict(X_test), name='Predicted')\n",
    "\n",
    "print(pd.crosstab(y_actual, y_predicted))"
   ]
  },
  {
   "cell_type": "markdown",
   "id": "11628a7a",
   "metadata": {},
   "source": [
    "B. With Interaction Terms"
   ]
  },
  {
   "cell_type": "code",
   "execution_count": 27,
   "id": "3e6274a7",
   "metadata": {},
   "outputs": [],
   "source": [
    "from sklearn.discriminant_analysis import QuadraticDiscriminantAnalysis\n",
    "qda_model = QuadraticDiscriminantAnalysis().fit(X_train, y_train)"
   ]
  },
  {
   "cell_type": "code",
   "execution_count": 28,
   "id": "96efdead",
   "metadata": {},
   "outputs": [
    {
     "name": "stdout",
     "output_type": "stream",
     "text": [
      "Accuracy: 0.4387609137662959\n",
      "Precision: 0.6734078615793799\n"
     ]
    }
   ],
   "source": [
    "from sklearn.metrics import accuracy_score, precision_score\n",
    "print(f\"Accuracy: {accuracy_score(y_test, qda_model.predict(X_test))}\")\n",
    "print(f\"Precision: {precision_score(y_test, qda_model.predict(X_test), average = 'weighted', zero_division = 0)}\")"
   ]
  },
  {
   "cell_type": "code",
   "execution_count": 29,
   "id": "f18799e3",
   "metadata": {},
   "outputs": [
    {
     "name": "stdout",
     "output_type": "stream",
     "text": [
      "Predicted     0     1      2\n",
      "Actual                      \n",
      "0          9932  7515  12351\n",
      "1          1047   728   1230\n",
      "2          3099  2287   3795\n"
     ]
    }
   ],
   "source": [
    "y_actual = pd.Series(y_test, name='Actual')\n",
    "y_predicted = pd.Series(qda_model.predict(X_test), name='Predicted')\n",
    "\n",
    "print(pd.crosstab(y_actual, y_predicted))"
   ]
  },
  {
   "cell_type": "code",
   "execution_count": null,
   "id": "450e03c7",
   "metadata": {},
   "outputs": [],
   "source": []
  },
  {
   "cell_type": "code",
   "execution_count": null,
   "id": "5f04085c",
   "metadata": {},
   "outputs": [],
   "source": []
  },
  {
   "cell_type": "code",
   "execution_count": null,
   "id": "5133cf2e",
   "metadata": {},
   "outputs": [],
   "source": []
  },
  {
   "cell_type": "code",
   "execution_count": null,
   "id": "6ff4118d",
   "metadata": {},
   "outputs": [],
   "source": []
  },
  {
   "cell_type": "code",
   "execution_count": null,
   "id": "ecf68c78",
   "metadata": {},
   "outputs": [],
   "source": []
  },
  {
   "cell_type": "markdown",
   "id": "2f623045",
   "metadata": {},
   "source": [
    "### Naive Bayes"
   ]
  },
  {
   "cell_type": "markdown",
   "id": "6d3a69cc",
   "metadata": {},
   "source": [
    "A. Without Interaction Terms"
   ]
  },
  {
   "cell_type": "code",
   "execution_count": 30,
   "id": "50e69ccb",
   "metadata": {},
   "outputs": [
    {
     "data": {
      "text/plain": [
       "GaussianNB()"
      ]
     },
     "execution_count": 30,
     "metadata": {},
     "output_type": "execute_result"
    }
   ],
   "source": [
    "from sklearn.naive_bayes import GaussianNB\n",
    "nv = GaussianNB() \n",
    "nv.fit(X_train,y_train)"
   ]
  },
  {
   "cell_type": "code",
   "execution_count": 22,
   "id": "729ec4af",
   "metadata": {},
   "outputs": [
    {
     "name": "stdout",
     "output_type": "stream",
     "text": [
      "Accuracy: 0.6925343858390145\n",
      "Precision: 0.6410038548814574\n"
     ]
    }
   ],
   "source": [
    "from sklearn.metrics import accuracy_score, precision_score\n",
    "print(f\"Accuracy: {accuracy_score(y_test, nv.predict(X_test))}\")\n",
    "print(f\"Precision: {precision_score(y_test, nv.predict(X_test), average = 'weighted', zero_division = 0)}\")"
   ]
  },
  {
   "cell_type": "code",
   "execution_count": 23,
   "id": "1b259c52",
   "metadata": {},
   "outputs": [
    {
     "name": "stdout",
     "output_type": "stream",
     "text": [
      "Predicted      0    1      2\n",
      "Actual                      \n",
      "0          95496  927  22096\n",
      "1           9765  104   2265\n",
      "2          29288  273   6792\n"
     ]
    }
   ],
   "source": [
    "y_actual = pd.Series(y_test, name='Actual')\n",
    "y_predicted = pd.Series(nv.predict(X_test), name='Predicted')\n",
    "\n",
    "print(pd.crosstab(y_actual, y_predicted))"
   ]
  },
  {
   "cell_type": "markdown",
   "id": "25047680",
   "metadata": {},
   "source": [
    "B. With Interaction Terms"
   ]
  },
  {
   "cell_type": "code",
   "execution_count": 31,
   "id": "50e69ccb",
   "metadata": {},
   "outputs": [
    {
     "data": {
      "text/plain": [
       "GaussianNB()"
      ]
     },
     "execution_count": 31,
     "metadata": {},
     "output_type": "execute_result"
    }
   ],
   "source": [
    "from sklearn.naive_bayes import GaussianNB\n",
    "nv = GaussianNB() \n",
    "nv.fit(X_train,y_train)"
   ]
  },
  {
   "cell_type": "code",
   "execution_count": 32,
   "id": "729ec4af",
   "metadata": {},
   "outputs": [
    {
     "name": "stdout",
     "output_type": "stream",
     "text": [
      "Accuracy: 0.6482813060638679\n",
      "Precision: 0.6851960080623232\n"
     ]
    }
   ],
   "source": [
    "from sklearn.metrics import accuracy_score, precision_score\n",
    "print(f\"Accuracy: {accuracy_score(y_test, nv.predict(X_test))}\")\n",
    "print(f\"Precision: {precision_score(y_test, nv.predict(X_test), average = 'weighted', zero_division = 0)}\")"
   ]
  },
  {
   "cell_type": "code",
   "execution_count": 33,
   "id": "1b259c52",
   "metadata": {},
   "outputs": [
    {
     "name": "stdout",
     "output_type": "stream",
     "text": [
      "Predicted      0     1     2\n",
      "Actual                      \n",
      "0          20921  5472  3405\n",
      "1           2122   535   348\n",
      "2           6485  1716   980\n"
     ]
    }
   ],
   "source": [
    "y_actual = pd.Series(y_test, name='Actual')\n",
    "y_predicted = pd.Series(nv.predict(X_test), name='Predicted')\n",
    "\n",
    "print(pd.crosstab(y_actual, y_predicted))"
   ]
  },
  {
   "cell_type": "code",
   "execution_count": null,
   "id": "2501e922",
   "metadata": {},
   "outputs": [],
   "source": []
  },
  {
   "cell_type": "code",
   "execution_count": null,
   "id": "9b4ccc1b",
   "metadata": {},
   "outputs": [],
   "source": []
  },
  {
   "cell_type": "code",
   "execution_count": null,
   "id": "c5c6a209",
   "metadata": {},
   "outputs": [],
   "source": []
  },
  {
   "cell_type": "markdown",
   "id": "9ea2b8b2",
   "metadata": {},
   "source": [
    "### DecisionTree Classifier"
   ]
  },
  {
   "cell_type": "code",
   "execution_count": 18,
   "id": "e7b2fdcb",
   "metadata": {
    "scrolled": true
   },
   "outputs": [
    {
     "data": {
      "text/plain": [
       "DecisionTreeClassifier(max_depth=5, min_samples_leaf=5, random_state=42)"
      ]
     },
     "execution_count": 18,
     "metadata": {},
     "output_type": "execute_result"
    }
   ],
   "source": [
    "from sklearn.tree import DecisionTreeClassifier\n",
    "clf_model = DecisionTreeClassifier(criterion=\"gini\", random_state=42, max_depth=5, min_samples_leaf=5)   \n",
    "clf_model.fit(X_train,y_train)"
   ]
  },
  {
   "cell_type": "code",
   "execution_count": 30,
   "id": "57984bd4",
   "metadata": {},
   "outputs": [
    {
     "name": "stdout",
     "output_type": "stream",
     "text": [
      "Accuracy: 0.7197942829805047\n",
      "Precision: 0.64161651053092\n"
     ]
    }
   ],
   "source": [
    "from sklearn.metrics import accuracy_score, precision_score\n",
    "print(f\"Accuracy: {accuracy_score(y_test, clf_model.predict(X_test))}\")\n",
    "print(f\"Precision: {precision_score(y_test, clf_model.predict(X_test), average = 'weighted', zero_division = 0)}\")"
   ]
  },
  {
   "cell_type": "code",
   "execution_count": 31,
   "id": "cb79f45f",
   "metadata": {},
   "outputs": [
    {
     "name": "stdout",
     "output_type": "stream",
     "text": [
      "Predicted       0     2\n",
      "Actual                 \n",
      "0          108966  9553\n",
      "1           11173   961\n",
      "2           33457  2896\n"
     ]
    }
   ],
   "source": [
    "y_actual = pd.Series(y_test, name='Actual')\n",
    "y_predicted = pd.Series(clf_model.predict(X_test), name='Predicted')\n",
    "\n",
    "print(pd.crosstab(y_actual, y_predicted))"
   ]
  },
  {
   "cell_type": "code",
   "execution_count": 34,
   "id": "e7b2fdcb",
   "metadata": {
    "scrolled": true
   },
   "outputs": [
    {
     "data": {
      "text/plain": [
       "DecisionTreeClassifier(max_depth=5, min_samples_leaf=5, random_state=42)"
      ]
     },
     "execution_count": 34,
     "metadata": {},
     "output_type": "execute_result"
    }
   ],
   "source": [
    "from sklearn.tree import DecisionTreeClassifier\n",
    "clf_model = DecisionTreeClassifier(criterion=\"gini\", random_state=42, max_depth=5, min_samples_leaf=5)   \n",
    "clf_model.fit(X_train,y_train)"
   ]
  },
  {
   "cell_type": "code",
   "execution_count": 35,
   "id": "57984bd4",
   "metadata": {},
   "outputs": [
    {
     "name": "stdout",
     "output_type": "stream",
     "text": [
      "Accuracy: 0.7193158713072599\n",
      "Precision: 0.6405318866958528\n"
     ]
    }
   ],
   "source": [
    "from sklearn.metrics import accuracy_score, precision_score\n",
    "print(f\"Accuracy: {accuracy_score(y_test, clf_model.predict(X_test))}\")\n",
    "print(f\"Precision: {precision_score(y_test, clf_model.predict(X_test), average = 'weighted', zero_division = 0)}\")"
   ]
  },
  {
   "cell_type": "code",
   "execution_count": 36,
   "id": "cb79f45f",
   "metadata": {},
   "outputs": [
    {
     "name": "stdout",
     "output_type": "stream",
     "text": [
      "Predicted      0     2\n",
      "Actual                \n",
      "0          27344  2454\n",
      "1           2736   269\n",
      "2           8458   723\n"
     ]
    }
   ],
   "source": [
    "y_actual = pd.Series(y_test, name='Actual')\n",
    "y_predicted = pd.Series(clf_model.predict(X_test), name='Predicted')\n",
    "\n",
    "print(pd.crosstab(y_actual, y_predicted))"
   ]
  },
  {
   "cell_type": "code",
   "execution_count": null,
   "id": "397ae8e3",
   "metadata": {},
   "outputs": [],
   "source": []
  },
  {
   "cell_type": "code",
   "execution_count": null,
   "id": "11a59df6",
   "metadata": {},
   "outputs": [],
   "source": []
  },
  {
   "cell_type": "markdown",
   "id": "bc17330a",
   "metadata": {},
   "source": [
    "## XGBoost Classfier"
   ]
  },
  {
   "cell_type": "markdown",
   "id": "47554020",
   "metadata": {},
   "source": [
    "A. Without Interaction Terms"
   ]
  },
  {
   "cell_type": "code",
   "execution_count": 86,
   "id": "928f9fa1",
   "metadata": {},
   "outputs": [
    {
     "name": "stdout",
     "output_type": "stream",
     "text": [
      "[04:16:59] WARNING: D:\\bld\\xgboost-split_1634712635879\\work\\src\\learner.cc:1115: Starting in XGBoost 1.3.0, the default evaluation metric used with the objective 'multi:softprob' was changed from 'merror' to 'mlogloss'. Explicitly set eval_metric if you'd like to restore the old behavior.\n"
     ]
    },
    {
     "data": {
      "text/plain": [
       "XGBClassifier(base_score=0.5, booster='gbtree', colsample_bylevel=1,\n",
       "              colsample_bynode=1, colsample_bytree=1, enable_categorical=False,\n",
       "              gamma=0, gpu_id=-1, importance_type=None,\n",
       "              interaction_constraints='', learning_rate=0.300000012,\n",
       "              max_delta_step=0, max_depth=6, min_child_weight=1, missing=nan,\n",
       "              monotone_constraints='()', n_estimators=100, n_jobs=8,\n",
       "              num_parallel_tree=1, objective='multi:softprob', predictor='auto',\n",
       "              random_state=0, reg_alpha=0, reg_lambda=1, scale_pos_weight=None,\n",
       "              subsample=1, tree_method='exact', validate_parameters=1,\n",
       "              verbosity=None)"
      ]
     },
     "execution_count": 86,
     "metadata": {},
     "output_type": "execute_result"
    }
   ],
   "source": [
    "from xgboost import XGBClassifier\n",
    "xgbc = XGBClassifier()\n",
    "xgbc.fit(X_train, y_train)"
   ]
  },
  {
   "cell_type": "code",
   "execution_count": 87,
   "id": "9bb363ef",
   "metadata": {},
   "outputs": [
    {
     "name": "stdout",
     "output_type": "stream",
     "text": [
      "Accuracy: 0.724951560818084\n",
      "Precision: 0.6756911434398322\n"
     ]
    }
   ],
   "source": [
    "from sklearn.metrics import accuracy_score, precision_score\n",
    "print(f\"Accuracy: {accuracy_score(y_test, xgbc.predict(X_test))}\")\n",
    "print(f\"Precision: {precision_score(y_test, xgbc.predict(X_test), average = 'weighted', zero_division = 0)}\")"
   ]
  },
  {
   "cell_type": "code",
   "execution_count": 88,
   "id": "9d176521",
   "metadata": {},
   "outputs": [
    {
     "name": "stdout",
     "output_type": "stream",
     "text": [
      "Predicted      0    1     2\n",
      "Actual                     \n",
      "0          27132  108  2558\n",
      "1           2730   13   262\n",
      "2           8354   43   784\n"
     ]
    }
   ],
   "source": [
    "y_actual = pd.Series(y_test, name='Actual')\n",
    "y_predicted = pd.Series(xgbc.predict(X_test), name='Predicted')\n",
    "print(pd.crosstab(y_actual, y_predicted))"
   ]
  },
  {
   "cell_type": "code",
   "execution_count": null,
   "id": "4d7f53c7",
   "metadata": {},
   "outputs": [],
   "source": []
  },
  {
   "cell_type": "code",
   "execution_count": null,
   "id": "052c85aa",
   "metadata": {},
   "outputs": [],
   "source": []
  },
  {
   "cell_type": "markdown",
   "id": "9b06d3f8",
   "metadata": {},
   "source": [
    "B. With Interaction Terms"
   ]
  },
  {
   "cell_type": "code",
   "execution_count": 46,
   "id": "ec300c9d",
   "metadata": {},
   "outputs": [],
   "source": [
    "cols = []\n",
    "for c in X_train.columns:\n",
    "    cols.append(c.replace(':',' ').replace('[',' ').replace(']', ' '))\n",
    "X_train.columns = cols"
   ]
  },
  {
   "cell_type": "code",
   "execution_count": 47,
   "id": "928f9fa1",
   "metadata": {},
   "outputs": [
    {
     "name": "stdout",
     "output_type": "stream",
     "text": [
      "[04:07:02] WARNING: D:\\bld\\xgboost-split_1634712635879\\work\\src\\learner.cc:1115: Starting in XGBoost 1.3.0, the default evaluation metric used with the objective 'multi:softprob' was changed from 'merror' to 'mlogloss'. Explicitly set eval_metric if you'd like to restore the old behavior.\n"
     ]
    },
    {
     "data": {
      "text/plain": [
       "XGBClassifier(base_score=0.5, booster='gbtree', colsample_bylevel=1,\n",
       "              colsample_bynode=1, colsample_bytree=1, enable_categorical=False,\n",
       "              gamma=0, gpu_id=-1, importance_type=None,\n",
       "              interaction_constraints='', learning_rate=0.300000012,\n",
       "              max_delta_step=0, max_depth=6, min_child_weight=1, missing=nan,\n",
       "              monotone_constraints='()', n_estimators=100, n_jobs=8,\n",
       "              num_parallel_tree=1, objective='multi:softprob', predictor='auto',\n",
       "              random_state=0, reg_alpha=0, reg_lambda=1, scale_pos_weight=None,\n",
       "              subsample=1, tree_method='exact', validate_parameters=1,\n",
       "              verbosity=None)"
      ]
     },
     "execution_count": 47,
     "metadata": {},
     "output_type": "execute_result"
    }
   ],
   "source": [
    "from xgboost import XGBClassifier\n",
    "xgbc = XGBClassifier()\n",
    "xgbc.fit(X_train, y_train)"
   ]
  },
  {
   "cell_type": "code",
   "execution_count": 48,
   "id": "9bb363ef",
   "metadata": {},
   "outputs": [
    {
     "name": "stdout",
     "output_type": "stream",
     "text": [
      "Accuracy: 0.7248176055495754\n",
      "Precision: 0.67709789866112\n"
     ]
    }
   ],
   "source": [
    "from sklearn.metrics import accuracy_score, precision_score\n",
    "print(f\"Accuracy: {accuracy_score(y_test, xgbc.predict(X_test))}\")\n",
    "print(f\"Precision: {precision_score(y_test, xgbc.predict(X_test), average = 'weighted', zero_division = 0)}\")"
   ]
  },
  {
   "cell_type": "code",
   "execution_count": 49,
   "id": "9d176521",
   "metadata": {},
   "outputs": [
    {
     "name": "stdout",
     "output_type": "stream",
     "text": [
      "Predicted      0    1     2\n",
      "Actual                     \n",
      "0          27089  149  2560\n",
      "1           2733   13   259\n",
      "2           8367   50   764\n"
     ]
    }
   ],
   "source": [
    "y_actual = pd.Series(y_test, name='Actual')\n",
    "y_predicted = pd.Series(xgbc.predict(X_test), name='Predicted')\n",
    "\n",
    "print(pd.crosstab(y_actual, y_predicted))"
   ]
  },
  {
   "cell_type": "code",
   "execution_count": null,
   "id": "f9e1e1a6",
   "metadata": {},
   "outputs": [],
   "source": []
  },
  {
   "cell_type": "code",
   "execution_count": null,
   "id": "7b15a8cb",
   "metadata": {},
   "outputs": [],
   "source": []
  },
  {
   "cell_type": "code",
   "execution_count": null,
   "id": "e85049f9",
   "metadata": {},
   "outputs": [],
   "source": []
  },
  {
   "cell_type": "markdown",
   "id": "f95d4fd5",
   "metadata": {},
   "source": [
    "## Prediction using Test Data"
   ]
  },
  {
   "cell_type": "markdown",
   "id": "687b1696",
   "metadata": {},
   "source": [
    "**1. Load Test Dataset** <br></br>"
   ]
  },
  {
   "cell_type": "code",
   "execution_count": 89,
   "id": "42d97e99",
   "metadata": {},
   "outputs": [
    {
     "data": {
      "text/html": [
       "<div>\n",
       "<style scoped>\n",
       "    .dataframe tbody tr th:only-of-type {\n",
       "        vertical-align: middle;\n",
       "    }\n",
       "\n",
       "    .dataframe tbody tr th {\n",
       "        vertical-align: top;\n",
       "    }\n",
       "\n",
       "    .dataframe thead th {\n",
       "        text-align: right;\n",
       "    }\n",
       "</style>\n",
       "<table border=\"1\" class=\"dataframe\">\n",
       "  <thead>\n",
       "    <tr style=\"text-align: right;\">\n",
       "      <th></th>\n",
       "      <th>id</th>\n",
       "      <th>tenure</th>\n",
       "      <th>claim.ind</th>\n",
       "      <th>n.adults</th>\n",
       "      <th>n.children</th>\n",
       "      <th>ni.gender</th>\n",
       "      <th>ni.marital.status</th>\n",
       "      <th>premium</th>\n",
       "      <th>sales.channel</th>\n",
       "      <th>coverage.type</th>\n",
       "      <th>dwelling.type</th>\n",
       "      <th>len.at.res</th>\n",
       "      <th>credit</th>\n",
       "      <th>house.color</th>\n",
       "      <th>ni.age</th>\n",
       "      <th>year</th>\n",
       "      <th>zip.code</th>\n",
       "    </tr>\n",
       "  </thead>\n",
       "  <tbody>\n",
       "    <tr>\n",
       "      <th>0</th>\n",
       "      <td>7583</td>\n",
       "      <td>5.0</td>\n",
       "      <td>0.0</td>\n",
       "      <td>1.0</td>\n",
       "      <td>3</td>\n",
       "      <td>F</td>\n",
       "      <td>1.0</td>\n",
       "      <td>913.623201</td>\n",
       "      <td>Broker</td>\n",
       "      <td>C</td>\n",
       "      <td>Tenant</td>\n",
       "      <td>18.0</td>\n",
       "      <td>medium</td>\n",
       "      <td>blue</td>\n",
       "      <td>35.0</td>\n",
       "      <td>2017</td>\n",
       "      <td>85066.0</td>\n",
       "    </tr>\n",
       "    <tr>\n",
       "      <th>1</th>\n",
       "      <td>7584</td>\n",
       "      <td>15.0</td>\n",
       "      <td>1.0</td>\n",
       "      <td>1.0</td>\n",
       "      <td>4</td>\n",
       "      <td>F</td>\n",
       "      <td>1.0</td>\n",
       "      <td>1018.426114</td>\n",
       "      <td>Phone</td>\n",
       "      <td>A</td>\n",
       "      <td>House</td>\n",
       "      <td>15.0</td>\n",
       "      <td>medium</td>\n",
       "      <td>white</td>\n",
       "      <td>59.0</td>\n",
       "      <td>2017</td>\n",
       "      <td>98013.0</td>\n",
       "    </tr>\n",
       "    <tr>\n",
       "      <th>2</th>\n",
       "      <td>7585</td>\n",
       "      <td>1.0</td>\n",
       "      <td>1.0</td>\n",
       "      <td>3.0</td>\n",
       "      <td>2</td>\n",
       "      <td>M</td>\n",
       "      <td>1.0</td>\n",
       "      <td>928.418533</td>\n",
       "      <td>Broker</td>\n",
       "      <td>B</td>\n",
       "      <td>Condo</td>\n",
       "      <td>13.0</td>\n",
       "      <td>medium</td>\n",
       "      <td>blue</td>\n",
       "      <td>27.0</td>\n",
       "      <td>2017</td>\n",
       "      <td>15049.0</td>\n",
       "    </tr>\n",
       "    <tr>\n",
       "      <th>3</th>\n",
       "      <td>7586</td>\n",
       "      <td>12.0</td>\n",
       "      <td>0.0</td>\n",
       "      <td>4.0</td>\n",
       "      <td>0</td>\n",
       "      <td>M</td>\n",
       "      <td>0.0</td>\n",
       "      <td>877.649917</td>\n",
       "      <td>Broker</td>\n",
       "      <td>B</td>\n",
       "      <td>Condo</td>\n",
       "      <td>19.0</td>\n",
       "      <td>high</td>\n",
       "      <td>blue</td>\n",
       "      <td>35.0</td>\n",
       "      <td>2017</td>\n",
       "      <td>15026.0</td>\n",
       "    </tr>\n",
       "    <tr>\n",
       "      <th>4</th>\n",
       "      <td>7587</td>\n",
       "      <td>11.0</td>\n",
       "      <td>0.0</td>\n",
       "      <td>1.0</td>\n",
       "      <td>9</td>\n",
       "      <td>F</td>\n",
       "      <td>1.0</td>\n",
       "      <td>947.281913</td>\n",
       "      <td>Broker</td>\n",
       "      <td>A</td>\n",
       "      <td>Condo</td>\n",
       "      <td>18.0</td>\n",
       "      <td>high</td>\n",
       "      <td>red</td>\n",
       "      <td>34.0</td>\n",
       "      <td>2017</td>\n",
       "      <td>15025.0</td>\n",
       "    </tr>\n",
       "  </tbody>\n",
       "</table>\n",
       "</div>"
      ],
      "text/plain": [
       "     id  tenure  claim.ind  n.adults  n.children ni.gender  ni.marital.status  \\\n",
       "0  7583     5.0        0.0       1.0           3         F                1.0   \n",
       "1  7584    15.0        1.0       1.0           4         F                1.0   \n",
       "2  7585     1.0        1.0       3.0           2         M                1.0   \n",
       "3  7586    12.0        0.0       4.0           0         M                0.0   \n",
       "4  7587    11.0        0.0       1.0           9         F                1.0   \n",
       "\n",
       "       premium sales.channel coverage.type dwelling.type  len.at.res  credit  \\\n",
       "0   913.623201        Broker             C        Tenant        18.0  medium   \n",
       "1  1018.426114         Phone             A         House        15.0  medium   \n",
       "2   928.418533        Broker             B         Condo        13.0  medium   \n",
       "3   877.649917        Broker             B         Condo        19.0    high   \n",
       "4   947.281913        Broker             A         Condo        18.0    high   \n",
       "\n",
       "  house.color  ni.age  year  zip.code  \n",
       "0        blue    35.0  2017   85066.0  \n",
       "1       white    59.0  2017   98013.0  \n",
       "2        blue    27.0  2017   15049.0  \n",
       "3        blue    35.0  2017   15026.0  \n",
       "4         red    34.0  2017   15025.0  "
      ]
     },
     "execution_count": 89,
     "metadata": {},
     "output_type": "execute_result"
    }
   ],
   "source": [
    "test = pd.read_csv('test.csv')\n",
    "test.head()"
   ]
  },
  {
   "cell_type": "markdown",
   "id": "003a89b6",
   "metadata": {},
   "source": [
    "**2. Test Data Cleaning using custom functions** <br></br>"
   ]
  },
  {
   "cell_type": "code",
   "execution_count": 90,
   "id": "c9437a17",
   "metadata": {},
   "outputs": [],
   "source": [
    "test = rename(df = test, data_type = 'test')\n",
    "test = clean_table(df = test, nulls_dict = values)\n",
    "\n",
    "# Additional cleaning step:\n",
    "test['property'] = test['property'].apply(lambda x: 'house' if x == 'landlord' else x)\n",
    "\n",
    "test = feature_engineering(df = test)\n",
    "test_with_dummies = categorical_encoding(df = test, formula = formula, interaction_cols = inter_cols, dummy_cols = dummy_columns)"
   ]
  },
  {
   "cell_type": "markdown",
   "id": "769fea5c",
   "metadata": {},
   "source": [
    "**3. Prediction**"
   ]
  },
  {
   "cell_type": "code",
   "execution_count": 91,
   "id": "d58dbbb0",
   "metadata": {},
   "outputs": [],
   "source": [
    "drop_columns = ['id', 'zipcode', 'house_color', 'age', 'adults', 'children', 'gender_M', 'premium', 'tenure', 'len_residence']\n",
    "all_columns = set(test_with_dummies.columns)\n",
    "list_X_test = list(all_columns.difference(set(drop_columns)))\n",
    "\n",
    "missing_features = set(list_X).difference(set(list_X_test))\n",
    "for cols in missing_features:\n",
    "    test_with_dummies[cols] = 0\n",
    "    \n",
    "X_test = test_with_dummies[list_X]\n",
    "test['predicted'] = xgbc.predict(X_test)"
   ]
  },
  {
   "cell_type": "markdown",
   "id": "ffa1b851",
   "metadata": {},
   "source": [
    "**4. Export Output**"
   ]
  },
  {
   "cell_type": "code",
   "execution_count": 92,
   "id": "19a17171",
   "metadata": {},
   "outputs": [],
   "source": [
    "#test[['id','predicted']].to_csv('output3.csv')"
   ]
  },
  {
   "cell_type": "code",
   "execution_count": null,
   "id": "b8488161",
   "metadata": {},
   "outputs": [],
   "source": []
  }
 ],
 "metadata": {
  "kernelspec": {
   "display_name": "Python 3",
   "language": "python",
   "name": "python3"
  },
  "language_info": {
   "codemirror_mode": {
    "name": "ipython",
    "version": 3
   },
   "file_extension": ".py",
   "mimetype": "text/x-python",
   "name": "python",
   "nbconvert_exporter": "python",
   "pygments_lexer": "ipython3",
   "version": "3.8.8"
  }
 },
 "nbformat": 4,
 "nbformat_minor": 5
}
