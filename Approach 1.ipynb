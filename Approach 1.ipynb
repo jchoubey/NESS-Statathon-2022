{
 "cells": [
  {
   "cell_type": "markdown",
   "id": "4ac7d0ff",
   "metadata": {},
   "source": [
    "### Import Libraries & Data"
   ]
  },
  {
   "cell_type": "code",
   "execution_count": 487,
   "id": "a8b880c5",
   "metadata": {},
   "outputs": [],
   "source": [
    "import pandas as pd\n",
    "import numpy as np\n",
    "import matplotlib.pyplot as plt\n",
    "import seaborn as sns\n",
    "import scipy.stats as stats"
   ]
  },
  {
   "cell_type": "code",
   "execution_count": 488,
   "id": "874f4387",
   "metadata": {},
   "outputs": [],
   "source": [
    "df = pd.read_csv('train.csv')\n",
    "df.drop(columns = 'id', inplace = True)"
   ]
  },
  {
   "cell_type": "markdown",
   "id": "0de22b0c",
   "metadata": {},
   "source": [
    "  "
   ]
  },
  {
   "cell_type": "markdown",
   "id": "39b07e7b",
   "metadata": {},
   "source": [
    "  "
   ]
  },
  {
   "cell_type": "markdown",
   "id": "795ce26f",
   "metadata": {},
   "source": [
    "  "
   ]
  },
  {
   "cell_type": "markdown",
   "id": "12d24cb1",
   "metadata": {},
   "source": [
    "  "
   ]
  },
  {
   "cell_type": "markdown",
   "id": "28bf05cc",
   "metadata": {},
   "source": [
    "# A. DATA CLEANING"
   ]
  },
  {
   "cell_type": "markdown",
   "id": "5c3f3b44",
   "metadata": {},
   "source": [
    "#### Clean Response Variable"
   ]
  },
  {
   "cell_type": "code",
   "execution_count": 489,
   "id": "fc7c12f1",
   "metadata": {},
   "outputs": [
    {
     "data": {
      "text/plain": [
       " 0    741064\n",
       " 2    228777\n",
       " 1     75282\n",
       "-1      3452\n",
       "Name: cancel, dtype: int64"
      ]
     },
     "execution_count": 489,
     "metadata": {},
     "output_type": "execute_result"
    }
   ],
   "source": [
    "df['cancel'].value_counts()"
   ]
  },
  {
   "cell_type": "code",
   "execution_count": 490,
   "id": "1473cb96",
   "metadata": {},
   "outputs": [
    {
     "data": {
      "text/plain": [
       "0    741064\n",
       "2    228777\n",
       "1     75282\n",
       "Name: cancel, dtype: int64"
      ]
     },
     "execution_count": 490,
     "metadata": {},
     "output_type": "execute_result"
    }
   ],
   "source": [
    "df = df[df['cancel'] != -1]\n",
    "df['cancel'].value_counts()"
   ]
  },
  {
   "cell_type": "markdown",
   "id": "2027de87",
   "metadata": {},
   "source": [
    "#### Clean explanatory Variables"
   ]
  },
  {
   "cell_type": "code",
   "execution_count": 491,
   "id": "d70715e4",
   "metadata": {},
   "outputs": [
    {
     "data": {
      "text/plain": [
       "14466"
      ]
     },
     "execution_count": 491,
     "metadata": {},
     "output_type": "execute_result"
    }
   ],
   "source": [
    "df.isnull().sum().sum()"
   ]
  },
  {
   "cell_type": "code",
   "execution_count": 492,
   "id": "26100be7",
   "metadata": {},
   "outputs": [
    {
     "data": {
      "text/plain": [
       "cancel                  0\n",
       "year                    0\n",
       "zip.code              944\n",
       "house.color           939\n",
       "ni.age               1001\n",
       "len.at.res            960\n",
       "credit                905\n",
       "coverage.type         979\n",
       "dwelling.type         990\n",
       "premium               955\n",
       "sales.channel        1020\n",
       "ni.gender             957\n",
       "ni.marital.status     992\n",
       "n.adults              929\n",
       "n.children            935\n",
       "tenure                978\n",
       "claim.ind             982\n",
       "dtype: int64"
      ]
     },
     "execution_count": 492,
     "metadata": {},
     "output_type": "execute_result"
    }
   ],
   "source": [
    "df.isnull().sum()"
   ]
  },
  {
   "cell_type": "markdown",
   "id": "f20045eb",
   "metadata": {},
   "source": [
    "*We will handle them as and when required.*"
   ]
  },
  {
   "cell_type": "markdown",
   "id": "32681799",
   "metadata": {},
   "source": [
    "#### Primary Features"
   ]
  },
  {
   "cell_type": "code",
   "execution_count": 493,
   "id": "f3b37973",
   "metadata": {},
   "outputs": [
    {
     "name": "stdout",
     "output_type": "stream",
     "text": [
      "1229\n"
     ]
    }
   ],
   "source": [
    "primary_x = ['claim.ind', 'sales.channel','dwelling.type','coverage.type','credit','tenure']\n",
    "count = 0\n",
    "for i in primary_x:\n",
    "    count = count + df.loc[df[i].isnull(),'cancel'].value_counts()[2]\n",
    "print(count)"
   ]
  },
  {
   "cell_type": "markdown",
   "id": "781590c2",
   "metadata": {},
   "source": [
    "We lose out on 1229 cancellations if we drop null records from the primary columns. For now, we will proceed as it is and handle this later."
   ]
  },
  {
   "cell_type": "code",
   "execution_count": 494,
   "id": "8bf28ae5",
   "metadata": {},
   "outputs": [],
   "source": [
    "# Drop null records for a primary set of features\n",
    "df.dropna(axis = 0, subset = primary_x, inplace = True)\n",
    "\n",
    "# Impute missing premiums as median of premiums:\n",
    "df['premium'] = df['premium'].fillna(df['premium'].mean())\n",
    "\n",
    "# Change Data Type:\n",
    "df['cancel'] = df['cancel'].astype('category')\n",
    "df['claim.ind'] = df['claim.ind'].astype('int')\n",
    "df['tenure'] = df['tenure'].astype('int')\n",
    "df['sales.channel'] = df['sales.channel'].astype('category')\n",
    "df['dwelling.type'] = df['dwelling.type'].astype('category')\n",
    "df['coverage.type'] = df['coverage.type'].astype('category')\n",
    "df['credit'] = df['credit'].astype('category')\n",
    "df['year'] = df['year'].astype('category')\n",
    "\n",
    "# Create corrected columns for plotting purposes:\n",
    "df['claim'] = df['claim.ind'].apply(lambda x: 'Y' if x == 1 else 'N')"
   ]
  },
  {
   "cell_type": "code",
   "execution_count": 495,
   "id": "4eac8985",
   "metadata": {},
   "outputs": [
    {
     "data": {
      "text/plain": [
       "cancel                 0\n",
       "year                   0\n",
       "zip.code             940\n",
       "house.color          931\n",
       "ni.age               998\n",
       "len.at.res           958\n",
       "credit                 0\n",
       "coverage.type          0\n",
       "dwelling.type          0\n",
       "premium                0\n",
       "sales.channel          0\n",
       "ni.gender            949\n",
       "ni.marital.status    988\n",
       "n.adults             927\n",
       "n.children           931\n",
       "tenure                 0\n",
       "claim.ind              0\n",
       "claim                  0\n",
       "dtype: int64"
      ]
     },
     "execution_count": 495,
     "metadata": {},
     "output_type": "execute_result"
    }
   ],
   "source": [
    "df.isnull().sum()"
   ]
  },
  {
   "cell_type": "markdown",
   "id": "d4b5d205",
   "metadata": {},
   "source": [
    "#### Secondary Features"
   ]
  },
  {
   "cell_type": "code",
   "execution_count": 496,
   "id": "c4e381b1",
   "metadata": {},
   "outputs": [
    {
     "name": "stdout",
     "output_type": "stream",
     "text": [
      "249\n"
     ]
    }
   ],
   "source": [
    "secondary_x = ['ni.gender','ni.marital.status','n.adults','n.children']\n",
    "count = 0\n",
    "for i in secondary_x:\n",
    "    count = count + df.loc[df[i].isnull(),'cancel'].value_counts()[2]\n",
    "print(count)"
   ]
  },
  {
   "cell_type": "markdown",
   "id": "310c8aa0",
   "metadata": {},
   "source": [
    "We lose out on 249 cancellations if we drop null records from the secondary columns. For now, we will proceed as it is and handle this later."
   ]
  },
  {
   "cell_type": "code",
   "execution_count": 497,
   "id": "8c172d53",
   "metadata": {},
   "outputs": [],
   "source": [
    "# Drop null records for a primary set of features\n",
    "df.dropna(axis = 0, subset = secondary_x, inplace = True)\n",
    "\n",
    "# Change Data Type:\n",
    "df['ni.marital.status'] = df['ni.marital.status'].astype('int').astype('category')\n",
    "df['n.adults'] = df['n.adults'].astype('int')\n",
    "df['n.children'] = df['n.children'].astype('int')\n",
    "df['ni.gender'] = df['ni.gender'].astype('category')\n",
    "\n",
    "# Create corrected columns for plotting purposes:\n",
    "df['married'] = df['ni.marital.status'].apply(lambda x: 'Y' if x == 1 else 'N')"
   ]
  },
  {
   "cell_type": "code",
   "execution_count": 498,
   "id": "6777f681",
   "metadata": {},
   "outputs": [
    {
     "data": {
      "text/plain": [
       "cancel                 0\n",
       "year                   0\n",
       "zip.code             933\n",
       "house.color          925\n",
       "ni.age               994\n",
       "len.at.res           955\n",
       "credit                 0\n",
       "coverage.type          0\n",
       "dwelling.type          0\n",
       "premium                0\n",
       "sales.channel          0\n",
       "ni.gender              0\n",
       "ni.marital.status      0\n",
       "n.adults               0\n",
       "n.children             0\n",
       "tenure                 0\n",
       "claim.ind              0\n",
       "claim                  0\n",
       "married                0\n",
       "dtype: int64"
      ]
     },
     "execution_count": 498,
     "metadata": {},
     "output_type": "execute_result"
    }
   ],
   "source": [
    "df.isnull().sum()"
   ]
  },
  {
   "cell_type": "markdown",
   "id": "bead22b6",
   "metadata": {},
   "source": [
    "#### Tertiary Features"
   ]
  },
  {
   "cell_type": "code",
   "execution_count": 499,
   "id": "6e34ad62",
   "metadata": {},
   "outputs": [
    {
     "name": "stdout",
     "output_type": "stream",
     "text": [
      "202\n"
     ]
    }
   ],
   "source": [
    "tertiary_x = ['zip.code','ni.age','len.at.res']\n",
    "count = 0\n",
    "for i in tertiary_x:\n",
    "    count = count + df.loc[df[i].isnull(),'cancel'].value_counts()[2]\n",
    "print(count)"
   ]
  },
  {
   "cell_type": "markdown",
   "id": "125d5372",
   "metadata": {},
   "source": [
    "We lose out on 202 cancellations if we drop null records from the tertiary columns. For now, we will proceed as it is and handle this later."
   ]
  },
  {
   "cell_type": "code",
   "execution_count": 500,
   "id": "dd41a151",
   "metadata": {},
   "outputs": [],
   "source": [
    "# Drop null records for a primary set of features\n",
    "df.dropna(axis = 0, subset = tertiary_x, inplace = True)\n",
    "\n",
    "# Change Data Type:\n",
    "df['zip.code'] = df['zip.code'].astype('int').astype('str')"
   ]
  },
  {
   "cell_type": "code",
   "execution_count": 501,
   "id": "b17d6137",
   "metadata": {},
   "outputs": [
    {
     "data": {
      "text/plain": [
       "cancel                 0\n",
       "year                   0\n",
       "zip.code               0\n",
       "house.color          924\n",
       "ni.age                 0\n",
       "len.at.res             0\n",
       "credit                 0\n",
       "coverage.type          0\n",
       "dwelling.type          0\n",
       "premium                0\n",
       "sales.channel          0\n",
       "ni.gender              0\n",
       "ni.marital.status      0\n",
       "n.adults               0\n",
       "n.children             0\n",
       "tenure                 0\n",
       "claim.ind              0\n",
       "claim                  0\n",
       "married                0\n",
       "dtype: int64"
      ]
     },
     "execution_count": 501,
     "metadata": {},
     "output_type": "execute_result"
    }
   ],
   "source": [
    "df.isnull().sum()"
   ]
  },
  {
   "cell_type": "code",
   "execution_count": 502,
   "id": "2c134150",
   "metadata": {},
   "outputs": [
    {
     "data": {
      "text/html": [
       "<div>\n",
       "<style scoped>\n",
       "    .dataframe tbody tr th:only-of-type {\n",
       "        vertical-align: middle;\n",
       "    }\n",
       "\n",
       "    .dataframe tbody tr th {\n",
       "        vertical-align: top;\n",
       "    }\n",
       "\n",
       "    .dataframe thead th {\n",
       "        text-align: right;\n",
       "    }\n",
       "</style>\n",
       "<table border=\"1\" class=\"dataframe\">\n",
       "  <thead>\n",
       "    <tr style=\"text-align: right;\">\n",
       "      <th></th>\n",
       "      <th>cancel</th>\n",
       "      <th>year</th>\n",
       "      <th>zip.code</th>\n",
       "      <th>house.color</th>\n",
       "      <th>ni.age</th>\n",
       "      <th>len.at.res</th>\n",
       "      <th>credit</th>\n",
       "      <th>coverage.type</th>\n",
       "      <th>dwelling.type</th>\n",
       "      <th>premium</th>\n",
       "      <th>sales.channel</th>\n",
       "      <th>ni.gender</th>\n",
       "      <th>ni.marital.status</th>\n",
       "      <th>n.adults</th>\n",
       "      <th>n.children</th>\n",
       "      <th>tenure</th>\n",
       "      <th>claim.ind</th>\n",
       "      <th>claim</th>\n",
       "      <th>married</th>\n",
       "    </tr>\n",
       "  </thead>\n",
       "  <tbody>\n",
       "    <tr>\n",
       "      <th>0</th>\n",
       "      <td>0</td>\n",
       "      <td>2013</td>\n",
       "      <td>98004</td>\n",
       "      <td>blue</td>\n",
       "      <td>37.0</td>\n",
       "      <td>18.000000</td>\n",
       "      <td>high</td>\n",
       "      <td>C</td>\n",
       "      <td>Tenant</td>\n",
       "      <td>950.507336</td>\n",
       "      <td>Broker</td>\n",
       "      <td>F</td>\n",
       "      <td>0</td>\n",
       "      <td>2</td>\n",
       "      <td>0</td>\n",
       "      <td>15</td>\n",
       "      <td>0</td>\n",
       "      <td>N</td>\n",
       "      <td>N</td>\n",
       "    </tr>\n",
       "    <tr>\n",
       "      <th>1</th>\n",
       "      <td>0</td>\n",
       "      <td>2013</td>\n",
       "      <td>85017</td>\n",
       "      <td>white</td>\n",
       "      <td>40.0</td>\n",
       "      <td>17.000000</td>\n",
       "      <td>medium</td>\n",
       "      <td>A</td>\n",
       "      <td>Condo</td>\n",
       "      <td>909.346046</td>\n",
       "      <td>Broker</td>\n",
       "      <td>F</td>\n",
       "      <td>1</td>\n",
       "      <td>5</td>\n",
       "      <td>0</td>\n",
       "      <td>15</td>\n",
       "      <td>0</td>\n",
       "      <td>N</td>\n",
       "      <td>Y</td>\n",
       "    </tr>\n",
       "    <tr>\n",
       "      <th>2</th>\n",
       "      <td>0</td>\n",
       "      <td>2013</td>\n",
       "      <td>80021</td>\n",
       "      <td>white</td>\n",
       "      <td>45.0</td>\n",
       "      <td>14.000000</td>\n",
       "      <td>high</td>\n",
       "      <td>A</td>\n",
       "      <td>House</td>\n",
       "      <td>897.084502</td>\n",
       "      <td>Phone</td>\n",
       "      <td>M</td>\n",
       "      <td>0</td>\n",
       "      <td>1</td>\n",
       "      <td>0</td>\n",
       "      <td>14</td>\n",
       "      <td>0</td>\n",
       "      <td>N</td>\n",
       "      <td>N</td>\n",
       "    </tr>\n",
       "    <tr>\n",
       "      <th>3</th>\n",
       "      <td>0</td>\n",
       "      <td>2013</td>\n",
       "      <td>85002</td>\n",
       "      <td>red</td>\n",
       "      <td>45.0</td>\n",
       "      <td>24.366136</td>\n",
       "      <td>high</td>\n",
       "      <td>A</td>\n",
       "      <td>House</td>\n",
       "      <td>979.039007</td>\n",
       "      <td>Phone</td>\n",
       "      <td>M</td>\n",
       "      <td>0</td>\n",
       "      <td>5</td>\n",
       "      <td>0</td>\n",
       "      <td>22</td>\n",
       "      <td>1</td>\n",
       "      <td>Y</td>\n",
       "      <td>N</td>\n",
       "    </tr>\n",
       "    <tr>\n",
       "      <th>4</th>\n",
       "      <td>0</td>\n",
       "      <td>2013</td>\n",
       "      <td>50001</td>\n",
       "      <td>yellow</td>\n",
       "      <td>36.0</td>\n",
       "      <td>16.000000</td>\n",
       "      <td>high</td>\n",
       "      <td>C</td>\n",
       "      <td>House</td>\n",
       "      <td>932.379027</td>\n",
       "      <td>Broker</td>\n",
       "      <td>M</td>\n",
       "      <td>1</td>\n",
       "      <td>2</td>\n",
       "      <td>4</td>\n",
       "      <td>4</td>\n",
       "      <td>0</td>\n",
       "      <td>N</td>\n",
       "      <td>Y</td>\n",
       "    </tr>\n",
       "  </tbody>\n",
       "</table>\n",
       "</div>"
      ],
      "text/plain": [
       "  cancel  year zip.code house.color  ni.age  len.at.res  credit coverage.type  \\\n",
       "0      0  2013    98004        blue    37.0   18.000000    high             C   \n",
       "1      0  2013    85017       white    40.0   17.000000  medium             A   \n",
       "2      0  2013    80021       white    45.0   14.000000    high             A   \n",
       "3      0  2013    85002         red    45.0   24.366136    high             A   \n",
       "4      0  2013    50001      yellow    36.0   16.000000    high             C   \n",
       "\n",
       "  dwelling.type     premium sales.channel ni.gender ni.marital.status  \\\n",
       "0        Tenant  950.507336        Broker         F                 0   \n",
       "1         Condo  909.346046        Broker         F                 1   \n",
       "2         House  897.084502         Phone         M                 0   \n",
       "3         House  979.039007         Phone         M                 0   \n",
       "4         House  932.379027        Broker         M                 1   \n",
       "\n",
       "   n.adults  n.children  tenure  claim.ind claim married  \n",
       "0         2           0      15          0     N       N  \n",
       "1         5           0      15          0     N       Y  \n",
       "2         1           0      14          0     N       N  \n",
       "3         5           0      22          1     Y       N  \n",
       "4         2           4       4          0     N       Y  "
      ]
     },
     "execution_count": 502,
     "metadata": {},
     "output_type": "execute_result"
    }
   ],
   "source": [
    "df.head()"
   ]
  },
  {
   "cell_type": "markdown",
   "id": "a2e244c3",
   "metadata": {},
   "source": [
    "  "
   ]
  },
  {
   "cell_type": "markdown",
   "id": "934b18a7",
   "metadata": {},
   "source": [
    "  "
   ]
  },
  {
   "cell_type": "markdown",
   "id": "093902a8",
   "metadata": {},
   "source": [
    "  "
   ]
  },
  {
   "cell_type": "markdown",
   "id": "7770301a",
   "metadata": {},
   "source": [
    "  "
   ]
  },
  {
   "cell_type": "markdown",
   "id": "6dd8ec0a",
   "metadata": {},
   "source": [
    "# B. HYPOTHESIS TESTING - Single Features v/s. Response"
   ]
  },
  {
   "cell_type": "markdown",
   "id": "6e604343",
   "metadata": {},
   "source": [
    "### Categorical Features: Proportion across Response Categories (0/1/2)"
   ]
  },
  {
   "cell_type": "markdown",
   "id": "1287d554",
   "metadata": {},
   "source": [
    "#### 1. Credit"
   ]
  },
  {
   "cell_type": "code",
   "execution_count": 443,
   "id": "2b58be8d",
   "metadata": {},
   "outputs": [
    {
     "data": {
      "image/png": "[encoded data removed]",
      "text/plain": [
       "<Figure size 2160x360 with 4 Axes>"
      ]
     },
     "metadata": {
      "needs_background": "light"
     },
     "output_type": "display_data"
    }
   ],
   "source": [
    "dt = pd.DataFrame(df['credit'].value_counts(normalize = True))\n",
    "dt2 = pd.crosstab(df['credit'],df['cancel'], normalize = 'columns')\n",
    "order = ['high','medium','low']\n",
    "\n",
    "fig, ax = plt.subplots(nrows = 1, ncols = 4, figsize = (30,5))\n",
    "sns.barplot(x = dt.index, y = 'credit', order = order, data = dt, ax = ax[0])\n",
    "sns.barplot(x = dt2.index, y = 0, data = dt2, order = order, ax = ax[1])\n",
    "sns.barplot(x = dt2.index, y = 1, data = dt2, order = order, ax = ax[2])\n",
    "sns.barplot(x = dt2.index, y = 2, data = dt2, order = order,ax = ax[3])\n",
    "plt.show()"
   ]
  },
  {
   "cell_type": "markdown",
   "id": "6eae9bf6",
   "metadata": {},
   "source": [
    "There is clear effect of credit level on policy cancellations!!"
   ]
  },
  {
   "cell_type": "code",
   "execution_count": 444,
   "id": "5e82b3b2",
   "metadata": {},
   "outputs": [
    {
     "data": {
      "text/html": [
       "<div>\n",
       "<style scoped>\n",
       "    .dataframe tbody tr th:only-of-type {\n",
       "        vertical-align: middle;\n",
       "    }\n",
       "\n",
       "    .dataframe tbody tr th {\n",
       "        vertical-align: top;\n",
       "    }\n",
       "\n",
       "    .dataframe thead th {\n",
       "        text-align: right;\n",
       "    }\n",
       "</style>\n",
       "<table border=\"1\" class=\"dataframe\">\n",
       "  <thead>\n",
       "    <tr style=\"text-align: right;\">\n",
       "      <th>cancel</th>\n",
       "      <th>0</th>\n",
       "      <th>1</th>\n",
       "      <th>2</th>\n",
       "    </tr>\n",
       "    <tr>\n",
       "      <th>credit</th>\n",
       "      <th></th>\n",
       "      <th></th>\n",
       "      <th></th>\n",
       "    </tr>\n",
       "  </thead>\n",
       "  <tbody>\n",
       "    <tr>\n",
       "      <th>high</th>\n",
       "      <td>505229</td>\n",
       "      <td>30648</td>\n",
       "      <td>102186</td>\n",
       "    </tr>\n",
       "    <tr>\n",
       "      <th>low</th>\n",
       "      <td>81449</td>\n",
       "      <td>19533</td>\n",
       "      <td>68276</td>\n",
       "    </tr>\n",
       "    <tr>\n",
       "      <th>medium</th>\n",
       "      <td>145465</td>\n",
       "      <td>24206</td>\n",
       "      <td>55633</td>\n",
       "    </tr>\n",
       "  </tbody>\n",
       "</table>\n",
       "</div>"
      ],
      "text/plain": [
       "cancel       0      1       2\n",
       "credit                       \n",
       "high    505229  30648  102186\n",
       "low      81449  19533   68276\n",
       "medium  145465  24206   55633"
      ]
     },
     "execution_count": 444,
     "metadata": {},
     "output_type": "execute_result"
    }
   ],
   "source": [
    "dt2 = pd.crosstab(df['credit'],df['cancel'])\n",
    "dt2"
   ]
  },
  {
   "cell_type": "code",
   "execution_count": 445,
   "id": "dc94fc1a",
   "metadata": {},
   "outputs": [
    {
     "data": {
      "text/plain": [
       "(70453.05578905804,\n",
       " 0.0,\n",
       " 4,\n",
       " array([[452394.00460864,  45964.01634766, 139704.9790437 ],\n",
       "        [120005.86843627,  12192.80459605,  37059.32696768],\n",
       "        [159743.12695509,  16230.17905629,  49330.69398862]]))"
      ]
     },
     "execution_count": 445,
     "metadata": {},
     "output_type": "execute_result"
    }
   ],
   "source": [
    "stats.chi2_contingency(observed = dt2)"
   ]
  },
  {
   "cell_type": "markdown",
   "id": "7dd76455",
   "metadata": {},
   "source": [
    "#### 2. Claim"
   ]
  },
  {
   "cell_type": "code",
   "execution_count": 446,
   "id": "3642178f",
   "metadata": {},
   "outputs": [
    {
     "data": {
      "image/png": "[encoded data removed]",
      "text/plain": [
       "<Figure size 2160x360 with 4 Axes>"
      ]
     },
     "metadata": {
      "needs_background": "light"
     },
     "output_type": "display_data"
    }
   ],
   "source": [
    "dt = pd.DataFrame(df['claim'].value_counts(normalize = True))\n",
    "dt2 = pd.crosstab(df['claim'],df['cancel'], normalize = 'columns')\n",
    "order = ['N', 'Y']\n",
    "\n",
    "fig, ax = plt.subplots(nrows = 1, ncols = 4, figsize = (30,5))\n",
    "sns.barplot(x = dt.index, y = 'claim', order = order, data = dt, ax = ax[0])\n",
    "sns.barplot(x = dt2.index, y = 0, order = order, data = dt2, ax = ax[1])\n",
    "sns.barplot(x = dt2.index, y = 1, order = order, data = dt2, ax = ax[2])\n",
    "sns.barplot(x = dt2.index, y = 2, order = order, data = dt2, ax = ax[3])\n",
    "plt.show()"
   ]
  },
  {
   "cell_type": "markdown",
   "id": "e8cb012c",
   "metadata": {},
   "source": [
    "The proportion of claims is slightly less for retained policies. Still, Run Chi-Sq test of proportionality"
   ]
  },
  {
   "cell_type": "code",
   "execution_count": 447,
   "id": "f0566b02",
   "metadata": {},
   "outputs": [
    {
     "data": {
      "text/html": [
       "<div>\n",
       "<style scoped>\n",
       "    .dataframe tbody tr th:only-of-type {\n",
       "        vertical-align: middle;\n",
       "    }\n",
       "\n",
       "    .dataframe tbody tr th {\n",
       "        vertical-align: top;\n",
       "    }\n",
       "\n",
       "    .dataframe thead th {\n",
       "        text-align: right;\n",
       "    }\n",
       "</style>\n",
       "<table border=\"1\" class=\"dataframe\">\n",
       "  <thead>\n",
       "    <tr style=\"text-align: right;\">\n",
       "      <th>cancel</th>\n",
       "      <th>0</th>\n",
       "      <th>1</th>\n",
       "      <th>2</th>\n",
       "    </tr>\n",
       "    <tr>\n",
       "      <th>claim</th>\n",
       "      <th></th>\n",
       "      <th></th>\n",
       "      <th></th>\n",
       "    </tr>\n",
       "  </thead>\n",
       "  <tbody>\n",
       "    <tr>\n",
       "      <th>N</th>\n",
       "      <td>599479</td>\n",
       "      <td>55682</td>\n",
       "      <td>171298</td>\n",
       "    </tr>\n",
       "    <tr>\n",
       "      <th>Y</th>\n",
       "      <td>132664</td>\n",
       "      <td>18705</td>\n",
       "      <td>54797</td>\n",
       "    </tr>\n",
       "  </tbody>\n",
       "</table>\n",
       "</div>"
      ],
      "text/plain": [
       "cancel       0      1       2\n",
       "claim                        \n",
       "N       599479  55682  171298\n",
       "Y       132664  18705   54797"
      ]
     },
     "execution_count": 447,
     "metadata": {},
     "output_type": "execute_result"
    }
   ],
   "source": [
    "dt2 = pd.crosstab(df['claim'],df['cancel'])\n",
    "dt2"
   ]
  },
  {
   "cell_type": "code",
   "execution_count": 448,
   "id": "9b3b6343",
   "metadata": {},
   "outputs": [
    {
     "data": {
      "text/plain": [
       "(5390.505038853105,\n",
       " 0.0,\n",
       " 2,\n",
       " array([[585968.93512843,  59535.46121099, 180954.60366057],\n",
       "        [146174.06487157,  14851.53878901,  45140.39633943]]))"
      ]
     },
     "execution_count": 448,
     "metadata": {},
     "output_type": "execute_result"
    }
   ],
   "source": [
    "stats.chi2_contingency(observed = dt2)"
   ]
  },
  {
   "cell_type": "markdown",
   "id": "11fc3800",
   "metadata": {},
   "source": [
    "#### 3. Coverage Type"
   ]
  },
  {
   "cell_type": "code",
   "execution_count": 449,
   "id": "4162ca41",
   "metadata": {},
   "outputs": [
    {
     "data": {
      "image/png": "[encoded data removed]",
      "text/plain": [
       "<Figure size 2160x360 with 4 Axes>"
      ]
     },
     "metadata": {
      "needs_background": "light"
     },
     "output_type": "display_data"
    }
   ],
   "source": [
    "dt = pd.DataFrame(df['coverage.type'].value_counts(normalize = True))\n",
    "dt2 = pd.crosstab(df['coverage.type'],df['cancel'], normalize = 'columns')\n",
    "order = ['A', 'B', 'C']\n",
    "\n",
    "fig, ax = plt.subplots(nrows = 1, ncols = 4, figsize = (30,5))\n",
    "sns.barplot(x = dt.index, y = 'coverage.type', order = order, data = dt, ax = ax[0])\n",
    "sns.barplot(x = dt2.index, y = 0, order = order, data = dt2, ax = ax[1])\n",
    "sns.barplot(x = dt2.index, y = 1, order = order, data = dt2, ax = ax[2])\n",
    "sns.barplot(x = dt2.index, y = 2, order = order, data = dt2, ax = ax[3])\n",
    "plt.show()"
   ]
  },
  {
   "cell_type": "markdown",
   "id": "2dbda7b7",
   "metadata": {},
   "source": [
    "Doesn't look like Coverage type is very different between cancelled & retained.\n",
    "\n",
    "Still, we may want to run Chi-Sq tests"
   ]
  },
  {
   "cell_type": "code",
   "execution_count": 450,
   "id": "e624c46d",
   "metadata": {},
   "outputs": [
    {
     "data": {
      "text/html": [
       "<div>\n",
       "<style scoped>\n",
       "    .dataframe tbody tr th:only-of-type {\n",
       "        vertical-align: middle;\n",
       "    }\n",
       "\n",
       "    .dataframe tbody tr th {\n",
       "        vertical-align: top;\n",
       "    }\n",
       "\n",
       "    .dataframe thead th {\n",
       "        text-align: right;\n",
       "    }\n",
       "</style>\n",
       "<table border=\"1\" class=\"dataframe\">\n",
       "  <thead>\n",
       "    <tr style=\"text-align: right;\">\n",
       "      <th>cancel</th>\n",
       "      <th>0</th>\n",
       "      <th>1</th>\n",
       "      <th>2</th>\n",
       "    </tr>\n",
       "    <tr>\n",
       "      <th>coverage.type</th>\n",
       "      <th></th>\n",
       "      <th></th>\n",
       "      <th></th>\n",
       "    </tr>\n",
       "  </thead>\n",
       "  <tbody>\n",
       "    <tr>\n",
       "      <th>A</th>\n",
       "      <td>253846</td>\n",
       "      <td>24121</td>\n",
       "      <td>73584</td>\n",
       "    </tr>\n",
       "    <tr>\n",
       "      <th>B</th>\n",
       "      <td>176212</td>\n",
       "      <td>17699</td>\n",
       "      <td>53914</td>\n",
       "    </tr>\n",
       "    <tr>\n",
       "      <th>C</th>\n",
       "      <td>302085</td>\n",
       "      <td>32567</td>\n",
       "      <td>98597</td>\n",
       "    </tr>\n",
       "  </tbody>\n",
       "</table>\n",
       "</div>"
      ],
      "text/plain": [
       "cancel              0      1      2\n",
       "coverage.type                      \n",
       "A              253846  24121  73584\n",
       "B              176212  17699  53914\n",
       "C              302085  32567  98597"
      ]
     },
     "execution_count": 450,
     "metadata": {},
     "output_type": "execute_result"
    }
   ],
   "source": [
    "dt2 = pd.crosstab(df['coverage.type'],df['cancel'])\n",
    "dt2"
   ]
  },
  {
   "cell_type": "code",
   "execution_count": 451,
   "id": "d6c4f11b",
   "metadata": {},
   "outputs": [
    {
     "data": {
      "text/plain": [
       "(586.6195816656519,\n",
       " 1.2189364476557307e-125,\n",
       " 4,\n",
       " array([[249253.70177267,  25324.60887253,  76972.6893548 ],\n",
       "        [175710.7749425 ,  17852.519816  ,  54261.7052415 ],\n",
       "        [307178.52328483,  31209.87131146,  94860.6054037 ]]))"
      ]
     },
     "execution_count": 451,
     "metadata": {},
     "output_type": "execute_result"
    }
   ],
   "source": [
    "stats.chi2_contingency(observed = dt2)"
   ]
  },
  {
   "cell_type": "markdown",
   "id": "89cb8897",
   "metadata": {},
   "source": [
    "#### 4. Sales Channel"
   ]
  },
  {
   "cell_type": "code",
   "execution_count": 452,
   "id": "d11687f1",
   "metadata": {},
   "outputs": [
    {
     "data": {
      "image/png": "[encoded data removed]",
      "text/plain": [
       "<Figure size 2160x360 with 4 Axes>"
      ]
     },
     "metadata": {
      "needs_background": "light"
     },
     "output_type": "display_data"
    }
   ],
   "source": [
    "dt = pd.DataFrame(df['sales.channel'].value_counts(normalize = True))\n",
    "dt2 = pd.crosstab(df['sales.channel'],df['cancel'], normalize = 'columns')\n",
    "order = ['Broker', 'Phone', 'Online']\n",
    "\n",
    "fig, ax = plt.subplots(nrows = 1, ncols = 4, figsize = (30,5))\n",
    "sns.barplot(x = dt.index, y = 'sales.channel', order = order, data = dt, ax = ax[0])\n",
    "sns.barplot(x = dt2.index, y = 0, order = order, data = dt2, ax = ax[1])\n",
    "sns.barplot(x = dt2.index, y = 1, order = order, data = dt2, ax = ax[2])\n",
    "sns.barplot(x = dt2.index, y = 2, order = order, data = dt2, ax = ax[3])\n",
    "plt.show()"
   ]
  },
  {
   "cell_type": "markdown",
   "id": "0da29fda",
   "metadata": {},
   "source": [
    "OMG!! There is clear effect of Sales Channel on Policies getting cancelled or retained!\n",
    "\n",
    "Still, run chi-sq test of independence if want."
   ]
  },
  {
   "cell_type": "code",
   "execution_count": 453,
   "id": "c9257b8f",
   "metadata": {},
   "outputs": [
    {
     "data": {
      "text/html": [
       "<div>\n",
       "<style scoped>\n",
       "    .dataframe tbody tr th:only-of-type {\n",
       "        vertical-align: middle;\n",
       "    }\n",
       "\n",
       "    .dataframe tbody tr th {\n",
       "        vertical-align: top;\n",
       "    }\n",
       "\n",
       "    .dataframe thead th {\n",
       "        text-align: right;\n",
       "    }\n",
       "</style>\n",
       "<table border=\"1\" class=\"dataframe\">\n",
       "  <thead>\n",
       "    <tr style=\"text-align: right;\">\n",
       "      <th>cancel</th>\n",
       "      <th>0</th>\n",
       "      <th>1</th>\n",
       "      <th>2</th>\n",
       "    </tr>\n",
       "    <tr>\n",
       "      <th>sales.channel</th>\n",
       "      <th></th>\n",
       "      <th></th>\n",
       "      <th></th>\n",
       "    </tr>\n",
       "  </thead>\n",
       "  <tbody>\n",
       "    <tr>\n",
       "      <th>Broker</th>\n",
       "      <td>470609</td>\n",
       "      <td>30310</td>\n",
       "      <td>99297</td>\n",
       "    </tr>\n",
       "    <tr>\n",
       "      <th>Online</th>\n",
       "      <td>54759</td>\n",
       "      <td>8311</td>\n",
       "      <td>24724</td>\n",
       "    </tr>\n",
       "    <tr>\n",
       "      <th>Phone</th>\n",
       "      <td>206775</td>\n",
       "      <td>35766</td>\n",
       "      <td>102074</td>\n",
       "    </tr>\n",
       "  </tbody>\n",
       "</table>\n",
       "</div>"
      ],
      "text/plain": [
       "cancel              0      1       2\n",
       "sales.channel                       \n",
       "Broker         470609  30310   99297\n",
       "Online          54759   8311   24724\n",
       "Phone          206775  35766  102074"
      ]
     },
     "execution_count": 453,
     "metadata": {},
     "output_type": "execute_result"
    }
   ],
   "source": [
    "dt2 = pd.crosstab(df['sales.channel'],df['cancel'])\n",
    "dt2"
   ]
  },
  {
   "cell_type": "code",
   "execution_count": 454,
   "id": "caf4b226",
   "metadata": {},
   "outputs": [
    {
     "data": {
      "text/plain": [
       "(39571.951279043744,\n",
       " 0.0,\n",
       " 4,\n",
       " array([[425560.04637502,  43237.63960005, 131418.31402494],\n",
       "        [ 62246.95561506,   6324.39876819,  19222.64561675],\n",
       "        [244335.99800993,  24824.96163176,  75454.04035831]]))"
      ]
     },
     "execution_count": 454,
     "metadata": {},
     "output_type": "execute_result"
    }
   ],
   "source": [
    "stats.chi2_contingency(observed = dt2)"
   ]
  },
  {
   "cell_type": "markdown",
   "id": "1063d39d",
   "metadata": {},
   "source": [
    "#### 5. Dwelling Type"
   ]
  },
  {
   "cell_type": "code",
   "execution_count": 455,
   "id": "bf64ba46",
   "metadata": {},
   "outputs": [
    {
     "data": {
      "image/png": "[encoded data removed]",
      "text/plain": [
       "<Figure size 2160x360 with 4 Axes>"
      ]
     },
     "metadata": {
      "needs_background": "light"
     },
     "output_type": "display_data"
    }
   ],
   "source": [
    "dt = pd.DataFrame(df['dwelling.type'].value_counts(normalize = True))\n",
    "dt2 = pd.crosstab(df['dwelling.type'],df['cancel'], normalize = 'columns')\n",
    "order = ['House', 'Condo', 'Tenant']\n",
    "\n",
    "fig, ax = plt.subplots(nrows = 1, ncols = 4, figsize = (30,5))\n",
    "sns.barplot(x = dt.index, y = 'dwelling.type', order = order, data = dt, ax = ax[0])\n",
    "sns.barplot(x = dt2.index, y = 0, order = order, data = dt2, ax = ax[1])\n",
    "sns.barplot(x = dt2.index, y = 1, order = order, data = dt2, ax = ax[2])\n",
    "sns.barplot(x = dt2.index, y = 2, order = order, data = dt2, ax = ax[3])\n",
    "plt.show()"
   ]
  },
  {
   "cell_type": "markdown",
   "id": "1a4265ce",
   "metadata": {},
   "source": [
    "Slightly higher cases of policy cancellation for Condo & Tenant. Still, doesn't say much.\n",
    "\n",
    "Best to run Chi-Sq tests."
   ]
  },
  {
   "cell_type": "code",
   "execution_count": 456,
   "id": "fc7e7706",
   "metadata": {},
   "outputs": [
    {
     "data": {
      "text/html": [
       "<div>\n",
       "<style scoped>\n",
       "    .dataframe tbody tr th:only-of-type {\n",
       "        vertical-align: middle;\n",
       "    }\n",
       "\n",
       "    .dataframe tbody tr th {\n",
       "        vertical-align: top;\n",
       "    }\n",
       "\n",
       "    .dataframe thead th {\n",
       "        text-align: right;\n",
       "    }\n",
       "</style>\n",
       "<table border=\"1\" class=\"dataframe\">\n",
       "  <thead>\n",
       "    <tr style=\"text-align: right;\">\n",
       "      <th>cancel</th>\n",
       "      <th>0</th>\n",
       "      <th>1</th>\n",
       "      <th>2</th>\n",
       "    </tr>\n",
       "    <tr>\n",
       "      <th>dwelling.type</th>\n",
       "      <th></th>\n",
       "      <th></th>\n",
       "      <th></th>\n",
       "    </tr>\n",
       "  </thead>\n",
       "  <tbody>\n",
       "    <tr>\n",
       "      <th>Condo</th>\n",
       "      <td>172679</td>\n",
       "      <td>18976</td>\n",
       "      <td>56824</td>\n",
       "    </tr>\n",
       "    <tr>\n",
       "      <th>House</th>\n",
       "      <td>420013</td>\n",
       "      <td>39069</td>\n",
       "      <td>120404</td>\n",
       "    </tr>\n",
       "    <tr>\n",
       "      <th>Tenant</th>\n",
       "      <td>139451</td>\n",
       "      <td>16342</td>\n",
       "      <td>48867</td>\n",
       "    </tr>\n",
       "  </tbody>\n",
       "</table>\n",
       "</div>"
      ],
      "text/plain": [
       "cancel              0      1       2\n",
       "dwelling.type                       \n",
       "Condo          172679  18976   56824\n",
       "House          420013  39069  120404\n",
       "Tenant         139451  16342   48867"
      ]
     },
     "execution_count": 456,
     "metadata": {},
     "output_type": "execute_result"
    }
   ],
   "source": [
    "dt2 = pd.crosstab(df['dwelling.type'],df['cancel'])\n",
    "dt2"
   ]
  },
  {
   "cell_type": "code",
   "execution_count": 457,
   "id": "9ead7cbe",
   "metadata": {},
   "outputs": [
    {
     "data": {
      "text/plain": [
       "(1708.3961477473645,\n",
       " 0.0,\n",
       " 4,\n",
       " array([[176174.46846338,  17899.63188282,  54404.89965379],\n",
       "        [410862.23798378,  41744.31674809, 126879.44526813],\n",
       "        [145106.29355284,  14743.05136908,  44810.65507808]]))"
      ]
     },
     "execution_count": 457,
     "metadata": {},
     "output_type": "execute_result"
    }
   ],
   "source": [
    "stats.chi2_contingency(observed = dt2)"
   ]
  },
  {
   "cell_type": "markdown",
   "id": "0840b619",
   "metadata": {},
   "source": [
    "#### 6. Year"
   ]
  },
  {
   "cell_type": "code",
   "execution_count": 458,
   "id": "40e82552",
   "metadata": {},
   "outputs": [
    {
     "data": {
      "image/png": "[encoded data removed]",
      "text/plain": [
       "<Figure size 2160x360 with 4 Axes>"
      ]
     },
     "metadata": {
      "needs_background": "light"
     },
     "output_type": "display_data"
    }
   ],
   "source": [
    "dt = pd.DataFrame(df['year'].value_counts(normalize = True))\n",
    "dt2 = pd.crosstab(df['year'],df['cancel'], normalize = 'columns')\n",
    "order = [2013, 2014, 2015, 2016]\n",
    "\n",
    "fig, ax = plt.subplots(nrows = 1, ncols = 4, figsize = (30,5))\n",
    "sns.barplot(x = dt.index, y = 'year', order = order, data = dt, ax = ax[0])\n",
    "sns.barplot(x = dt2.index, y = 0, order = order, data = dt2, ax = ax[1])\n",
    "sns.barplot(x = dt2.index, y = 1, order = order, data = dt2, ax = ax[2])\n",
    "sns.barplot(x = dt2.index, y = 2, order = order, data = dt2, ax = ax[3])\n",
    "plt.show()"
   ]
  },
  {
   "cell_type": "code",
   "execution_count": 459,
   "id": "3f88d252",
   "metadata": {},
   "outputs": [
    {
     "data": {
      "text/html": [
       "<div>\n",
       "<style scoped>\n",
       "    .dataframe tbody tr th:only-of-type {\n",
       "        vertical-align: middle;\n",
       "    }\n",
       "\n",
       "    .dataframe tbody tr th {\n",
       "        vertical-align: top;\n",
       "    }\n",
       "\n",
       "    .dataframe thead th {\n",
       "        text-align: right;\n",
       "    }\n",
       "</style>\n",
       "<table border=\"1\" class=\"dataframe\">\n",
       "  <thead>\n",
       "    <tr style=\"text-align: right;\">\n",
       "      <th>cancel</th>\n",
       "      <th>0</th>\n",
       "      <th>1</th>\n",
       "      <th>2</th>\n",
       "    </tr>\n",
       "    <tr>\n",
       "      <th>year</th>\n",
       "      <th></th>\n",
       "      <th></th>\n",
       "      <th></th>\n",
       "    </tr>\n",
       "  </thead>\n",
       "  <tbody>\n",
       "    <tr>\n",
       "      <th>2013</th>\n",
       "      <td>161411</td>\n",
       "      <td>13737</td>\n",
       "      <td>43219</td>\n",
       "    </tr>\n",
       "    <tr>\n",
       "      <th>2014</th>\n",
       "      <td>158007</td>\n",
       "      <td>21794</td>\n",
       "      <td>64065</td>\n",
       "    </tr>\n",
       "    <tr>\n",
       "      <th>2015</th>\n",
       "      <td>191265</td>\n",
       "      <td>20020</td>\n",
       "      <td>60306</td>\n",
       "    </tr>\n",
       "    <tr>\n",
       "      <th>2016</th>\n",
       "      <td>221460</td>\n",
       "      <td>18836</td>\n",
       "      <td>58505</td>\n",
       "    </tr>\n",
       "  </tbody>\n",
       "</table>\n",
       "</div>"
      ],
      "text/plain": [
       "cancel       0      1      2\n",
       "year                        \n",
       "2013    161411  13737  43219\n",
       "2014    158007  21794  64065\n",
       "2015    191265  20020  60306\n",
       "2016    221460  18836  58505"
      ]
     },
     "execution_count": 459,
     "metadata": {},
     "output_type": "execute_result"
    }
   ],
   "source": [
    "dt2 = pd.crosstab(df['year'],df['cancel'])\n",
    "dt2"
   ]
  },
  {
   "cell_type": "code",
   "execution_count": 460,
   "id": "4b439f10",
   "metadata": {},
   "outputs": [
    {
     "data": {
      "text/plain": [
       "(6940.842587946306,\n",
       " 0.0,\n",
       " 6,\n",
       " array([[154824.71418085,  15730.45977872,  47811.82604043],\n",
       "        [172903.79841472,  17567.3261271 ,  53394.87545818],\n",
       "        [192561.14224719,  19564.54639099,  59465.31136182],\n",
       "        [211853.34515724,  21524.66770318,  65422.98713957]]))"
      ]
     },
     "execution_count": 460,
     "metadata": {},
     "output_type": "execute_result"
    }
   ],
   "source": [
    "stats.chi2_contingency(observed = dt2)"
   ]
  },
  {
   "cell_type": "markdown",
   "id": "532a437d",
   "metadata": {},
   "source": [
    "#### 7. Gender"
   ]
  },
  {
   "cell_type": "code",
   "execution_count": 461,
   "id": "07da1043",
   "metadata": {},
   "outputs": [
    {
     "data": {
      "image/png": "[encoded data removed]",
      "text/plain": [
       "<Figure size 2160x360 with 4 Axes>"
      ]
     },
     "metadata": {
      "needs_background": "light"
     },
     "output_type": "display_data"
    }
   ],
   "source": [
    "dt = pd.DataFrame(df['ni.gender'].value_counts(normalize = True))\n",
    "dt2 = pd.crosstab(df['ni.gender'],df['cancel'], normalize = 'columns')\n",
    "order = ['M','F']\n",
    "\n",
    "fig, ax = plt.subplots(nrows = 1, ncols = 4, figsize = (30,5))\n",
    "sns.barplot(x = dt.index, y = 'ni.gender', order = order, data = dt, ax = ax[0])\n",
    "sns.barplot(x = dt2.index, y = 0, order = order, data = dt2, ax = ax[1])\n",
    "sns.barplot(x = dt2.index, y = 1, order = order, data = dt2, ax = ax[2])\n",
    "sns.barplot(x = dt2.index, y = 2, order = order, data = dt2, ax = ax[3])\n",
    "plt.show()"
   ]
  },
  {
   "cell_type": "code",
   "execution_count": 462,
   "id": "fe48993e",
   "metadata": {},
   "outputs": [
    {
     "data": {
      "text/html": [
       "<div>\n",
       "<style scoped>\n",
       "    .dataframe tbody tr th:only-of-type {\n",
       "        vertical-align: middle;\n",
       "    }\n",
       "\n",
       "    .dataframe tbody tr th {\n",
       "        vertical-align: top;\n",
       "    }\n",
       "\n",
       "    .dataframe thead th {\n",
       "        text-align: right;\n",
       "    }\n",
       "</style>\n",
       "<table border=\"1\" class=\"dataframe\">\n",
       "  <thead>\n",
       "    <tr style=\"text-align: right;\">\n",
       "      <th>cancel</th>\n",
       "      <th>0</th>\n",
       "      <th>1</th>\n",
       "      <th>2</th>\n",
       "    </tr>\n",
       "    <tr>\n",
       "      <th>ni.gender</th>\n",
       "      <th></th>\n",
       "      <th></th>\n",
       "      <th></th>\n",
       "    </tr>\n",
       "  </thead>\n",
       "  <tbody>\n",
       "    <tr>\n",
       "      <th>F</th>\n",
       "      <td>351436</td>\n",
       "      <td>35510</td>\n",
       "      <td>108328</td>\n",
       "    </tr>\n",
       "    <tr>\n",
       "      <th>M</th>\n",
       "      <td>380707</td>\n",
       "      <td>38877</td>\n",
       "      <td>117767</td>\n",
       "    </tr>\n",
       "  </tbody>\n",
       "</table>\n",
       "</div>"
      ],
      "text/plain": [
       "cancel          0      1       2\n",
       "ni.gender                       \n",
       "F          351436  35510  108328\n",
       "M          380707  38877  117767"
      ]
     },
     "execution_count": 462,
     "metadata": {},
     "output_type": "execute_result"
    }
   ],
   "source": [
    "dt2 = pd.crosstab(df['ni.gender'],df['cancel'])\n",
    "dt2"
   ]
  },
  {
   "cell_type": "code",
   "execution_count": 463,
   "id": "a782a417",
   "metadata": {},
   "outputs": [
    {
     "data": {
      "text/plain": [
       "(2.178224730801374,\n",
       " 0.3365150635902832,\n",
       " 2,\n",
       " array([[351154.96156107,  35677.95379542, 108441.08464351],\n",
       "        [380988.03843893,  38709.04620458, 117653.91535649]]))"
      ]
     },
     "execution_count": 463,
     "metadata": {},
     "output_type": "execute_result"
    }
   ],
   "source": [
    "stats.chi2_contingency(observed = dt2)"
   ]
  },
  {
   "cell_type": "markdown",
   "id": "63ab65cb",
   "metadata": {},
   "source": [
    "#### 8. Marital Status"
   ]
  },
  {
   "cell_type": "code",
   "execution_count": 464,
   "id": "fc04d80f",
   "metadata": {},
   "outputs": [
    {
     "data": {
      "image/png": "[encoded data removed]",
      "text/plain": [
       "<Figure size 2160x360 with 4 Axes>"
      ]
     },
     "metadata": {
      "needs_background": "light"
     },
     "output_type": "display_data"
    }
   ],
   "source": [
    "dt = pd.DataFrame(df['married'].value_counts(normalize = True))\n",
    "dt2 = pd.crosstab(df['married'],df['cancel'], normalize = 'columns')\n",
    "order = ['Y','N']\n",
    "\n",
    "fig, ax = plt.subplots(nrows = 1, ncols = 4, figsize = (30,5))\n",
    "sns.barplot(x = dt.index, y = 'married', order = order, data = dt, ax = ax[0])\n",
    "sns.barplot(x = dt2.index, y = 0, order = order, data = dt2, ax = ax[1])\n",
    "sns.barplot(x = dt2.index, y = 1, order = order, data = dt2, ax = ax[2])\n",
    "sns.barplot(x = dt2.index, y = 2, order = order, data = dt2, ax = ax[3])\n",
    "plt.show()"
   ]
  },
  {
   "cell_type": "code",
   "execution_count": 465,
   "id": "9d6dcdaf",
   "metadata": {},
   "outputs": [
    {
     "data": {
      "text/html": [
       "<div>\n",
       "<style scoped>\n",
       "    .dataframe tbody tr th:only-of-type {\n",
       "        vertical-align: middle;\n",
       "    }\n",
       "\n",
       "    .dataframe tbody tr th {\n",
       "        vertical-align: top;\n",
       "    }\n",
       "\n",
       "    .dataframe thead th {\n",
       "        text-align: right;\n",
       "    }\n",
       "</style>\n",
       "<table border=\"1\" class=\"dataframe\">\n",
       "  <thead>\n",
       "    <tr style=\"text-align: right;\">\n",
       "      <th>cancel</th>\n",
       "      <th>0</th>\n",
       "      <th>1</th>\n",
       "      <th>2</th>\n",
       "    </tr>\n",
       "    <tr>\n",
       "      <th>married</th>\n",
       "      <th></th>\n",
       "      <th></th>\n",
       "      <th></th>\n",
       "    </tr>\n",
       "  </thead>\n",
       "  <tbody>\n",
       "    <tr>\n",
       "      <th>N</th>\n",
       "      <td>206197</td>\n",
       "      <td>23716</td>\n",
       "      <td>69623</td>\n",
       "    </tr>\n",
       "    <tr>\n",
       "      <th>Y</th>\n",
       "      <td>525946</td>\n",
       "      <td>50671</td>\n",
       "      <td>156472</td>\n",
       "    </tr>\n",
       "  </tbody>\n",
       "</table>\n",
       "</div>"
      ],
      "text/plain": [
       "cancel        0      1       2\n",
       "married                       \n",
       "N        206197  23716   69623\n",
       "Y        525946  50671  156472"
      ]
     },
     "execution_count": 465,
     "metadata": {},
     "output_type": "execute_result"
    }
   ],
   "source": [
    "dt2 = pd.crosstab(df['married'],df['cancel'])\n",
    "dt2"
   ]
  },
  {
   "cell_type": "code",
   "execution_count": 466,
   "id": "c194006c",
   "metadata": {},
   "outputs": [
    {
     "data": {
      "text/plain": [
       "(902.0062726517632,\n",
       " 1.3546483508074883e-196,\n",
       " 2,\n",
       " array([[212374.46860961,  21577.61475076,  65583.91663963],\n",
       "        [519768.53139039,  52809.38524924, 160511.08336037]]))"
      ]
     },
     "execution_count": 466,
     "metadata": {},
     "output_type": "execute_result"
    }
   ],
   "source": [
    "stats.chi2_contingency(observed = dt2)"
   ]
  },
  {
   "cell_type": "markdown",
   "id": "f02a7909",
   "metadata": {},
   "source": [
    "#### 9. House Color"
   ]
  },
  {
   "cell_type": "code",
   "execution_count": 467,
   "id": "ffbd3ae8",
   "metadata": {},
   "outputs": [
    {
     "data": {
      "image/png": "[encoded data removed]",
      "text/plain": [
       "<Figure size 2160x360 with 4 Axes>"
      ]
     },
     "metadata": {
      "needs_background": "light"
     },
     "output_type": "display_data"
    }
   ],
   "source": [
    "dt = pd.DataFrame(df['house.color'].value_counts(normalize = True))\n",
    "dt2 = pd.crosstab(df['house.color'],df['cancel'], normalize = 'columns')\n",
    "order = ['white','blue','red','yellow']\n",
    "\n",
    "fig, ax = plt.subplots(nrows = 1, ncols = 4, figsize = (30,5))\n",
    "sns.barplot(x = dt.index, y = 'house.color', order = order, data = dt, ax = ax[0])\n",
    "sns.barplot(x = dt2.index, y = 0, order = order, data = dt2, ax = ax[1])\n",
    "sns.barplot(x = dt2.index, y = 1, order = order, data = dt2, ax = ax[2])\n",
    "sns.barplot(x = dt2.index, y = 2, order = order, data = dt2, ax = ax[3])\n",
    "plt.show()"
   ]
  },
  {
   "cell_type": "code",
   "execution_count": 468,
   "id": "a4f7cb2a",
   "metadata": {},
   "outputs": [
    {
     "data": {
      "text/html": [
       "<div>\n",
       "<style scoped>\n",
       "    .dataframe tbody tr th:only-of-type {\n",
       "        vertical-align: middle;\n",
       "    }\n",
       "\n",
       "    .dataframe tbody tr th {\n",
       "        vertical-align: top;\n",
       "    }\n",
       "\n",
       "    .dataframe thead th {\n",
       "        text-align: right;\n",
       "    }\n",
       "</style>\n",
       "<table border=\"1\" class=\"dataframe\">\n",
       "  <thead>\n",
       "    <tr style=\"text-align: right;\">\n",
       "      <th>cancel</th>\n",
       "      <th>0</th>\n",
       "      <th>1</th>\n",
       "      <th>2</th>\n",
       "    </tr>\n",
       "    <tr>\n",
       "      <th>house.color</th>\n",
       "      <th></th>\n",
       "      <th></th>\n",
       "      <th></th>\n",
       "    </tr>\n",
       "  </thead>\n",
       "  <tbody>\n",
       "    <tr>\n",
       "      <th>blue</th>\n",
       "      <td>204692</td>\n",
       "      <td>21061</td>\n",
       "      <td>63250</td>\n",
       "    </tr>\n",
       "    <tr>\n",
       "      <th>red</th>\n",
       "      <td>182888</td>\n",
       "      <td>18452</td>\n",
       "      <td>56122</td>\n",
       "    </tr>\n",
       "    <tr>\n",
       "      <th>white</th>\n",
       "      <td>277972</td>\n",
       "      <td>28115</td>\n",
       "      <td>86121</td>\n",
       "    </tr>\n",
       "    <tr>\n",
       "      <th>yellow</th>\n",
       "      <td>65936</td>\n",
       "      <td>6686</td>\n",
       "      <td>20406</td>\n",
       "    </tr>\n",
       "  </tbody>\n",
       "</table>\n",
       "</div>"
      ],
      "text/plain": [
       "cancel            0      1      2\n",
       "house.color                      \n",
       "blue         204692  21061  63250\n",
       "red          182888  18452  56122\n",
       "white        277972  28115  86121\n",
       "yellow        65936   6686  20406"
      ]
     },
     "execution_count": 468,
     "metadata": {},
     "output_type": "execute_result"
    }
   ],
   "source": [
    "dt2 = pd.crosstab(df['house.color'],df['cancel'])\n",
    "dt2"
   ]
  },
  {
   "cell_type": "code",
   "execution_count": 469,
   "id": "0b94cdae",
   "metadata": {},
   "outputs": [
    {
     "data": {
      "text/plain": [
       "(6.831361344359652,\n",
       " 0.33672489110206366,\n",
       " 6,\n",
       " array([[204906.48595281,  20817.04771247,  63279.46633472],\n",
       "        [182543.55036585,  18545.13184343,  56373.31779072],\n",
       "        [278080.03045844,  28250.96157898,  85877.00796258],\n",
       "        [ 65957.9332229 ,   6700.85886512,  20369.20791198]]))"
      ]
     },
     "execution_count": 469,
     "metadata": {},
     "output_type": "execute_result"
    }
   ],
   "source": [
    "stats.chi2_contingency(observed = dt2)"
   ]
  },
  {
   "cell_type": "markdown",
   "id": "8baf6128",
   "metadata": {},
   "source": [
    "  "
   ]
  },
  {
   "cell_type": "markdown",
   "id": "da3cdd35",
   "metadata": {},
   "source": [
    "### Numerical Features: Distribution across Response Categories (0/1/2)"
   ]
  },
  {
   "cell_type": "markdown",
   "id": "0694e437",
   "metadata": {},
   "source": [
    "#### 1. Premium"
   ]
  },
  {
   "cell_type": "code",
   "execution_count": 503,
   "id": "8d968072",
   "metadata": {},
   "outputs": [
    {
     "data": {
      "image/png": "[encoded data removed]",
      "text/plain": [
       "<Figure size 1296x432 with 2 Axes>"
      ]
     },
     "metadata": {
      "needs_background": "light"
     },
     "output_type": "display_data"
    }
   ],
   "source": [
    "fig, ax = plt.subplots(nrows = 1, ncols = 2, figsize = (18, 6))\n",
    "sns.histplot(x = 'premium', data = df, ax = ax[0])\n",
    "sns.boxplot(x = 'cancel', y = 'premium', data = df, ax = ax[1])\n",
    "plt.show()"
   ]
  },
  {
   "cell_type": "markdown",
   "id": "6a011aca",
   "metadata": {},
   "source": [
    "Doesn't appear any difference in premium means across cancellation indicator. Doesn't look like an important variable. Still, let's perform ANOVA."
   ]
  },
  {
   "cell_type": "code",
   "execution_count": 507,
   "id": "32527093",
   "metadata": {},
   "outputs": [
    {
     "data": {
      "text/plain": [
       "count    732143.000000\n",
       "mean        901.321740\n",
       "std          77.599125\n",
       "min         612.389520\n",
       "25%         845.546873\n",
       "50%         901.096388\n",
       "75%         956.787501\n",
       "max        1235.480942\n",
       "Name: premium, dtype: float64"
      ]
     },
     "execution_count": 507,
     "metadata": {},
     "output_type": "execute_result"
    }
   ],
   "source": [
    "df.loc[df['cancel'] == 0, 'premium'].describe()"
   ]
  },
  {
   "cell_type": "code",
   "execution_count": 509,
   "id": "5b3b06e4",
   "metadata": {},
   "outputs": [
    {
     "data": {
      "text/plain": [
       "count    74387.000000\n",
       "mean       895.839303\n",
       "std         77.655328\n",
       "min        630.284316\n",
       "25%        839.824734\n",
       "50%        895.282751\n",
       "75%        950.694956\n",
       "max       1235.313642\n",
       "Name: premium, dtype: float64"
      ]
     },
     "execution_count": 509,
     "metadata": {},
     "output_type": "execute_result"
    }
   ],
   "source": [
    "df.loc[df['cancel'] == 1, 'premium'].describe()"
   ]
  },
  {
   "cell_type": "code",
   "execution_count": 508,
   "id": "c4df36c5",
   "metadata": {},
   "outputs": [
    {
     "data": {
      "text/plain": [
       "count    226095.000000\n",
       "mean        896.599919\n",
       "std          77.742385\n",
       "min         620.151537\n",
       "25%         840.369957\n",
       "50%         896.345124\n",
       "75%         952.123593\n",
       "max        1243.310538\n",
       "Name: premium, dtype: float64"
      ]
     },
     "execution_count": 508,
     "metadata": {},
     "output_type": "execute_result"
    }
   ],
   "source": [
    "df.loc[df['cancel'] == 2, 'premium'].describe()"
   ]
  },
  {
   "cell_type": "code",
   "execution_count": 521,
   "id": "d1ffca3a",
   "metadata": {},
   "outputs": [
    {
     "data": {
      "text/html": [
       "<div>\n",
       "<style scoped>\n",
       "    .dataframe tbody tr th:only-of-type {\n",
       "        vertical-align: middle;\n",
       "    }\n",
       "\n",
       "    .dataframe tbody tr th {\n",
       "        vertical-align: top;\n",
       "    }\n",
       "\n",
       "    .dataframe thead th {\n",
       "        text-align: right;\n",
       "    }\n",
       "</style>\n",
       "<table border=\"1\" class=\"dataframe\">\n",
       "  <thead>\n",
       "    <tr style=\"text-align: right;\">\n",
       "      <th></th>\n",
       "      <th>df</th>\n",
       "      <th>sum_sq</th>\n",
       "      <th>mean_sq</th>\n",
       "      <th>F</th>\n",
       "      <th>PR(&gt;F)</th>\n",
       "    </tr>\n",
       "  </thead>\n",
       "  <tbody>\n",
       "    <tr>\n",
       "      <th>cancel</th>\n",
       "      <td>2.0</td>\n",
       "      <td>5.168743e+06</td>\n",
       "      <td>2.584372e+06</td>\n",
       "      <td>428.79008</td>\n",
       "      <td>7.179906e-187</td>\n",
       "    </tr>\n",
       "    <tr>\n",
       "      <th>Residual</th>\n",
       "      <td>1032622.0</td>\n",
       "      <td>6.223742e+09</td>\n",
       "      <td>6.027125e+03</td>\n",
       "      <td>NaN</td>\n",
       "      <td>NaN</td>\n",
       "    </tr>\n",
       "  </tbody>\n",
       "</table>\n",
       "</div>"
      ],
      "text/plain": [
       "                 df        sum_sq       mean_sq          F         PR(>F)\n",
       "cancel          2.0  5.168743e+06  2.584372e+06  428.79008  7.179906e-187\n",
       "Residual  1032622.0  6.223742e+09  6.027125e+03        NaN            NaN"
      ]
     },
     "execution_count": 521,
     "metadata": {},
     "output_type": "execute_result"
    }
   ],
   "source": [
    "import statsmodels.api as sm\n",
    "from statsmodels.formula.api import ols\n",
    "\n",
    "model = ols('premium ~ cancel', data = df).fit()\n",
    "aov_table = sm.stats.anova_lm(model, typ=1)\n",
    "aov_table"
   ]
  },
  {
   "cell_type": "code",
   "execution_count": 525,
   "id": "140c1d63",
   "metadata": {},
   "outputs": [
    {
     "data": {
      "text/plain": [
       "Ttest_indResult(statistic=-2.315328065376448, pvalue=0.020595655019525295)"
      ]
     },
     "execution_count": 525,
     "metadata": {},
     "output_type": "execute_result"
    }
   ],
   "source": [
    "stats.ttest_ind(a = df.loc[df['cancel'] == 1, 'premium'],\n",
    "                b = df.loc[df['cancel'] == 2, 'premium'],\n",
    "                equal_var = True,\n",
    "                alternative = \"two-sided\")"
   ]
  },
  {
   "cell_type": "markdown",
   "id": "58c52128",
   "metadata": {},
   "source": [
    "#### 2. Tenure"
   ]
  },
  {
   "cell_type": "code",
   "execution_count": 472,
   "id": "ac1de21f",
   "metadata": {},
   "outputs": [
    {
     "data": {
      "image/png": "[encoded data removed]",
      "text/plain": [
       "<Figure size 1296x432 with 2 Axes>"
      ]
     },
     "metadata": {
      "needs_background": "light"
     },
     "output_type": "display_data"
    }
   ],
   "source": [
    "fig, ax = plt.subplots(nrows = 1, ncols = 2, figsize = (18, 6))\n",
    "sns.histplot(x = 'tenure', data = df, ax = ax[0])\n",
    "sns.boxplot(x = 'cancel', y = 'tenure', data = df, ax = ax[1])\n",
    "plt.show()"
   ]
  },
  {
   "cell_type": "markdown",
   "id": "2a962299",
   "metadata": {},
   "source": [
    "Tenure is Bimodal.....need to look into this. Mean Tenure of retained customers appears slightly higher than others. Will need to perform ANOVA."
   ]
  },
  {
   "cell_type": "code",
   "execution_count": 526,
   "id": "bc63e51e",
   "metadata": {},
   "outputs": [
    {
     "data": {
      "text/html": [
       "<div>\n",
       "<style scoped>\n",
       "    .dataframe tbody tr th:only-of-type {\n",
       "        vertical-align: middle;\n",
       "    }\n",
       "\n",
       "    .dataframe tbody tr th {\n",
       "        vertical-align: top;\n",
       "    }\n",
       "\n",
       "    .dataframe thead th {\n",
       "        text-align: right;\n",
       "    }\n",
       "</style>\n",
       "<table border=\"1\" class=\"dataframe\">\n",
       "  <thead>\n",
       "    <tr style=\"text-align: right;\">\n",
       "      <th></th>\n",
       "      <th>df</th>\n",
       "      <th>sum_sq</th>\n",
       "      <th>mean_sq</th>\n",
       "      <th>F</th>\n",
       "      <th>PR(&gt;F)</th>\n",
       "    </tr>\n",
       "  </thead>\n",
       "  <tbody>\n",
       "    <tr>\n",
       "      <th>cancel</th>\n",
       "      <td>2.0</td>\n",
       "      <td>3.719910e+04</td>\n",
       "      <td>18599.548630</td>\n",
       "      <td>528.91913</td>\n",
       "      <td>2.575836e-230</td>\n",
       "    </tr>\n",
       "    <tr>\n",
       "      <th>Residual</th>\n",
       "      <td>1032622.0</td>\n",
       "      <td>3.631236e+07</td>\n",
       "      <td>35.165203</td>\n",
       "      <td>NaN</td>\n",
       "      <td>NaN</td>\n",
       "    </tr>\n",
       "  </tbody>\n",
       "</table>\n",
       "</div>"
      ],
      "text/plain": [
       "                 df        sum_sq       mean_sq          F         PR(>F)\n",
       "cancel          2.0  3.719910e+04  18599.548630  528.91913  2.575836e-230\n",
       "Residual  1032622.0  3.631236e+07     35.165203        NaN            NaN"
      ]
     },
     "execution_count": 526,
     "metadata": {},
     "output_type": "execute_result"
    }
   ],
   "source": [
    "import statsmodels.api as sm\n",
    "from statsmodels.formula.api import ols\n",
    "\n",
    "model = ols('tenure ~ cancel', data = df).fit()\n",
    "aov_table = sm.stats.anova_lm(model, typ=1)\n",
    "aov_table"
   ]
  },
  {
   "cell_type": "markdown",
   "id": "5ce6e33c",
   "metadata": {},
   "source": [
    "#### 3. Length at residence (how long policyholder lived at property)"
   ]
  },
  {
   "cell_type": "code",
   "execution_count": 528,
   "id": "8f341663",
   "metadata": {},
   "outputs": [
    {
     "data": {
      "image/png": "[encoded data removed]",
      "text/plain": [
       "<Figure size 1296x432 with 2 Axes>"
      ]
     },
     "metadata": {
      "needs_background": "light"
     },
     "output_type": "display_data"
    }
   ],
   "source": [
    "fig, ax = plt.subplots(nrows = 1, ncols = 2, figsize = (18, 6))\n",
    "sns.histplot(x = 'len.at.res', data = df, ax = ax[0])\n",
    "sns.boxplot(x = 'cancel', y = 'len.at.res', data = df, ax = ax[1])\n",
    "plt.show()"
   ]
  },
  {
   "cell_type": "markdown",
   "id": "d005d248",
   "metadata": {},
   "source": [
    "#### 4. Age"
   ]
  },
  {
   "cell_type": "code",
   "execution_count": 483,
   "id": "1bcd80f5",
   "metadata": {},
   "outputs": [
    {
     "data": {
      "text/plain": [
       "0    851\n",
       "2     30\n",
       "1     19\n",
       "Name: cancel, dtype: int64"
      ]
     },
     "execution_count": 483,
     "metadata": {},
     "output_type": "execute_result"
    }
   ],
   "source": [
    "df.loc[df['ni.age'] >= 100,'cancel'].value_counts()"
   ]
  },
  {
   "cell_type": "code",
   "execution_count": 485,
   "id": "674cac20",
   "metadata": {},
   "outputs": [],
   "source": [
    "df2 = df[df['ni.age'] < 100]"
   ]
  },
  {
   "cell_type": "code",
   "execution_count": 486,
   "id": "0b25d921",
   "metadata": {},
   "outputs": [
    {
     "data": {
      "image/png": "[encoded data removed]",
      "text/plain": [
       "<Figure size 1296x432 with 2 Axes>"
      ]
     },
     "metadata": {
      "needs_background": "light"
     },
     "output_type": "display_data"
    }
   ],
   "source": [
    "fig, ax = plt.subplots(nrows = 1, ncols = 2, figsize = (18, 6))\n",
    "sns.histplot(x = 'ni.age', data = df2, ax = ax[0])\n",
    "sns.boxplot(x = 'cancel', y = 'ni.age', data = df2, ax = ax[1])\n",
    "plt.show()"
   ]
  },
  {
   "cell_type": "markdown",
   "id": "12d6e941",
   "metadata": {},
   "source": [
    "  "
   ]
  },
  {
   "cell_type": "markdown",
   "id": "578240f6",
   "metadata": {},
   "source": [
    "  "
   ]
  },
  {
   "cell_type": "markdown",
   "id": "339633fb",
   "metadata": {},
   "source": [
    "  "
   ]
  },
  {
   "cell_type": "markdown",
   "id": "5b25bd1c",
   "metadata": {},
   "source": [
    "### Geographical Feature: Zip Code to Zone"
   ]
  },
  {
   "cell_type": "code",
   "execution_count": 541,
   "id": "81ced806",
   "metadata": {},
   "outputs": [
    {
     "data": {
      "text/plain": [
       "50    278069\n",
       "85    238173\n",
       "80    196044\n",
       "15    155085\n",
       "98    113938\n",
       "20     51316\n",
       "Name: zone, dtype: int64"
      ]
     },
     "execution_count": 541,
     "metadata": {},
     "output_type": "execute_result"
    }
   ],
   "source": [
    "df['zone'] = df['zip.code'].astype(str).str[0:2]\n",
    "df['zone'].value_counts()"
   ]
  },
  {
   "cell_type": "code",
   "execution_count": 542,
   "id": "7233bd79",
   "metadata": {},
   "outputs": [
    {
     "data": {
      "image/png": "[encoded data removed]",
      "text/plain": [
       "<Figure size 2160x360 with 4 Axes>"
      ]
     },
     "metadata": {
      "needs_background": "light"
     },
     "output_type": "display_data"
    }
   ],
   "source": [
    "dt = pd.DataFrame(df['zone'].value_counts(normalize = True))\n",
    "dt2 = pd.crosstab(df['zone'],df['cancel'], normalize = 'columns')\n",
    "order = ['15', '20', '50', '80', '85', '98']\n",
    "\n",
    "fig, ax = plt.subplots(nrows = 1, ncols = 4, figsize = (30,5))\n",
    "sns.barplot(x = dt.index, y = 'zone', order = order, data = dt, ax = ax[0])\n",
    "sns.barplot(x = dt2.index, y = 0, order = order, data = dt2, ax = ax[1])\n",
    "sns.barplot(x = dt2.index, y = 1, order = order, data = dt2, ax = ax[2])\n",
    "sns.barplot(x = dt2.index, y = 2, order = order, data = dt2, ax = ax[3])\n",
    "plt.show()"
   ]
  },
  {
   "cell_type": "markdown",
   "id": "0fc860a5",
   "metadata": {},
   "source": [
    "  "
   ]
  },
  {
   "cell_type": "markdown",
   "id": "9752611f",
   "metadata": {},
   "source": [
    "  "
   ]
  },
  {
   "cell_type": "markdown",
   "id": "70fa5b2b",
   "metadata": {},
   "source": [
    "### Deriving clusters of Customers using Features: Gender/married/children"
   ]
  },
  {
   "cell_type": "code",
   "execution_count": 543,
   "id": "b0e5ba80",
   "metadata": {},
   "outputs": [
    {
     "data": {
      "text/html": [
       "<div>\n",
       "<style scoped>\n",
       "    .dataframe tbody tr th:only-of-type {\n",
       "        vertical-align: middle;\n",
       "    }\n",
       "\n",
       "    .dataframe tbody tr th {\n",
       "        vertical-align: top;\n",
       "    }\n",
       "\n",
       "    .dataframe thead th {\n",
       "        text-align: right;\n",
       "    }\n",
       "</style>\n",
       "<table border=\"1\" class=\"dataframe\">\n",
       "  <thead>\n",
       "    <tr style=\"text-align: right;\">\n",
       "      <th></th>\n",
       "      <th>cancel</th>\n",
       "      <th>year</th>\n",
       "      <th>zip.code</th>\n",
       "      <th>house.color</th>\n",
       "      <th>ni.age</th>\n",
       "      <th>len.at.res</th>\n",
       "      <th>credit</th>\n",
       "      <th>coverage.type</th>\n",
       "      <th>dwelling.type</th>\n",
       "      <th>premium</th>\n",
       "      <th>sales.channel</th>\n",
       "      <th>ni.gender</th>\n",
       "      <th>ni.marital.status</th>\n",
       "      <th>n.adults</th>\n",
       "      <th>n.children</th>\n",
       "      <th>tenure</th>\n",
       "      <th>claim.ind</th>\n",
       "      <th>claim</th>\n",
       "      <th>married</th>\n",
       "      <th>zone</th>\n",
       "    </tr>\n",
       "  </thead>\n",
       "  <tbody>\n",
       "    <tr>\n",
       "      <th>0</th>\n",
       "      <td>0</td>\n",
       "      <td>2013</td>\n",
       "      <td>98004</td>\n",
       "      <td>blue</td>\n",
       "      <td>37.0</td>\n",
       "      <td>18.000000</td>\n",
       "      <td>high</td>\n",
       "      <td>C</td>\n",
       "      <td>Tenant</td>\n",
       "      <td>950.507336</td>\n",
       "      <td>Broker</td>\n",
       "      <td>F</td>\n",
       "      <td>0</td>\n",
       "      <td>2</td>\n",
       "      <td>0</td>\n",
       "      <td>15</td>\n",
       "      <td>0</td>\n",
       "      <td>N</td>\n",
       "      <td>N</td>\n",
       "      <td>98</td>\n",
       "    </tr>\n",
       "    <tr>\n",
       "      <th>1</th>\n",
       "      <td>0</td>\n",
       "      <td>2013</td>\n",
       "      <td>85017</td>\n",
       "      <td>white</td>\n",
       "      <td>40.0</td>\n",
       "      <td>17.000000</td>\n",
       "      <td>medium</td>\n",
       "      <td>A</td>\n",
       "      <td>Condo</td>\n",
       "      <td>909.346046</td>\n",
       "      <td>Broker</td>\n",
       "      <td>F</td>\n",
       "      <td>1</td>\n",
       "      <td>5</td>\n",
       "      <td>0</td>\n",
       "      <td>15</td>\n",
       "      <td>0</td>\n",
       "      <td>N</td>\n",
       "      <td>Y</td>\n",
       "      <td>85</td>\n",
       "    </tr>\n",
       "    <tr>\n",
       "      <th>2</th>\n",
       "      <td>0</td>\n",
       "      <td>2013</td>\n",
       "      <td>80021</td>\n",
       "      <td>white</td>\n",
       "      <td>45.0</td>\n",
       "      <td>14.000000</td>\n",
       "      <td>high</td>\n",
       "      <td>A</td>\n",
       "      <td>House</td>\n",
       "      <td>897.084502</td>\n",
       "      <td>Phone</td>\n",
       "      <td>M</td>\n",
       "      <td>0</td>\n",
       "      <td>1</td>\n",
       "      <td>0</td>\n",
       "      <td>14</td>\n",
       "      <td>0</td>\n",
       "      <td>N</td>\n",
       "      <td>N</td>\n",
       "      <td>80</td>\n",
       "    </tr>\n",
       "    <tr>\n",
       "      <th>3</th>\n",
       "      <td>0</td>\n",
       "      <td>2013</td>\n",
       "      <td>85002</td>\n",
       "      <td>red</td>\n",
       "      <td>45.0</td>\n",
       "      <td>24.366136</td>\n",
       "      <td>high</td>\n",
       "      <td>A</td>\n",
       "      <td>House</td>\n",
       "      <td>979.039007</td>\n",
       "      <td>Phone</td>\n",
       "      <td>M</td>\n",
       "      <td>0</td>\n",
       "      <td>5</td>\n",
       "      <td>0</td>\n",
       "      <td>22</td>\n",
       "      <td>1</td>\n",
       "      <td>Y</td>\n",
       "      <td>N</td>\n",
       "      <td>85</td>\n",
       "    </tr>\n",
       "    <tr>\n",
       "      <th>4</th>\n",
       "      <td>0</td>\n",
       "      <td>2013</td>\n",
       "      <td>50001</td>\n",
       "      <td>yellow</td>\n",
       "      <td>36.0</td>\n",
       "      <td>16.000000</td>\n",
       "      <td>high</td>\n",
       "      <td>C</td>\n",
       "      <td>House</td>\n",
       "      <td>932.379027</td>\n",
       "      <td>Broker</td>\n",
       "      <td>M</td>\n",
       "      <td>1</td>\n",
       "      <td>2</td>\n",
       "      <td>4</td>\n",
       "      <td>4</td>\n",
       "      <td>0</td>\n",
       "      <td>N</td>\n",
       "      <td>Y</td>\n",
       "      <td>50</td>\n",
       "    </tr>\n",
       "  </tbody>\n",
       "</table>\n",
       "</div>"
      ],
      "text/plain": [
       "  cancel  year zip.code house.color  ni.age  len.at.res  credit coverage.type  \\\n",
       "0      0  2013    98004        blue    37.0   18.000000    high             C   \n",
       "1      0  2013    85017       white    40.0   17.000000  medium             A   \n",
       "2      0  2013    80021       white    45.0   14.000000    high             A   \n",
       "3      0  2013    85002         red    45.0   24.366136    high             A   \n",
       "4      0  2013    50001      yellow    36.0   16.000000    high             C   \n",
       "\n",
       "  dwelling.type     premium sales.channel ni.gender ni.marital.status  \\\n",
       "0        Tenant  950.507336        Broker         F                 0   \n",
       "1         Condo  909.346046        Broker         F                 1   \n",
       "2         House  897.084502         Phone         M                 0   \n",
       "3         House  979.039007         Phone         M                 0   \n",
       "4         House  932.379027        Broker         M                 1   \n",
       "\n",
       "   n.adults  n.children  tenure  claim.ind claim married zone  \n",
       "0         2           0      15          0     N       N   98  \n",
       "1         5           0      15          0     N       Y   85  \n",
       "2         1           0      14          0     N       N   80  \n",
       "3         5           0      22          1     Y       N   85  \n",
       "4         2           4       4          0     N       Y   50  "
      ]
     },
     "execution_count": 543,
     "metadata": {},
     "output_type": "execute_result"
    }
   ],
   "source": [
    "df.head()"
   ]
  },
  {
   "cell_type": "code",
   "execution_count": 549,
   "id": "950aedc0",
   "metadata": {},
   "outputs": [
    {
     "data": {
      "text/html": [
       "<div>\n",
       "<style scoped>\n",
       "    .dataframe tbody tr th:only-of-type {\n",
       "        vertical-align: middle;\n",
       "    }\n",
       "\n",
       "    .dataframe tbody tr th {\n",
       "        vertical-align: top;\n",
       "    }\n",
       "\n",
       "    .dataframe thead th {\n",
       "        text-align: right;\n",
       "    }\n",
       "</style>\n",
       "<table border=\"1\" class=\"dataframe\">\n",
       "  <thead>\n",
       "    <tr style=\"text-align: right;\">\n",
       "      <th></th>\n",
       "      <th>cancel</th>\n",
       "      <th>year</th>\n",
       "      <th>zip.code</th>\n",
       "      <th>house.color</th>\n",
       "      <th>ni.age</th>\n",
       "      <th>len.at.res</th>\n",
       "      <th>credit</th>\n",
       "      <th>coverage.type</th>\n",
       "      <th>dwelling.type</th>\n",
       "      <th>premium</th>\n",
       "      <th>...</th>\n",
       "      <th>ni.gender</th>\n",
       "      <th>ni.marital.status</th>\n",
       "      <th>n.adults</th>\n",
       "      <th>n.children</th>\n",
       "      <th>tenure</th>\n",
       "      <th>claim.ind</th>\n",
       "      <th>claim</th>\n",
       "      <th>married</th>\n",
       "      <th>zone</th>\n",
       "      <th>kids</th>\n",
       "    </tr>\n",
       "  </thead>\n",
       "  <tbody>\n",
       "    <tr>\n",
       "      <th>0</th>\n",
       "      <td>0</td>\n",
       "      <td>2013</td>\n",
       "      <td>98004</td>\n",
       "      <td>blue</td>\n",
       "      <td>37.0</td>\n",
       "      <td>18.000000</td>\n",
       "      <td>high</td>\n",
       "      <td>C</td>\n",
       "      <td>Tenant</td>\n",
       "      <td>950.507336</td>\n",
       "      <td>...</td>\n",
       "      <td>F</td>\n",
       "      <td>0</td>\n",
       "      <td>2</td>\n",
       "      <td>0</td>\n",
       "      <td>15</td>\n",
       "      <td>0</td>\n",
       "      <td>N</td>\n",
       "      <td>N</td>\n",
       "      <td>98</td>\n",
       "      <td>0</td>\n",
       "    </tr>\n",
       "    <tr>\n",
       "      <th>1</th>\n",
       "      <td>0</td>\n",
       "      <td>2013</td>\n",
       "      <td>85017</td>\n",
       "      <td>white</td>\n",
       "      <td>40.0</td>\n",
       "      <td>17.000000</td>\n",
       "      <td>medium</td>\n",
       "      <td>A</td>\n",
       "      <td>Condo</td>\n",
       "      <td>909.346046</td>\n",
       "      <td>...</td>\n",
       "      <td>F</td>\n",
       "      <td>1</td>\n",
       "      <td>5</td>\n",
       "      <td>0</td>\n",
       "      <td>15</td>\n",
       "      <td>0</td>\n",
       "      <td>N</td>\n",
       "      <td>Y</td>\n",
       "      <td>85</td>\n",
       "      <td>0</td>\n",
       "    </tr>\n",
       "    <tr>\n",
       "      <th>2</th>\n",
       "      <td>0</td>\n",
       "      <td>2013</td>\n",
       "      <td>80021</td>\n",
       "      <td>white</td>\n",
       "      <td>45.0</td>\n",
       "      <td>14.000000</td>\n",
       "      <td>high</td>\n",
       "      <td>A</td>\n",
       "      <td>House</td>\n",
       "      <td>897.084502</td>\n",
       "      <td>...</td>\n",
       "      <td>M</td>\n",
       "      <td>0</td>\n",
       "      <td>1</td>\n",
       "      <td>0</td>\n",
       "      <td>14</td>\n",
       "      <td>0</td>\n",
       "      <td>N</td>\n",
       "      <td>N</td>\n",
       "      <td>80</td>\n",
       "      <td>0</td>\n",
       "    </tr>\n",
       "    <tr>\n",
       "      <th>3</th>\n",
       "      <td>0</td>\n",
       "      <td>2013</td>\n",
       "      <td>85002</td>\n",
       "      <td>red</td>\n",
       "      <td>45.0</td>\n",
       "      <td>24.366136</td>\n",
       "      <td>high</td>\n",
       "      <td>A</td>\n",
       "      <td>House</td>\n",
       "      <td>979.039007</td>\n",
       "      <td>...</td>\n",
       "      <td>M</td>\n",
       "      <td>0</td>\n",
       "      <td>5</td>\n",
       "      <td>0</td>\n",
       "      <td>22</td>\n",
       "      <td>1</td>\n",
       "      <td>Y</td>\n",
       "      <td>N</td>\n",
       "      <td>85</td>\n",
       "      <td>0</td>\n",
       "    </tr>\n",
       "    <tr>\n",
       "      <th>4</th>\n",
       "      <td>0</td>\n",
       "      <td>2013</td>\n",
       "      <td>50001</td>\n",
       "      <td>yellow</td>\n",
       "      <td>36.0</td>\n",
       "      <td>16.000000</td>\n",
       "      <td>high</td>\n",
       "      <td>C</td>\n",
       "      <td>House</td>\n",
       "      <td>932.379027</td>\n",
       "      <td>...</td>\n",
       "      <td>M</td>\n",
       "      <td>1</td>\n",
       "      <td>2</td>\n",
       "      <td>4</td>\n",
       "      <td>4</td>\n",
       "      <td>0</td>\n",
       "      <td>N</td>\n",
       "      <td>Y</td>\n",
       "      <td>50</td>\n",
       "      <td>More than 3</td>\n",
       "    </tr>\n",
       "  </tbody>\n",
       "</table>\n",
       "<p>5 rows × 21 columns</p>\n",
       "</div>"
      ],
      "text/plain": [
       "  cancel  year zip.code house.color  ni.age  len.at.res  credit coverage.type  \\\n",
       "0      0  2013    98004        blue    37.0   18.000000    high             C   \n",
       "1      0  2013    85017       white    40.0   17.000000  medium             A   \n",
       "2      0  2013    80021       white    45.0   14.000000    high             A   \n",
       "3      0  2013    85002         red    45.0   24.366136    high             A   \n",
       "4      0  2013    50001      yellow    36.0   16.000000    high             C   \n",
       "\n",
       "  dwelling.type     premium  ... ni.gender ni.marital.status n.adults  \\\n",
       "0        Tenant  950.507336  ...         F                 0        2   \n",
       "1         Condo  909.346046  ...         F                 1        5   \n",
       "2         House  897.084502  ...         M                 0        1   \n",
       "3         House  979.039007  ...         M                 0        5   \n",
       "4         House  932.379027  ...         M                 1        2   \n",
       "\n",
       "   n.children  tenure  claim.ind  claim married zone         kids  \n",
       "0           0      15          0      N       N   98            0  \n",
       "1           0      15          0      N       Y   85            0  \n",
       "2           0      14          0      N       N   80            0  \n",
       "3           0      22          1      Y       N   85            0  \n",
       "4           4       4          0      N       Y   50  More than 3  \n",
       "\n",
       "[5 rows x 21 columns]"
      ]
     },
     "execution_count": 549,
     "metadata": {},
     "output_type": "execute_result"
    }
   ],
   "source": [
    "df['kids'] = df['n.children'].apply(lambda x: 0 if x == 0 else ('Less than 3' if x <= 3 else 'More than 3'))"
   ]
  },
  {
   "cell_type": "code",
   "execution_count": null,
   "id": "922e7347",
   "metadata": {},
   "outputs": [],
   "source": []
  },
  {
   "cell_type": "code",
   "execution_count": null,
   "id": "708805f0",
   "metadata": {},
   "outputs": [],
   "source": []
  },
  {
   "cell_type": "code",
   "execution_count": null,
   "id": "5de374e9",
   "metadata": {},
   "outputs": [],
   "source": []
  },
  {
   "cell_type": "code",
   "execution_count": null,
   "id": "ebdd1433",
   "metadata": {},
   "outputs": [],
   "source": []
  },
  {
   "cell_type": "code",
   "execution_count": null,
   "id": "11ce3fbe",
   "metadata": {},
   "outputs": [],
   "source": []
  },
  {
   "cell_type": "code",
   "execution_count": null,
   "id": "b3354bc2",
   "metadata": {},
   "outputs": [],
   "source": []
  },
  {
   "cell_type": "code",
   "execution_count": null,
   "id": "ce38d2c9",
   "metadata": {},
   "outputs": [],
   "source": []
  }
 ],
 "metadata": {
  "kernelspec": {
   "display_name": "Python 3",
   "language": "python",
   "name": "python3"
  },
  "language_info": {
   "codemirror_mode": {
    "name": "ipython",
    "version": 3
   },
   "file_extension": ".py",
   "mimetype": "text/x-python",
   "name": "python",
   "nbconvert_exporter": "python",
   "pygments_lexer": "ipython3",
   "version": "3.8.8"
  }
 },
 "nbformat": 4,
 "nbformat_minor": 5
}
