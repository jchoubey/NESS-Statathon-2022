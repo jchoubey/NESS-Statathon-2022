{
 "cells": [
  {
   "cell_type": "markdown",
   "id": "4ac7d0ff",
   "metadata": {},
   "source": [
    "### Import Libraries"
   ]
  },
  {
   "cell_type": "code",
   "execution_count": 134,
   "id": "a8b880c5",
   "metadata": {},
   "outputs": [],
   "source": [
    "import pandas as pd\n",
    "import numpy as np\n",
    "import matplotlib.pyplot as plt\n",
    "import seaborn as sns"
   ]
  },
  {
   "cell_type": "markdown",
   "id": "c70c9eb2",
   "metadata": {},
   "source": [
    "### Data Upload"
   ]
  },
  {
   "cell_type": "code",
   "execution_count": 135,
   "id": "874f4387",
   "metadata": {},
   "outputs": [
    {
     "data": {
      "text/html": [
       "<div>\n",
       "<style scoped>\n",
       "    .dataframe tbody tr th:only-of-type {\n",
       "        vertical-align: middle;\n",
       "    }\n",
       "\n",
       "    .dataframe tbody tr th {\n",
       "        vertical-align: top;\n",
       "    }\n",
       "\n",
       "    .dataframe thead th {\n",
       "        text-align: right;\n",
       "    }\n",
       "</style>\n",
       "<table border=\"1\" class=\"dataframe\">\n",
       "  <thead>\n",
       "    <tr style=\"text-align: right;\">\n",
       "      <th></th>\n",
       "      <th>cancel</th>\n",
       "      <th>year</th>\n",
       "      <th>zip.code</th>\n",
       "      <th>house.color</th>\n",
       "      <th>ni.age</th>\n",
       "      <th>len.at.res</th>\n",
       "      <th>credit</th>\n",
       "      <th>coverage.type</th>\n",
       "      <th>dwelling.type</th>\n",
       "      <th>premium</th>\n",
       "      <th>sales.channel</th>\n",
       "      <th>ni.gender</th>\n",
       "      <th>ni.marital.status</th>\n",
       "      <th>n.adults</th>\n",
       "      <th>n.children</th>\n",
       "      <th>tenure</th>\n",
       "      <th>claim.ind</th>\n",
       "    </tr>\n",
       "  </thead>\n",
       "  <tbody>\n",
       "    <tr>\n",
       "      <th>0</th>\n",
       "      <td>0</td>\n",
       "      <td>2013</td>\n",
       "      <td>98004.0</td>\n",
       "      <td>blue</td>\n",
       "      <td>37.0</td>\n",
       "      <td>18.000000</td>\n",
       "      <td>high</td>\n",
       "      <td>C</td>\n",
       "      <td>Tenant</td>\n",
       "      <td>950.507336</td>\n",
       "      <td>Broker</td>\n",
       "      <td>F</td>\n",
       "      <td>0.0</td>\n",
       "      <td>2.0</td>\n",
       "      <td>0.0</td>\n",
       "      <td>15.0</td>\n",
       "      <td>0.0</td>\n",
       "    </tr>\n",
       "    <tr>\n",
       "      <th>1</th>\n",
       "      <td>0</td>\n",
       "      <td>2013</td>\n",
       "      <td>85017.0</td>\n",
       "      <td>white</td>\n",
       "      <td>40.0</td>\n",
       "      <td>17.000000</td>\n",
       "      <td>medium</td>\n",
       "      <td>A</td>\n",
       "      <td>Condo</td>\n",
       "      <td>909.346046</td>\n",
       "      <td>Broker</td>\n",
       "      <td>F</td>\n",
       "      <td>1.0</td>\n",
       "      <td>5.0</td>\n",
       "      <td>0.0</td>\n",
       "      <td>15.0</td>\n",
       "      <td>0.0</td>\n",
       "    </tr>\n",
       "    <tr>\n",
       "      <th>2</th>\n",
       "      <td>0</td>\n",
       "      <td>2013</td>\n",
       "      <td>80021.0</td>\n",
       "      <td>white</td>\n",
       "      <td>45.0</td>\n",
       "      <td>14.000000</td>\n",
       "      <td>high</td>\n",
       "      <td>A</td>\n",
       "      <td>House</td>\n",
       "      <td>897.084502</td>\n",
       "      <td>Phone</td>\n",
       "      <td>M</td>\n",
       "      <td>0.0</td>\n",
       "      <td>1.0</td>\n",
       "      <td>0.0</td>\n",
       "      <td>14.0</td>\n",
       "      <td>0.0</td>\n",
       "    </tr>\n",
       "    <tr>\n",
       "      <th>3</th>\n",
       "      <td>0</td>\n",
       "      <td>2013</td>\n",
       "      <td>85002.0</td>\n",
       "      <td>red</td>\n",
       "      <td>45.0</td>\n",
       "      <td>24.366136</td>\n",
       "      <td>high</td>\n",
       "      <td>A</td>\n",
       "      <td>House</td>\n",
       "      <td>979.039007</td>\n",
       "      <td>Phone</td>\n",
       "      <td>M</td>\n",
       "      <td>0.0</td>\n",
       "      <td>5.0</td>\n",
       "      <td>0.0</td>\n",
       "      <td>22.0</td>\n",
       "      <td>1.0</td>\n",
       "    </tr>\n",
       "    <tr>\n",
       "      <th>4</th>\n",
       "      <td>0</td>\n",
       "      <td>2013</td>\n",
       "      <td>50001.0</td>\n",
       "      <td>yellow</td>\n",
       "      <td>36.0</td>\n",
       "      <td>16.000000</td>\n",
       "      <td>high</td>\n",
       "      <td>C</td>\n",
       "      <td>House</td>\n",
       "      <td>932.379027</td>\n",
       "      <td>Broker</td>\n",
       "      <td>M</td>\n",
       "      <td>1.0</td>\n",
       "      <td>2.0</td>\n",
       "      <td>4.0</td>\n",
       "      <td>4.0</td>\n",
       "      <td>0.0</td>\n",
       "    </tr>\n",
       "  </tbody>\n",
       "</table>\n",
       "</div>"
      ],
      "text/plain": [
       "   cancel  year  zip.code house.color  ni.age  len.at.res  credit  \\\n",
       "0       0  2013   98004.0        blue    37.0   18.000000    high   \n",
       "1       0  2013   85017.0       white    40.0   17.000000  medium   \n",
       "2       0  2013   80021.0       white    45.0   14.000000    high   \n",
       "3       0  2013   85002.0         red    45.0   24.366136    high   \n",
       "4       0  2013   50001.0      yellow    36.0   16.000000    high   \n",
       "\n",
       "  coverage.type dwelling.type     premium sales.channel ni.gender  \\\n",
       "0             C        Tenant  950.507336        Broker         F   \n",
       "1             A         Condo  909.346046        Broker         F   \n",
       "2             A         House  897.084502         Phone         M   \n",
       "3             A         House  979.039007         Phone         M   \n",
       "4             C         House  932.379027        Broker         M   \n",
       "\n",
       "   ni.marital.status  n.adults  n.children  tenure  claim.ind  \n",
       "0                0.0       2.0         0.0    15.0        0.0  \n",
       "1                1.0       5.0         0.0    15.0        0.0  \n",
       "2                0.0       1.0         0.0    14.0        0.0  \n",
       "3                0.0       5.0         0.0    22.0        1.0  \n",
       "4                1.0       2.0         4.0     4.0        0.0  "
      ]
     },
     "execution_count": 135,
     "metadata": {},
     "output_type": "execute_result"
    }
   ],
   "source": [
    "df = pd.read_csv('train.csv')\n",
    "df.drop(columns = 'id', inplace = True)\n",
    "df.head()"
   ]
  },
  {
   "cell_type": "markdown",
   "id": "5c3f3b44",
   "metadata": {},
   "source": [
    "### Clean Response Variable"
   ]
  },
  {
   "cell_type": "code",
   "execution_count": 136,
   "id": "fc7c12f1",
   "metadata": {},
   "outputs": [
    {
     "data": {
      "text/plain": [
       " 0    741064\n",
       " 2    228777\n",
       " 1     75282\n",
       "-1      3452\n",
       "Name: cancel, dtype: int64"
      ]
     },
     "execution_count": 136,
     "metadata": {},
     "output_type": "execute_result"
    }
   ],
   "source": [
    "df['cancel'].value_counts()"
   ]
  },
  {
   "cell_type": "code",
   "execution_count": 137,
   "id": "1473cb96",
   "metadata": {},
   "outputs": [
    {
     "data": {
      "text/plain": [
       "0    741064\n",
       "2    228777\n",
       "1     75282\n",
       "Name: cancel, dtype: int64"
      ]
     },
     "execution_count": 137,
     "metadata": {},
     "output_type": "execute_result"
    }
   ],
   "source": [
    "df = df[df['cancel'] != -1]\n",
    "df['cancel'].value_counts()"
   ]
  },
  {
   "cell_type": "markdown",
   "id": "2027de87",
   "metadata": {},
   "source": [
    "### Check Null values in Explanatory Variables"
   ]
  },
  {
   "cell_type": "code",
   "execution_count": 138,
   "id": "d70715e4",
   "metadata": {},
   "outputs": [
    {
     "data": {
      "text/plain": [
       "14466"
      ]
     },
     "execution_count": 138,
     "metadata": {},
     "output_type": "execute_result"
    }
   ],
   "source": [
    "df.isnull().sum().sum()"
   ]
  },
  {
   "cell_type": "code",
   "execution_count": 139,
   "id": "26100be7",
   "metadata": {},
   "outputs": [
    {
     "data": {
      "text/plain": [
       "cancel                  0\n",
       "year                    0\n",
       "zip.code              944\n",
       "house.color           939\n",
       "ni.age               1001\n",
       "len.at.res            960\n",
       "credit                905\n",
       "coverage.type         979\n",
       "dwelling.type         990\n",
       "premium               955\n",
       "sales.channel        1020\n",
       "ni.gender             957\n",
       "ni.marital.status     992\n",
       "n.adults              929\n",
       "n.children            935\n",
       "tenure                978\n",
       "claim.ind             982\n",
       "dtype: int64"
      ]
     },
     "execution_count": 139,
     "metadata": {},
     "output_type": "execute_result"
    }
   ],
   "source": [
    "df.isnull().sum()"
   ]
  },
  {
   "cell_type": "markdown",
   "id": "f20045eb",
   "metadata": {},
   "source": [
    "*We will handle them as and when required.*"
   ]
  },
  {
   "cell_type": "markdown",
   "id": "32681799",
   "metadata": {},
   "source": [
    "## Primary Set of Features"
   ]
  },
  {
   "cell_type": "code",
   "execution_count": 140,
   "id": "8bf28ae5",
   "metadata": {},
   "outputs": [],
   "source": [
    "primary_x = ['claim.ind', 'sales.channel','dwelling.type','coverage.type','credit', 'tenure', 'premium']\n",
    "\n",
    "# Drop null records for a primary set of features\n",
    "df.dropna(axis = 0, subset = primary_x, inplace = True)\n",
    "\n",
    "# Further cleaning of some columns:\n",
    "df['claim.ind'] = df['claim.ind'].astype('int')\n",
    "df['claim'] = df['claim.ind'].apply(lambda x: 'Y' if x == 1 else 'N')\n",
    "\n",
    "df['sales.channel'] = df['sales.channel'].astype('category')\n",
    "df['dwelling.type'] = df['dwelling.type'].astype('category')\n",
    "df['coverage.type'] = df['coverage.type'].astype('category')\n",
    "df['credit'] = df['credit'].astype('category')\n",
    "\n",
    "df['tenure'] = df['tenure'].astype('int')"
   ]
  },
  {
   "cell_type": "code",
   "execution_count": 141,
   "id": "d4ddc30b",
   "metadata": {},
   "outputs": [
    {
     "data": {
      "text/html": [
       "<div>\n",
       "<style scoped>\n",
       "    .dataframe tbody tr th:only-of-type {\n",
       "        vertical-align: middle;\n",
       "    }\n",
       "\n",
       "    .dataframe tbody tr th {\n",
       "        vertical-align: top;\n",
       "    }\n",
       "\n",
       "    .dataframe thead th {\n",
       "        text-align: right;\n",
       "    }\n",
       "</style>\n",
       "<table border=\"1\" class=\"dataframe\">\n",
       "  <thead>\n",
       "    <tr style=\"text-align: right;\">\n",
       "      <th></th>\n",
       "      <th>cancel</th>\n",
       "      <th>year</th>\n",
       "      <th>zip.code</th>\n",
       "      <th>house.color</th>\n",
       "      <th>ni.age</th>\n",
       "      <th>len.at.res</th>\n",
       "      <th>credit</th>\n",
       "      <th>coverage.type</th>\n",
       "      <th>dwelling.type</th>\n",
       "      <th>premium</th>\n",
       "      <th>sales.channel</th>\n",
       "      <th>ni.gender</th>\n",
       "      <th>ni.marital.status</th>\n",
       "      <th>n.adults</th>\n",
       "      <th>n.children</th>\n",
       "      <th>tenure</th>\n",
       "      <th>claim.ind</th>\n",
       "      <th>claim</th>\n",
       "    </tr>\n",
       "  </thead>\n",
       "  <tbody>\n",
       "    <tr>\n",
       "      <th>0</th>\n",
       "      <td>0</td>\n",
       "      <td>2013</td>\n",
       "      <td>98004.0</td>\n",
       "      <td>blue</td>\n",
       "      <td>37.0</td>\n",
       "      <td>18.000000</td>\n",
       "      <td>high</td>\n",
       "      <td>C</td>\n",
       "      <td>Tenant</td>\n",
       "      <td>950.507336</td>\n",
       "      <td>Broker</td>\n",
       "      <td>F</td>\n",
       "      <td>0.0</td>\n",
       "      <td>2.0</td>\n",
       "      <td>0.0</td>\n",
       "      <td>15</td>\n",
       "      <td>0</td>\n",
       "      <td>N</td>\n",
       "    </tr>\n",
       "    <tr>\n",
       "      <th>1</th>\n",
       "      <td>0</td>\n",
       "      <td>2013</td>\n",
       "      <td>85017.0</td>\n",
       "      <td>white</td>\n",
       "      <td>40.0</td>\n",
       "      <td>17.000000</td>\n",
       "      <td>medium</td>\n",
       "      <td>A</td>\n",
       "      <td>Condo</td>\n",
       "      <td>909.346046</td>\n",
       "      <td>Broker</td>\n",
       "      <td>F</td>\n",
       "      <td>1.0</td>\n",
       "      <td>5.0</td>\n",
       "      <td>0.0</td>\n",
       "      <td>15</td>\n",
       "      <td>0</td>\n",
       "      <td>N</td>\n",
       "    </tr>\n",
       "    <tr>\n",
       "      <th>2</th>\n",
       "      <td>0</td>\n",
       "      <td>2013</td>\n",
       "      <td>80021.0</td>\n",
       "      <td>white</td>\n",
       "      <td>45.0</td>\n",
       "      <td>14.000000</td>\n",
       "      <td>high</td>\n",
       "      <td>A</td>\n",
       "      <td>House</td>\n",
       "      <td>897.084502</td>\n",
       "      <td>Phone</td>\n",
       "      <td>M</td>\n",
       "      <td>0.0</td>\n",
       "      <td>1.0</td>\n",
       "      <td>0.0</td>\n",
       "      <td>14</td>\n",
       "      <td>0</td>\n",
       "      <td>N</td>\n",
       "    </tr>\n",
       "    <tr>\n",
       "      <th>3</th>\n",
       "      <td>0</td>\n",
       "      <td>2013</td>\n",
       "      <td>85002.0</td>\n",
       "      <td>red</td>\n",
       "      <td>45.0</td>\n",
       "      <td>24.366136</td>\n",
       "      <td>high</td>\n",
       "      <td>A</td>\n",
       "      <td>House</td>\n",
       "      <td>979.039007</td>\n",
       "      <td>Phone</td>\n",
       "      <td>M</td>\n",
       "      <td>0.0</td>\n",
       "      <td>5.0</td>\n",
       "      <td>0.0</td>\n",
       "      <td>22</td>\n",
       "      <td>1</td>\n",
       "      <td>Y</td>\n",
       "    </tr>\n",
       "    <tr>\n",
       "      <th>4</th>\n",
       "      <td>0</td>\n",
       "      <td>2013</td>\n",
       "      <td>50001.0</td>\n",
       "      <td>yellow</td>\n",
       "      <td>36.0</td>\n",
       "      <td>16.000000</td>\n",
       "      <td>high</td>\n",
       "      <td>C</td>\n",
       "      <td>House</td>\n",
       "      <td>932.379027</td>\n",
       "      <td>Broker</td>\n",
       "      <td>M</td>\n",
       "      <td>1.0</td>\n",
       "      <td>2.0</td>\n",
       "      <td>4.0</td>\n",
       "      <td>4</td>\n",
       "      <td>0</td>\n",
       "      <td>N</td>\n",
       "    </tr>\n",
       "  </tbody>\n",
       "</table>\n",
       "</div>"
      ],
      "text/plain": [
       "   cancel  year  zip.code house.color  ni.age  len.at.res  credit  \\\n",
       "0       0  2013   98004.0        blue    37.0   18.000000    high   \n",
       "1       0  2013   85017.0       white    40.0   17.000000  medium   \n",
       "2       0  2013   80021.0       white    45.0   14.000000    high   \n",
       "3       0  2013   85002.0         red    45.0   24.366136    high   \n",
       "4       0  2013   50001.0      yellow    36.0   16.000000    high   \n",
       "\n",
       "  coverage.type dwelling.type     premium sales.channel ni.gender  \\\n",
       "0             C        Tenant  950.507336        Broker         F   \n",
       "1             A         Condo  909.346046        Broker         F   \n",
       "2             A         House  897.084502         Phone         M   \n",
       "3             A         House  979.039007         Phone         M   \n",
       "4             C         House  932.379027        Broker         M   \n",
       "\n",
       "   ni.marital.status  n.adults  n.children  tenure  claim.ind claim  \n",
       "0                0.0       2.0         0.0      15          0     N  \n",
       "1                1.0       5.0         0.0      15          0     N  \n",
       "2                0.0       1.0         0.0      14          0     N  \n",
       "3                0.0       5.0         0.0      22          1     Y  \n",
       "4                1.0       2.0         4.0       4          0     N  "
      ]
     },
     "execution_count": 141,
     "metadata": {},
     "output_type": "execute_result"
    }
   ],
   "source": [
    "df.head()"
   ]
  },
  {
   "cell_type": "markdown",
   "id": "48419430",
   "metadata": {},
   "source": [
    "Note: # Children, # Adults, Marital status, and Zip code appear as floating point numbers. They can be cleaned to appear as int or string: only after we remove null values from them. Will do that later."
   ]
  },
  {
   "cell_type": "markdown",
   "id": "1287d554",
   "metadata": {},
   "source": [
    "### Checking Credit importance"
   ]
  },
  {
   "cell_type": "code",
   "execution_count": 142,
   "id": "2b58be8d",
   "metadata": {},
   "outputs": [
    {
     "data": {
      "image/png": "[encoded data removed]",
      "text/plain": [
       "<Figure size 2160x360 with 4 Axes>"
      ]
     },
     "metadata": {
      "needs_background": "light"
     },
     "output_type": "display_data"
    }
   ],
   "source": [
    "dt = pd.DataFrame(df['credit'].value_counts())\n",
    "dt2 = pd.crosstab(df['credit'],df['cancel'])\n",
    "order = ['high','medium','low']\n",
    "\n",
    "fig, ax = plt.subplots(nrows = 1, ncols = 4, figsize = (30,5))\n",
    "sns.barplot(x = dt.index, y = 'credit', order = order, data = dt, ax = ax[0])\n",
    "sns.barplot(x = dt2.index, y = 0, data = dt2, order = order, ax = ax[1])\n",
    "sns.barplot(x = dt2.index, y = 1, data = dt2, order = order, ax = ax[2])\n",
    "sns.barplot(x = dt2.index, y = 2, data = dt2, order = order,ax = ax[3])\n",
    "plt.show()"
   ]
  },
  {
   "cell_type": "markdown",
   "id": "6eae9bf6",
   "metadata": {},
   "source": [
    "OMG! There is clear effect of credit level on policy cancellations!!"
   ]
  },
  {
   "cell_type": "markdown",
   "id": "7dd76455",
   "metadata": {},
   "source": [
    "### Checking Claim Importance"
   ]
  },
  {
   "cell_type": "code",
   "execution_count": 143,
   "id": "3642178f",
   "metadata": {},
   "outputs": [
    {
     "data": {
      "image/png": "[encoded data removed]",
      "text/plain": [
       "<Figure size 2160x360 with 4 Axes>"
      ]
     },
     "metadata": {
      "needs_background": "light"
     },
     "output_type": "display_data"
    }
   ],
   "source": [
    "dt = pd.DataFrame(df['claim'].value_counts())\n",
    "dt2 = pd.crosstab(df['claim'],df['cancel'])\n",
    "order = ['N', 'Y']\n",
    "\n",
    "fig, ax = plt.subplots(nrows = 1, ncols = 4, figsize = (30,5))\n",
    "sns.barplot(x = dt.index, y = 'claim', order = order, data = dt, ax = ax[0])\n",
    "sns.barplot(x = dt2.index, y = 0, order = order, data = dt2, ax = ax[1])\n",
    "sns.barplot(x = dt2.index, y = 1, order = order, data = dt2, ax = ax[2])\n",
    "sns.barplot(x = dt2.index, y = 2, order = order, data = dt2, ax = ax[3])\n",
    "plt.show()"
   ]
  },
  {
   "cell_type": "markdown",
   "id": "e8cb012c",
   "metadata": {},
   "source": [
    "The proportion of claims is slightly less for retained policies.\n",
    "\n",
    "Still, Run Chi-Sq test of proportionality"
   ]
  },
  {
   "cell_type": "code",
   "execution_count": null,
   "id": "b2f0d7bb",
   "metadata": {},
   "outputs": [],
   "source": []
  },
  {
   "cell_type": "markdown",
   "id": "11fc3800",
   "metadata": {},
   "source": [
    "### Checking Coverage Type Importance"
   ]
  },
  {
   "cell_type": "code",
   "execution_count": 144,
   "id": "4162ca41",
   "metadata": {},
   "outputs": [
    {
     "data": {
      "image/png": "[encoded data removed]",
      "text/plain": [
       "<Figure size 2160x360 with 4 Axes>"
      ]
     },
     "metadata": {
      "needs_background": "light"
     },
     "output_type": "display_data"
    }
   ],
   "source": [
    "dt = pd.DataFrame(df['coverage.type'].value_counts())\n",
    "dt2 = pd.crosstab(df['coverage.type'],df['cancel'])\n",
    "order = ['A', 'B', 'C']\n",
    "\n",
    "fig, ax = plt.subplots(nrows = 1, ncols = 4, figsize = (30,5))\n",
    "sns.barplot(x = dt.index, y = 'coverage.type', order = order, data = dt, ax = ax[0])\n",
    "sns.barplot(x = dt2.index, y = 0, order = order, data = dt2, ax = ax[1])\n",
    "sns.barplot(x = dt2.index, y = 1, order = order, data = dt2, ax = ax[2])\n",
    "sns.barplot(x = dt2.index, y = 2, order = order, data = dt2, ax = ax[3])\n",
    "plt.show()"
   ]
  },
  {
   "cell_type": "markdown",
   "id": "2dbda7b7",
   "metadata": {},
   "source": [
    "Doesn't look like Coverage type is very different between cancelled & retained.\n",
    "\n",
    "Still, we may want to run Chi-Sq tests"
   ]
  },
  {
   "cell_type": "markdown",
   "id": "89cb8897",
   "metadata": {},
   "source": [
    "### Checking Sales Channel Importance"
   ]
  },
  {
   "cell_type": "code",
   "execution_count": 145,
   "id": "d11687f1",
   "metadata": {},
   "outputs": [
    {
     "data": {
      "image/png": "[encoded data removed]",
      "text/plain": [
       "<Figure size 2160x360 with 4 Axes>"
      ]
     },
     "metadata": {
      "needs_background": "light"
     },
     "output_type": "display_data"
    }
   ],
   "source": [
    "dt = pd.DataFrame(df['sales.channel'].value_counts())\n",
    "dt2 = pd.crosstab(df['sales.channel'],df['cancel'])\n",
    "order = ['Broker', 'Phone', 'Online']\n",
    "\n",
    "fig, ax = plt.subplots(nrows = 1, ncols = 4, figsize = (30,5))\n",
    "sns.barplot(x = dt.index, y = 'sales.channel', order = order, data = dt, ax = ax[0])\n",
    "sns.barplot(x = dt2.index, y = 0, order = order, data = dt2, ax = ax[1])\n",
    "sns.barplot(x = dt2.index, y = 1, order = order, data = dt2, ax = ax[2])\n",
    "sns.barplot(x = dt2.index, y = 2, order = order, data = dt2, ax = ax[3])\n",
    "plt.show()"
   ]
  },
  {
   "cell_type": "markdown",
   "id": "0da29fda",
   "metadata": {},
   "source": [
    "OMG!! There is clear effect of Sales Channel on Policies getting cancelled or retained!\n",
    "\n",
    "Still, run chi-sq test of independence if want."
   ]
  },
  {
   "cell_type": "markdown",
   "id": "1063d39d",
   "metadata": {},
   "source": [
    "### Checking Dwelling Type Importance"
   ]
  },
  {
   "cell_type": "code",
   "execution_count": 146,
   "id": "bf64ba46",
   "metadata": {},
   "outputs": [
    {
     "data": {
      "image/png": "[encoded data removed]",
      "text/plain": [
       "<Figure size 2160x360 with 4 Axes>"
      ]
     },
     "metadata": {
      "needs_background": "light"
     },
     "output_type": "display_data"
    }
   ],
   "source": [
    "dt = pd.DataFrame(df['dwelling.type'].value_counts())\n",
    "dt2 = pd.crosstab(df['dwelling.type'],df['cancel'])\n",
    "order = ['House', 'Condo', 'Tenant']\n",
    "\n",
    "fig, ax = plt.subplots(nrows = 1, ncols = 4, figsize = (30,5))\n",
    "sns.barplot(x = dt.index, y = 'dwelling.type', order = order, data = dt, ax = ax[0])\n",
    "sns.barplot(x = dt2.index, y = 0, order = order, data = dt2, ax = ax[1])\n",
    "sns.barplot(x = dt2.index, y = 1, order = order, data = dt2, ax = ax[2])\n",
    "sns.barplot(x = dt2.index, y = 2, order = order, data = dt2, ax = ax[3])\n",
    "plt.show()"
   ]
  },
  {
   "cell_type": "markdown",
   "id": "1a4265ce",
   "metadata": {},
   "source": [
    "Slightly higher cases of policy cancellation for Condo & Tenant. Still, doesn't say much.\n",
    "\n",
    "Best to run Chi-Sq tests."
   ]
  },
  {
   "cell_type": "markdown",
   "id": "0694e437",
   "metadata": {},
   "source": [
    "### Checking Premium Distribution across Cancellation Indicator"
   ]
  },
  {
   "cell_type": "code",
   "execution_count": 157,
   "id": "8d968072",
   "metadata": {},
   "outputs": [
    {
     "data": {
      "image/png": "[encoded data removed]",
      "text/plain": [
       "<Figure size 1296x432 with 2 Axes>"
      ]
     },
     "metadata": {
      "needs_background": "light"
     },
     "output_type": "display_data"
    }
   ],
   "source": [
    "fig, ax = plt.subplots(nrows = 1, ncols = 2, figsize = (18, 6))\n",
    "sns.histplot(x = 'premium', data = df, ax = ax[0])\n",
    "sns.boxplot(x = 'cancel', y = 'premium', data = df, ax = ax[1])\n",
    "plt.show()"
   ]
  },
  {
   "cell_type": "markdown",
   "id": "6a011aca",
   "metadata": {},
   "source": [
    "Doesn't appear any difference in premium means across cancellation indicator. Doesn't look like an important variable."
   ]
  },
  {
   "cell_type": "markdown",
   "id": "58c52128",
   "metadata": {},
   "source": [
    "### Checking Tenure Distribution across Cancellation Indicator"
   ]
  },
  {
   "cell_type": "code",
   "execution_count": 158,
   "id": "ac1de21f",
   "metadata": {},
   "outputs": [
    {
     "data": {
      "image/png": "[encoded data removed]",
      "text/plain": [
       "<Figure size 1296x432 with 2 Axes>"
      ]
     },
     "metadata": {
      "needs_background": "light"
     },
     "output_type": "display_data"
    }
   ],
   "source": [
    "fig, ax = plt.subplots(nrows = 1, ncols = 2, figsize = (18, 6))\n",
    "sns.histplot(x = 'tenure', data = df, ax = ax[0])\n",
    "sns.boxplot(x = 'cancel', y = 'tenure', data = df, ax = ax[1])\n",
    "plt.show()"
   ]
  },
  {
   "cell_type": "markdown",
   "id": "2a962299",
   "metadata": {},
   "source": [
    "Tenure is Bimodal.....need to look into this. Mean Tenure of retained customers appears slightly higher than others. Will need to perform ANOVA."
   ]
  },
  {
   "cell_type": "code",
   "execution_count": null,
   "id": "bc63e51e",
   "metadata": {},
   "outputs": [],
   "source": []
  },
  {
   "cell_type": "code",
   "execution_count": null,
   "id": "b6b58aa5",
   "metadata": {},
   "outputs": [],
   "source": []
  },
  {
   "cell_type": "markdown",
   "id": "be65c5c9",
   "metadata": {},
   "source": [
    "## Secondary Set of Features: Numerical"
   ]
  },
  {
   "cell_type": "code",
   "execution_count": 147,
   "id": "ece3fc74",
   "metadata": {},
   "outputs": [
    {
     "data": {
      "text/html": [
       "<div>\n",
       "<style scoped>\n",
       "    .dataframe tbody tr th:only-of-type {\n",
       "        vertical-align: middle;\n",
       "    }\n",
       "\n",
       "    .dataframe tbody tr th {\n",
       "        vertical-align: top;\n",
       "    }\n",
       "\n",
       "    .dataframe thead th {\n",
       "        text-align: right;\n",
       "    }\n",
       "</style>\n",
       "<table border=\"1\" class=\"dataframe\">\n",
       "  <thead>\n",
       "    <tr style=\"text-align: right;\">\n",
       "      <th></th>\n",
       "      <th>cancel</th>\n",
       "      <th>year</th>\n",
       "      <th>zip.code</th>\n",
       "      <th>house.color</th>\n",
       "      <th>ni.age</th>\n",
       "      <th>len.at.res</th>\n",
       "      <th>credit</th>\n",
       "      <th>coverage.type</th>\n",
       "      <th>dwelling.type</th>\n",
       "      <th>premium</th>\n",
       "      <th>sales.channel</th>\n",
       "      <th>ni.gender</th>\n",
       "      <th>ni.marital.status</th>\n",
       "      <th>n.adults</th>\n",
       "      <th>n.children</th>\n",
       "      <th>tenure</th>\n",
       "      <th>claim.ind</th>\n",
       "      <th>claim</th>\n",
       "    </tr>\n",
       "  </thead>\n",
       "  <tbody>\n",
       "    <tr>\n",
       "      <th>0</th>\n",
       "      <td>0</td>\n",
       "      <td>2013</td>\n",
       "      <td>98004.0</td>\n",
       "      <td>blue</td>\n",
       "      <td>37.0</td>\n",
       "      <td>18.000000</td>\n",
       "      <td>high</td>\n",
       "      <td>C</td>\n",
       "      <td>Tenant</td>\n",
       "      <td>950.507336</td>\n",
       "      <td>Broker</td>\n",
       "      <td>F</td>\n",
       "      <td>0.0</td>\n",
       "      <td>2.0</td>\n",
       "      <td>0.0</td>\n",
       "      <td>15</td>\n",
       "      <td>0</td>\n",
       "      <td>N</td>\n",
       "    </tr>\n",
       "    <tr>\n",
       "      <th>1</th>\n",
       "      <td>0</td>\n",
       "      <td>2013</td>\n",
       "      <td>85017.0</td>\n",
       "      <td>white</td>\n",
       "      <td>40.0</td>\n",
       "      <td>17.000000</td>\n",
       "      <td>medium</td>\n",
       "      <td>A</td>\n",
       "      <td>Condo</td>\n",
       "      <td>909.346046</td>\n",
       "      <td>Broker</td>\n",
       "      <td>F</td>\n",
       "      <td>1.0</td>\n",
       "      <td>5.0</td>\n",
       "      <td>0.0</td>\n",
       "      <td>15</td>\n",
       "      <td>0</td>\n",
       "      <td>N</td>\n",
       "    </tr>\n",
       "    <tr>\n",
       "      <th>2</th>\n",
       "      <td>0</td>\n",
       "      <td>2013</td>\n",
       "      <td>80021.0</td>\n",
       "      <td>white</td>\n",
       "      <td>45.0</td>\n",
       "      <td>14.000000</td>\n",
       "      <td>high</td>\n",
       "      <td>A</td>\n",
       "      <td>House</td>\n",
       "      <td>897.084502</td>\n",
       "      <td>Phone</td>\n",
       "      <td>M</td>\n",
       "      <td>0.0</td>\n",
       "      <td>1.0</td>\n",
       "      <td>0.0</td>\n",
       "      <td>14</td>\n",
       "      <td>0</td>\n",
       "      <td>N</td>\n",
       "    </tr>\n",
       "    <tr>\n",
       "      <th>3</th>\n",
       "      <td>0</td>\n",
       "      <td>2013</td>\n",
       "      <td>85002.0</td>\n",
       "      <td>red</td>\n",
       "      <td>45.0</td>\n",
       "      <td>24.366136</td>\n",
       "      <td>high</td>\n",
       "      <td>A</td>\n",
       "      <td>House</td>\n",
       "      <td>979.039007</td>\n",
       "      <td>Phone</td>\n",
       "      <td>M</td>\n",
       "      <td>0.0</td>\n",
       "      <td>5.0</td>\n",
       "      <td>0.0</td>\n",
       "      <td>22</td>\n",
       "      <td>1</td>\n",
       "      <td>Y</td>\n",
       "    </tr>\n",
       "    <tr>\n",
       "      <th>4</th>\n",
       "      <td>0</td>\n",
       "      <td>2013</td>\n",
       "      <td>50001.0</td>\n",
       "      <td>yellow</td>\n",
       "      <td>36.0</td>\n",
       "      <td>16.000000</td>\n",
       "      <td>high</td>\n",
       "      <td>C</td>\n",
       "      <td>House</td>\n",
       "      <td>932.379027</td>\n",
       "      <td>Broker</td>\n",
       "      <td>M</td>\n",
       "      <td>1.0</td>\n",
       "      <td>2.0</td>\n",
       "      <td>4.0</td>\n",
       "      <td>4</td>\n",
       "      <td>0</td>\n",
       "      <td>N</td>\n",
       "    </tr>\n",
       "  </tbody>\n",
       "</table>\n",
       "</div>"
      ],
      "text/plain": [
       "   cancel  year  zip.code house.color  ni.age  len.at.res  credit  \\\n",
       "0       0  2013   98004.0        blue    37.0   18.000000    high   \n",
       "1       0  2013   85017.0       white    40.0   17.000000  medium   \n",
       "2       0  2013   80021.0       white    45.0   14.000000    high   \n",
       "3       0  2013   85002.0         red    45.0   24.366136    high   \n",
       "4       0  2013   50001.0      yellow    36.0   16.000000    high   \n",
       "\n",
       "  coverage.type dwelling.type     premium sales.channel ni.gender  \\\n",
       "0             C        Tenant  950.507336        Broker         F   \n",
       "1             A         Condo  909.346046        Broker         F   \n",
       "2             A         House  897.084502         Phone         M   \n",
       "3             A         House  979.039007         Phone         M   \n",
       "4             C         House  932.379027        Broker         M   \n",
       "\n",
       "   ni.marital.status  n.adults  n.children  tenure  claim.ind claim  \n",
       "0                0.0       2.0         0.0      15          0     N  \n",
       "1                1.0       5.0         0.0      15          0     N  \n",
       "2                0.0       1.0         0.0      14          0     N  \n",
       "3                0.0       5.0         0.0      22          1     Y  \n",
       "4                1.0       2.0         4.0       4          0     N  "
      ]
     },
     "execution_count": 147,
     "metadata": {},
     "output_type": "execute_result"
    }
   ],
   "source": [
    "df.head()"
   ]
  },
  {
   "cell_type": "code",
   "execution_count": 148,
   "id": "e64bacfd",
   "metadata": {},
   "outputs": [
    {
     "data": {
      "image/png": "[encoded data removed]",
      "text/plain": [
       "<Figure size 1008x432 with 4 Axes>"
      ]
     },
     "metadata": {
      "needs_background": "light"
     },
     "output_type": "display_data"
    }
   ],
   "source": [
    "cols2 = ['ni.age','len.at.res','premium','tenure']\n",
    "\n",
    "fig, ax = plt.subplots(nrows = 2, ncols = 2, figsize = (14,6))\n",
    "for i, p in enumerate(cols2):\n",
    "    sns.histplot(x = p, data = df, color = 'red', ax = ax[i//2, i%2])\n",
    "plt.show()"
   ]
  },
  {
   "cell_type": "code",
   "execution_count": null,
   "id": "fe20fa40",
   "metadata": {},
   "outputs": [],
   "source": []
  },
  {
   "cell_type": "code",
   "execution_count": null,
   "id": "8f341663",
   "metadata": {},
   "outputs": [],
   "source": []
  },
  {
   "cell_type": "code",
   "execution_count": null,
   "id": "c317ddea",
   "metadata": {},
   "outputs": [],
   "source": []
  },
  {
   "cell_type": "code",
   "execution_count": null,
   "id": "e94a142a",
   "metadata": {},
   "outputs": [],
   "source": []
  },
  {
   "cell_type": "code",
   "execution_count": null,
   "id": "9e8258d2",
   "metadata": {},
   "outputs": [],
   "source": []
  },
  {
   "cell_type": "code",
   "execution_count": null,
   "id": "40e82552",
   "metadata": {},
   "outputs": [],
   "source": []
  },
  {
   "cell_type": "code",
   "execution_count": null,
   "id": "88e01706",
   "metadata": {},
   "outputs": [],
   "source": []
  }
 ],
 "metadata": {
  "kernelspec": {
   "display_name": "Python 3",
   "language": "python",
   "name": "python3"
  },
  "language_info": {
   "codemirror_mode": {
    "name": "ipython",
    "version": 3
   },
   "file_extension": ".py",
   "mimetype": "text/x-python",
   "name": "python",
   "nbconvert_exporter": "python",
   "pygments_lexer": "ipython3",
   "version": "3.8.8"
  }
 },
 "nbformat": 4,
 "nbformat_minor": 5
}
