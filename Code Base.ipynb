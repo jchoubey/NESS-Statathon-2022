{
 "cells": [
  {
   "cell_type": "markdown",
   "id": "9fe9df50",
   "metadata": {},
   "source": [
    "### Import Libraries"
   ]
  },
  {
   "cell_type": "code",
   "execution_count": 79,
   "id": "f64c1031",
   "metadata": {},
   "outputs": [],
   "source": [
    "import pandas as pd\n",
    "import numpy as np\n",
    "import matplotlib.pyplot as plt\n",
    "import seaborn as sns"
   ]
  },
  {
   "cell_type": "markdown",
   "id": "55fbc006",
   "metadata": {},
   "source": [
    "### Data Upload"
   ]
  },
  {
   "cell_type": "code",
   "execution_count": 83,
   "id": "726086c5",
   "metadata": {
    "scrolled": true
   },
   "outputs": [
    {
     "data": {
      "text/html": [
       "<div>\n",
       "<style scoped>\n",
       "    .dataframe tbody tr th:only-of-type {\n",
       "        vertical-align: middle;\n",
       "    }\n",
       "\n",
       "    .dataframe tbody tr th {\n",
       "        vertical-align: top;\n",
       "    }\n",
       "\n",
       "    .dataframe thead th {\n",
       "        text-align: right;\n",
       "    }\n",
       "</style>\n",
       "<table border=\"1\" class=\"dataframe\">\n",
       "  <thead>\n",
       "    <tr style=\"text-align: right;\">\n",
       "      <th></th>\n",
       "      <th>cancel</th>\n",
       "      <th>year</th>\n",
       "      <th>zip.code</th>\n",
       "      <th>house.color</th>\n",
       "      <th>ni.age</th>\n",
       "      <th>len.at.res</th>\n",
       "      <th>credit</th>\n",
       "      <th>coverage.type</th>\n",
       "      <th>dwelling.type</th>\n",
       "      <th>premium</th>\n",
       "      <th>sales.channel</th>\n",
       "      <th>ni.gender</th>\n",
       "      <th>ni.marital.status</th>\n",
       "      <th>n.adults</th>\n",
       "      <th>n.children</th>\n",
       "      <th>tenure</th>\n",
       "      <th>claim.ind</th>\n",
       "    </tr>\n",
       "  </thead>\n",
       "  <tbody>\n",
       "    <tr>\n",
       "      <th>0</th>\n",
       "      <td>0</td>\n",
       "      <td>2013</td>\n",
       "      <td>98004.0</td>\n",
       "      <td>blue</td>\n",
       "      <td>37.0</td>\n",
       "      <td>18.000000</td>\n",
       "      <td>high</td>\n",
       "      <td>C</td>\n",
       "      <td>Tenant</td>\n",
       "      <td>950.507336</td>\n",
       "      <td>Broker</td>\n",
       "      <td>F</td>\n",
       "      <td>0.0</td>\n",
       "      <td>2.0</td>\n",
       "      <td>0.0</td>\n",
       "      <td>15.0</td>\n",
       "      <td>0.0</td>\n",
       "    </tr>\n",
       "    <tr>\n",
       "      <th>1</th>\n",
       "      <td>0</td>\n",
       "      <td>2013</td>\n",
       "      <td>85017.0</td>\n",
       "      <td>white</td>\n",
       "      <td>40.0</td>\n",
       "      <td>17.000000</td>\n",
       "      <td>medium</td>\n",
       "      <td>A</td>\n",
       "      <td>Condo</td>\n",
       "      <td>909.346046</td>\n",
       "      <td>Broker</td>\n",
       "      <td>F</td>\n",
       "      <td>1.0</td>\n",
       "      <td>5.0</td>\n",
       "      <td>0.0</td>\n",
       "      <td>15.0</td>\n",
       "      <td>0.0</td>\n",
       "    </tr>\n",
       "    <tr>\n",
       "      <th>2</th>\n",
       "      <td>0</td>\n",
       "      <td>2013</td>\n",
       "      <td>80021.0</td>\n",
       "      <td>white</td>\n",
       "      <td>45.0</td>\n",
       "      <td>14.000000</td>\n",
       "      <td>high</td>\n",
       "      <td>A</td>\n",
       "      <td>House</td>\n",
       "      <td>897.084502</td>\n",
       "      <td>Phone</td>\n",
       "      <td>M</td>\n",
       "      <td>0.0</td>\n",
       "      <td>1.0</td>\n",
       "      <td>0.0</td>\n",
       "      <td>14.0</td>\n",
       "      <td>0.0</td>\n",
       "    </tr>\n",
       "    <tr>\n",
       "      <th>3</th>\n",
       "      <td>0</td>\n",
       "      <td>2013</td>\n",
       "      <td>85002.0</td>\n",
       "      <td>red</td>\n",
       "      <td>45.0</td>\n",
       "      <td>24.366136</td>\n",
       "      <td>high</td>\n",
       "      <td>A</td>\n",
       "      <td>House</td>\n",
       "      <td>979.039007</td>\n",
       "      <td>Phone</td>\n",
       "      <td>M</td>\n",
       "      <td>0.0</td>\n",
       "      <td>5.0</td>\n",
       "      <td>0.0</td>\n",
       "      <td>22.0</td>\n",
       "      <td>1.0</td>\n",
       "    </tr>\n",
       "    <tr>\n",
       "      <th>4</th>\n",
       "      <td>0</td>\n",
       "      <td>2013</td>\n",
       "      <td>50001.0</td>\n",
       "      <td>yellow</td>\n",
       "      <td>36.0</td>\n",
       "      <td>16.000000</td>\n",
       "      <td>high</td>\n",
       "      <td>C</td>\n",
       "      <td>House</td>\n",
       "      <td>932.379027</td>\n",
       "      <td>Broker</td>\n",
       "      <td>M</td>\n",
       "      <td>1.0</td>\n",
       "      <td>2.0</td>\n",
       "      <td>4.0</td>\n",
       "      <td>4.0</td>\n",
       "      <td>0.0</td>\n",
       "    </tr>\n",
       "  </tbody>\n",
       "</table>\n",
       "</div>"
      ],
      "text/plain": [
       "   cancel  year  zip.code house.color  ni.age  len.at.res  credit  \\\n",
       "0       0  2013   98004.0        blue    37.0   18.000000    high   \n",
       "1       0  2013   85017.0       white    40.0   17.000000  medium   \n",
       "2       0  2013   80021.0       white    45.0   14.000000    high   \n",
       "3       0  2013   85002.0         red    45.0   24.366136    high   \n",
       "4       0  2013   50001.0      yellow    36.0   16.000000    high   \n",
       "\n",
       "  coverage.type dwelling.type     premium sales.channel ni.gender  \\\n",
       "0             C        Tenant  950.507336        Broker         F   \n",
       "1             A         Condo  909.346046        Broker         F   \n",
       "2             A         House  897.084502         Phone         M   \n",
       "3             A         House  979.039007         Phone         M   \n",
       "4             C         House  932.379027        Broker         M   \n",
       "\n",
       "   ni.marital.status  n.adults  n.children  tenure  claim.ind  \n",
       "0                0.0       2.0         0.0    15.0        0.0  \n",
       "1                1.0       5.0         0.0    15.0        0.0  \n",
       "2                0.0       1.0         0.0    14.0        0.0  \n",
       "3                0.0       5.0         0.0    22.0        1.0  \n",
       "4                1.0       2.0         4.0     4.0        0.0  "
      ]
     },
     "execution_count": 83,
     "metadata": {},
     "output_type": "execute_result"
    }
   ],
   "source": [
    "df = pd.read_csv('train.csv')\n",
    "df.drop(columns = 'id', inplace = True)\n",
    "df.head()"
   ]
  },
  {
   "cell_type": "code",
   "execution_count": 87,
   "id": "2cf683b1",
   "metadata": {},
   "outputs": [
    {
     "name": "stdout",
     "output_type": "stream",
     "text": [
      "<class 'pandas.core.frame.DataFrame'>\n",
      "RangeIndex: 1048575 entries, 0 to 1048574\n",
      "Data columns (total 17 columns):\n",
      " #   Column             Non-Null Count    Dtype  \n",
      "---  ------             --------------    -----  \n",
      " 0   cancel             1048575 non-null  int64  \n",
      " 1   year               1048575 non-null  int64  \n",
      " 2   zip.code           1047624 non-null  float64\n",
      " 3   house.color        1047630 non-null  object \n",
      " 4   ni.age             1047573 non-null  float64\n",
      " 5   len.at.res         1047608 non-null  float64\n",
      " 6   credit             1047668 non-null  object \n",
      " 7   coverage.type      1047595 non-null  object \n",
      " 8   dwelling.type      1047582 non-null  object \n",
      " 9   premium            1047618 non-null  float64\n",
      " 10  sales.channel      1047550 non-null  object \n",
      " 11  ni.gender          1047615 non-null  object \n",
      " 12  ni.marital.status  1047581 non-null  float64\n",
      " 13  n.adults           1047644 non-null  float64\n",
      " 14  n.children         1047637 non-null  float64\n",
      " 15  tenure             1047595 non-null  float64\n",
      " 16  claim.ind          1047589 non-null  float64\n",
      "dtypes: float64(9), int64(2), object(6)\n",
      "memory usage: 136.0+ MB\n"
     ]
    }
   ],
   "source": [
    "df.info()"
   ]
  },
  {
   "cell_type": "code",
   "execution_count": null,
   "id": "73bc167d",
   "metadata": {},
   "outputs": [],
   "source": []
  },
  {
   "cell_type": "markdown",
   "id": "6e76577a",
   "metadata": {},
   "source": [
    "### Data Cleaning"
   ]
  },
  {
   "cell_type": "markdown",
   "id": "098a35db",
   "metadata": {},
   "source": [
    "**1. Response variable: cancel**"
   ]
  },
  {
   "cell_type": "code",
   "execution_count": 11,
   "id": "11c78ed5",
   "metadata": {},
   "outputs": [
    {
     "data": {
      "text/plain": [
       " 0    741064\n",
       " 2    228777\n",
       " 1     75282\n",
       "-1      3452\n",
       "Name: cancel, dtype: int64"
      ]
     },
     "execution_count": 11,
     "metadata": {},
     "output_type": "execute_result"
    }
   ],
   "source": [
    "df['cancel'].value_counts()"
   ]
  },
  {
   "cell_type": "markdown",
   "id": "fa91ca2f",
   "metadata": {},
   "source": [
    "$\\space\\space\\space\\space\\space\\space\\space\\space$ ***What does cancel = -1 indicate?*** *Since data is so low for cancel = -1, should we drop these records?*"
   ]
  },
  {
   "cell_type": "code",
   "execution_count": 12,
   "id": "13d51ddc",
   "metadata": {},
   "outputs": [
    {
     "data": {
      "text/plain": [
       "0    741064\n",
       "2    228777\n",
       "1     75282\n",
       "Name: cancel, dtype: int64"
      ]
     },
     "execution_count": 12,
     "metadata": {},
     "output_type": "execute_result"
    }
   ],
   "source": [
    "df = df[df['cancel'] != -1]\n",
    "df['cancel'].value_counts()"
   ]
  },
  {
   "cell_type": "markdown",
   "id": "37bfbe27",
   "metadata": {},
   "source": [
    "### Missing Data"
   ]
  },
  {
   "cell_type": "code",
   "execution_count": 13,
   "id": "d048b7f7",
   "metadata": {},
   "outputs": [
    {
     "data": {
      "text/plain": [
       "14466"
      ]
     },
     "execution_count": 13,
     "metadata": {},
     "output_type": "execute_result"
    }
   ],
   "source": [
    "df.isnull().sum().sum()"
   ]
  },
  {
   "cell_type": "code",
   "execution_count": 25,
   "id": "a9ebc0fa",
   "metadata": {},
   "outputs": [
    {
     "data": {
      "text/plain": [
       "cancel                  0\n",
       "year                    0\n",
       "zip.code              944\n",
       "house.color           939\n",
       "ni.age               1001\n",
       "len.at.res            960\n",
       "credit                905\n",
       "coverage.type         979\n",
       "dwelling.type         990\n",
       "premium               955\n",
       "sales.channel        1020\n",
       "ni.gender             957\n",
       "ni.marital.status     992\n",
       "n.adults              929\n",
       "n.children            935\n",
       "tenure                978\n",
       "claim.ind             982\n",
       "dtype: int64"
      ]
     },
     "execution_count": 25,
     "metadata": {},
     "output_type": "execute_result"
    }
   ],
   "source": [
    "df.isnull().sum()"
   ]
  },
  {
   "cell_type": "code",
   "execution_count": null,
   "id": "74ad5934",
   "metadata": {},
   "outputs": [],
   "source": []
  },
  {
   "cell_type": "code",
   "execution_count": null,
   "id": "4726d222",
   "metadata": {},
   "outputs": [],
   "source": []
  },
  {
   "cell_type": "markdown",
   "id": "7543e0b1",
   "metadata": {},
   "source": [
    "**1. Impute missing Credit level records**"
   ]
  },
  {
   "cell_type": "code",
   "execution_count": 15,
   "id": "1e23e7a5",
   "metadata": {},
   "outputs": [
    {
     "data": {
      "text/plain": [
       "0         high\n",
       "1       medium\n",
       "14         low\n",
       "2557       NaN\n",
       "Name: credit, dtype: object"
      ]
     },
     "execution_count": 15,
     "metadata": {},
     "output_type": "execute_result"
    }
   ],
   "source": [
    "df['credit'].drop_duplicates()"
   ]
  },
  {
   "cell_type": "code",
   "execution_count": 14,
   "id": "349c581e",
   "metadata": {},
   "outputs": [
    {
     "data": {
      "text/plain": [
       "high      645327\n",
       "medium    227752\n",
       "low       171139\n",
       "Name: credit, dtype: int64"
      ]
     },
     "execution_count": 14,
     "metadata": {},
     "output_type": "execute_result"
    }
   ],
   "source": [
    "df['credit'].value_counts()"
   ]
  },
  {
   "cell_type": "code",
   "execution_count": 16,
   "id": "4b1ca894",
   "metadata": {},
   "outputs": [
    {
     "data": {
      "text/html": [
       "<div>\n",
       "<style scoped>\n",
       "    .dataframe tbody tr th:only-of-type {\n",
       "        vertical-align: middle;\n",
       "    }\n",
       "\n",
       "    .dataframe tbody tr th {\n",
       "        vertical-align: top;\n",
       "    }\n",
       "\n",
       "    .dataframe thead th {\n",
       "        text-align: right;\n",
       "    }\n",
       "</style>\n",
       "<table border=\"1\" class=\"dataframe\">\n",
       "  <thead>\n",
       "    <tr style=\"text-align: right;\">\n",
       "      <th></th>\n",
       "      <th>cancel</th>\n",
       "      <th>year</th>\n",
       "      <th>zip.code</th>\n",
       "      <th>house.color</th>\n",
       "      <th>ni.age</th>\n",
       "      <th>len.at.res</th>\n",
       "      <th>credit</th>\n",
       "      <th>coverage.type</th>\n",
       "      <th>dwelling.type</th>\n",
       "      <th>premium</th>\n",
       "      <th>sales.channel</th>\n",
       "      <th>ni.gender</th>\n",
       "      <th>ni.marital.status</th>\n",
       "      <th>n.adults</th>\n",
       "      <th>n.children</th>\n",
       "      <th>tenure</th>\n",
       "      <th>claim.ind</th>\n",
       "    </tr>\n",
       "  </thead>\n",
       "  <tbody>\n",
       "    <tr>\n",
       "      <th>2557</th>\n",
       "      <td>2</td>\n",
       "      <td>2014</td>\n",
       "      <td>50051.0</td>\n",
       "      <td>blue</td>\n",
       "      <td>44.0</td>\n",
       "      <td>12.0</td>\n",
       "      <td>NaN</td>\n",
       "      <td>C</td>\n",
       "      <td>House</td>\n",
       "      <td>890.594274</td>\n",
       "      <td>Broker</td>\n",
       "      <td>F</td>\n",
       "      <td>1.0</td>\n",
       "      <td>4.0</td>\n",
       "      <td>0.0</td>\n",
       "      <td>11.0</td>\n",
       "      <td>0.0</td>\n",
       "    </tr>\n",
       "    <tr>\n",
       "      <th>4463</th>\n",
       "      <td>0</td>\n",
       "      <td>2015</td>\n",
       "      <td>85004.0</td>\n",
       "      <td>blue</td>\n",
       "      <td>30.0</td>\n",
       "      <td>16.0</td>\n",
       "      <td>NaN</td>\n",
       "      <td>A</td>\n",
       "      <td>Tenant</td>\n",
       "      <td>878.590863</td>\n",
       "      <td>Broker</td>\n",
       "      <td>M</td>\n",
       "      <td>0.0</td>\n",
       "      <td>1.0</td>\n",
       "      <td>0.0</td>\n",
       "      <td>8.0</td>\n",
       "      <td>0.0</td>\n",
       "    </tr>\n",
       "    <tr>\n",
       "      <th>7678</th>\n",
       "      <td>0</td>\n",
       "      <td>2013</td>\n",
       "      <td>50014.0</td>\n",
       "      <td>red</td>\n",
       "      <td>43.0</td>\n",
       "      <td>15.0</td>\n",
       "      <td>NaN</td>\n",
       "      <td>C</td>\n",
       "      <td>House</td>\n",
       "      <td>893.971163</td>\n",
       "      <td>Phone</td>\n",
       "      <td>F</td>\n",
       "      <td>1.0</td>\n",
       "      <td>1.0</td>\n",
       "      <td>7.0</td>\n",
       "      <td>16.0</td>\n",
       "      <td>0.0</td>\n",
       "    </tr>\n",
       "    <tr>\n",
       "      <th>12812</th>\n",
       "      <td>0</td>\n",
       "      <td>2015</td>\n",
       "      <td>50001.0</td>\n",
       "      <td>blue</td>\n",
       "      <td>34.0</td>\n",
       "      <td>9.0</td>\n",
       "      <td>NaN</td>\n",
       "      <td>A</td>\n",
       "      <td>House</td>\n",
       "      <td>874.989911</td>\n",
       "      <td>Broker</td>\n",
       "      <td>M</td>\n",
       "      <td>1.0</td>\n",
       "      <td>4.0</td>\n",
       "      <td>1.0</td>\n",
       "      <td>4.0</td>\n",
       "      <td>0.0</td>\n",
       "    </tr>\n",
       "    <tr>\n",
       "      <th>13206</th>\n",
       "      <td>0</td>\n",
       "      <td>2016</td>\n",
       "      <td>80027.0</td>\n",
       "      <td>white</td>\n",
       "      <td>40.0</td>\n",
       "      <td>11.0</td>\n",
       "      <td>NaN</td>\n",
       "      <td>C</td>\n",
       "      <td>Condo</td>\n",
       "      <td>896.331416</td>\n",
       "      <td>Broker</td>\n",
       "      <td>F</td>\n",
       "      <td>0.0</td>\n",
       "      <td>3.0</td>\n",
       "      <td>0.0</td>\n",
       "      <td>22.0</td>\n",
       "      <td>0.0</td>\n",
       "    </tr>\n",
       "    <tr>\n",
       "      <th>...</th>\n",
       "      <td>...</td>\n",
       "      <td>...</td>\n",
       "      <td>...</td>\n",
       "      <td>...</td>\n",
       "      <td>...</td>\n",
       "      <td>...</td>\n",
       "      <td>...</td>\n",
       "      <td>...</td>\n",
       "      <td>...</td>\n",
       "      <td>...</td>\n",
       "      <td>...</td>\n",
       "      <td>...</td>\n",
       "      <td>...</td>\n",
       "      <td>...</td>\n",
       "      <td>...</td>\n",
       "      <td>...</td>\n",
       "      <td>...</td>\n",
       "    </tr>\n",
       "    <tr>\n",
       "      <th>1041049</th>\n",
       "      <td>0</td>\n",
       "      <td>2013</td>\n",
       "      <td>20129.0</td>\n",
       "      <td>blue</td>\n",
       "      <td>57.0</td>\n",
       "      <td>14.0</td>\n",
       "      <td>NaN</td>\n",
       "      <td>C</td>\n",
       "      <td>House</td>\n",
       "      <td>950.723249</td>\n",
       "      <td>Broker</td>\n",
       "      <td>F</td>\n",
       "      <td>1.0</td>\n",
       "      <td>3.0</td>\n",
       "      <td>2.0</td>\n",
       "      <td>11.0</td>\n",
       "      <td>0.0</td>\n",
       "    </tr>\n",
       "    <tr>\n",
       "      <th>1046459</th>\n",
       "      <td>0</td>\n",
       "      <td>2016</td>\n",
       "      <td>80038.0</td>\n",
       "      <td>blue</td>\n",
       "      <td>42.0</td>\n",
       "      <td>16.0</td>\n",
       "      <td>NaN</td>\n",
       "      <td>B</td>\n",
       "      <td>Condo</td>\n",
       "      <td>923.404940</td>\n",
       "      <td>Phone</td>\n",
       "      <td>F</td>\n",
       "      <td>0.0</td>\n",
       "      <td>2.0</td>\n",
       "      <td>0.0</td>\n",
       "      <td>15.0</td>\n",
       "      <td>0.0</td>\n",
       "    </tr>\n",
       "    <tr>\n",
       "      <th>1046554</th>\n",
       "      <td>0</td>\n",
       "      <td>2016</td>\n",
       "      <td>50021.0</td>\n",
       "      <td>white</td>\n",
       "      <td>38.0</td>\n",
       "      <td>15.0</td>\n",
       "      <td>NaN</td>\n",
       "      <td>B</td>\n",
       "      <td>House</td>\n",
       "      <td>917.345739</td>\n",
       "      <td>Broker</td>\n",
       "      <td>M</td>\n",
       "      <td>1.0</td>\n",
       "      <td>1.0</td>\n",
       "      <td>3.0</td>\n",
       "      <td>9.0</td>\n",
       "      <td>0.0</td>\n",
       "    </tr>\n",
       "    <tr>\n",
       "      <th>1047598</th>\n",
       "      <td>0</td>\n",
       "      <td>2016</td>\n",
       "      <td>50047.0</td>\n",
       "      <td>white</td>\n",
       "      <td>58.0</td>\n",
       "      <td>9.0</td>\n",
       "      <td>NaN</td>\n",
       "      <td>C</td>\n",
       "      <td>House</td>\n",
       "      <td>903.992003</td>\n",
       "      <td>Broker</td>\n",
       "      <td>F</td>\n",
       "      <td>1.0</td>\n",
       "      <td>3.0</td>\n",
       "      <td>3.0</td>\n",
       "      <td>8.0</td>\n",
       "      <td>0.0</td>\n",
       "    </tr>\n",
       "    <tr>\n",
       "      <th>1048271</th>\n",
       "      <td>0</td>\n",
       "      <td>2013</td>\n",
       "      <td>50046.0</td>\n",
       "      <td>blue</td>\n",
       "      <td>45.0</td>\n",
       "      <td>13.0</td>\n",
       "      <td>NaN</td>\n",
       "      <td>B</td>\n",
       "      <td>Tenant</td>\n",
       "      <td>934.179217</td>\n",
       "      <td>Phone</td>\n",
       "      <td>F</td>\n",
       "      <td>0.0</td>\n",
       "      <td>1.0</td>\n",
       "      <td>0.0</td>\n",
       "      <td>17.0</td>\n",
       "      <td>0.0</td>\n",
       "    </tr>\n",
       "  </tbody>\n",
       "</table>\n",
       "<p>905 rows × 17 columns</p>\n",
       "</div>"
      ],
      "text/plain": [
       "         cancel  year  zip.code house.color  ni.age  len.at.res credit  \\\n",
       "2557          2  2014   50051.0        blue    44.0        12.0    NaN   \n",
       "4463          0  2015   85004.0        blue    30.0        16.0    NaN   \n",
       "7678          0  2013   50014.0         red    43.0        15.0    NaN   \n",
       "12812         0  2015   50001.0        blue    34.0         9.0    NaN   \n",
       "13206         0  2016   80027.0       white    40.0        11.0    NaN   \n",
       "...         ...   ...       ...         ...     ...         ...    ...   \n",
       "1041049       0  2013   20129.0        blue    57.0        14.0    NaN   \n",
       "1046459       0  2016   80038.0        blue    42.0        16.0    NaN   \n",
       "1046554       0  2016   50021.0       white    38.0        15.0    NaN   \n",
       "1047598       0  2016   50047.0       white    58.0         9.0    NaN   \n",
       "1048271       0  2013   50046.0        blue    45.0        13.0    NaN   \n",
       "\n",
       "        coverage.type dwelling.type     premium sales.channel ni.gender  \\\n",
       "2557                C         House  890.594274        Broker         F   \n",
       "4463                A        Tenant  878.590863        Broker         M   \n",
       "7678                C         House  893.971163         Phone         F   \n",
       "12812               A         House  874.989911        Broker         M   \n",
       "13206               C         Condo  896.331416        Broker         F   \n",
       "...               ...           ...         ...           ...       ...   \n",
       "1041049             C         House  950.723249        Broker         F   \n",
       "1046459             B         Condo  923.404940         Phone         F   \n",
       "1046554             B         House  917.345739        Broker         M   \n",
       "1047598             C         House  903.992003        Broker         F   \n",
       "1048271             B        Tenant  934.179217         Phone         F   \n",
       "\n",
       "         ni.marital.status  n.adults  n.children  tenure  claim.ind  \n",
       "2557                   1.0       4.0         0.0    11.0        0.0  \n",
       "4463                   0.0       1.0         0.0     8.0        0.0  \n",
       "7678                   1.0       1.0         7.0    16.0        0.0  \n",
       "12812                  1.0       4.0         1.0     4.0        0.0  \n",
       "13206                  0.0       3.0         0.0    22.0        0.0  \n",
       "...                    ...       ...         ...     ...        ...  \n",
       "1041049                1.0       3.0         2.0    11.0        0.0  \n",
       "1046459                0.0       2.0         0.0    15.0        0.0  \n",
       "1046554                1.0       1.0         3.0     9.0        0.0  \n",
       "1047598                1.0       3.0         3.0     8.0        0.0  \n",
       "1048271                0.0       1.0         0.0    17.0        0.0  \n",
       "\n",
       "[905 rows x 17 columns]"
      ]
     },
     "execution_count": 16,
     "metadata": {},
     "output_type": "execute_result"
    }
   ],
   "source": [
    "df[df['credit'].isnull()]"
   ]
  },
  {
   "cell_type": "markdown",
   "id": "e5790b64",
   "metadata": {},
   "source": [
    "**Check price of policy: premium across the 3 coverage types**"
   ]
  },
  {
   "cell_type": "code",
   "execution_count": 19,
   "id": "5f9b56b4",
   "metadata": {},
   "outputs": [
    {
     "data": {
      "text/plain": [
       "C    438083\n",
       "A    355505\n",
       "B    250556\n",
       "Name: coverage.type, dtype: int64"
      ]
     },
     "execution_count": 19,
     "metadata": {},
     "output_type": "execute_result"
    }
   ],
   "source": [
    "df['coverage.type'].value_counts()"
   ]
  },
  {
   "cell_type": "code",
   "execution_count": 20,
   "id": "60ae050c",
   "metadata": {},
   "outputs": [
    {
     "data": {
      "image/png": "[encoded data removed]",
      "text/plain": [
       "<Figure size 1728x360 with 3 Axes>"
      ]
     },
     "metadata": {
      "needs_background": "light"
     },
     "output_type": "display_data"
    }
   ],
   "source": [
    "ctype = ['A','B','C']\n",
    "fog, ax = plt.subplots(nrows = 1, ncols = 3, figsize = (24,5))\n",
    "for i, c in enumerate(ctype):\n",
    "    sns.histplot(x = 'premium', data = df[df['coverage.type'] == c], ax = ax[i%3])"
   ]
  },
  {
   "cell_type": "markdown",
   "id": "883bccf2",
   "metadata": {},
   "source": [
    "*Premiums are equal across the 3 coverage types.*"
   ]
  },
  {
   "cell_type": "code",
   "execution_count": 21,
   "id": "e2d2b2af",
   "metadata": {},
   "outputs": [
    {
     "data": {
      "text/plain": [
       "2016    302342\n",
       "2015    274920\n",
       "2014    246816\n",
       "2013    221045\n",
       "Name: year, dtype: int64"
      ]
     },
     "execution_count": 21,
     "metadata": {},
     "output_type": "execute_result"
    }
   ],
   "source": [
    "df['year'].value_counts()"
   ]
  },
  {
   "cell_type": "code",
   "execution_count": 22,
   "id": "dc075da1",
   "metadata": {},
   "outputs": [
    {
     "data": {
      "image/png": "[encoded data removed]",
      "text/plain": [
       "<Figure size 1728x360 with 4 Axes>"
      ]
     },
     "metadata": {
      "needs_background": "light"
     },
     "output_type": "display_data"
    }
   ],
   "source": [
    "ytype = [2013, 2014, 2015, 2016]\n",
    "fog, ax = plt.subplots(nrows = 1, ncols = 4, figsize = (24,5))\n",
    "for i, y in enumerate(ytype):\n",
    "    sns.histplot(x = 'premium', data = df[df['year'] == y], ax = ax[i%4])"
   ]
  },
  {
   "cell_type": "markdown",
   "id": "9ba161f9",
   "metadata": {},
   "source": [
    "*Premiums are equal across the 4 years*"
   ]
  },
  {
   "cell_type": "markdown",
   "id": "73e4777f",
   "metadata": {},
   "source": [
    "**Check credit across coverage type**"
   ]
  },
  {
   "cell_type": "code",
   "execution_count": 48,
   "id": "5dbcbea6",
   "metadata": {},
   "outputs": [
    {
     "data": {
      "image/png": "[encoded data removed]",
      "text/plain": [
       "<Figure size 2160x360 with 4 Axes>"
      ]
     },
     "metadata": {
      "needs_background": "light"
     },
     "output_type": "display_data"
    }
   ],
   "source": [
    "dt = pd.DataFrame(df['credit'].value_counts())\n",
    "dt2 = pd.crosstab(df['credit'],df['coverage.type'])\n",
    "order = ['high','medium','low']\n",
    "\n",
    "fig, ax = plt.subplots(nrows = 1, ncols = 4, figsize = (30,5))\n",
    "sns.barplot(x = dt.index, y = 'credit', order = order, data = dt, ax = ax[0])\n",
    "sns.barplot(x = dt2.index, y = 'A', data = dt2, order = order, ax = ax[1])\n",
    "sns.barplot(x = dt2.index, y = 'B', data = dt2, order = order, ax = ax[2])\n",
    "sns.barplot(x = dt2.index, y = 'C', data = dt2, order = order,ax = ax[3])\n",
    "plt.show()"
   ]
  },
  {
   "cell_type": "markdown",
   "id": "c156e8d7",
   "metadata": {},
   "source": [
    "**Check credit across years**"
   ]
  },
  {
   "cell_type": "code",
   "execution_count": 49,
   "id": "f92037de",
   "metadata": {},
   "outputs": [
    {
     "data": {
      "image/png": "[encoded data removed]",
      "text/plain": [
       "<Figure size 2592x360 with 5 Axes>"
      ]
     },
     "metadata": {
      "needs_background": "light"
     },
     "output_type": "display_data"
    }
   ],
   "source": [
    "dt3 = pd.crosstab(df['credit'],df['year'])\n",
    "\n",
    "fig, ax = plt.subplots(nrows = 1, ncols = 5, figsize = (36,5))\n",
    "sns.barplot(x = dt.index, y = 'credit', order = order, data = dt, ax = ax[0])\n",
    "sns.barplot(x = dt3.index, y = 2013, data = dt3, order = order, ax = ax[1])\n",
    "sns.barplot(x = dt3.index, y = 2014, data = dt3, order = order, ax = ax[2])\n",
    "sns.barplot(x = dt3.index, y = 2015, data = dt3, order = order,ax = ax[3])\n",
    "sns.barplot(x = dt3.index, y = 2016, data = dt3, order = order,ax = ax[4])\n",
    "plt.show()"
   ]
  },
  {
   "cell_type": "markdown",
   "id": "373cfb69",
   "metadata": {},
   "source": [
    "**Check credit across dwelling.type**"
   ]
  },
  {
   "cell_type": "code",
   "execution_count": 50,
   "id": "819169c8",
   "metadata": {},
   "outputs": [
    {
     "data": {
      "text/plain": [
       "House     585953\n",
       "Condo     251233\n",
       "Tenant    206947\n",
       "Name: dwelling.type, dtype: int64"
      ]
     },
     "execution_count": 50,
     "metadata": {},
     "output_type": "execute_result"
    }
   ],
   "source": [
    "df['dwelling.type'].value_counts()"
   ]
  },
  {
   "cell_type": "code",
   "execution_count": 51,
   "id": "0a1ef335",
   "metadata": {},
   "outputs": [
    {
     "data": {
      "image/png": "[encoded data removed]",
      "text/plain": [
       "<Figure size 2160x360 with 4 Axes>"
      ]
     },
     "metadata": {
      "needs_background": "light"
     },
     "output_type": "display_data"
    }
   ],
   "source": [
    "dt4 = pd.crosstab(df['credit'],df['dwelling.type'])\n",
    "\n",
    "fig, ax = plt.subplots(nrows = 1, ncols = 4, figsize = (30,5))\n",
    "sns.barplot(x = dt.index, y = 'credit', order = order, data = dt, ax = ax[0])\n",
    "sns.barplot(x = dt4.index, y = 'House', data = dt4, order = order, ax = ax[1])\n",
    "sns.barplot(x = dt4.index, y = 'Condo', data = dt4, order = order, ax = ax[2])\n",
    "sns.barplot(x = dt4.index, y = 'Tenant', data = dt4, order = order,ax = ax[3])\n",
    "plt.show()"
   ]
  },
  {
   "cell_type": "code",
   "execution_count": 52,
   "id": "ecb172c8",
   "metadata": {},
   "outputs": [
    {
     "data": {
      "image/png": "[encoded data removed]",
      "text/plain": [
       "<Figure size 1296x360 with 3 Axes>"
      ]
     },
     "metadata": {
      "needs_background": "light"
     },
     "output_type": "display_data"
    }
   ],
   "source": [
    "dt5 = pd.crosstab(df['credit'],df['ni.gender'])\n",
    "\n",
    "fig, ax = plt.subplots(nrows = 1, ncols = 3, figsize = (18,5))\n",
    "sns.barplot(x = dt.index, y = 'credit', order = order, data = dt, ax = ax[0])\n",
    "sns.barplot(x = dt5.index, y = 'M', data = dt5, order = order, ax = ax[1])\n",
    "sns.barplot(x = dt5.index, y = 'F', data = dt5, order = order, ax = ax[2])\n",
    "plt.show()"
   ]
  },
  {
   "cell_type": "code",
   "execution_count": 53,
   "id": "94cc0b7b",
   "metadata": {},
   "outputs": [
    {
     "data": {
      "text/plain": [
       "1.0    741304\n",
       "0.0    302827\n",
       "Name: ni.marital.status, dtype: int64"
      ]
     },
     "execution_count": 53,
     "metadata": {},
     "output_type": "execute_result"
    }
   ],
   "source": [
    "df['ni.marital.status'].value_counts()"
   ]
  },
  {
   "cell_type": "code",
   "execution_count": 55,
   "id": "dbe1350c",
   "metadata": {},
   "outputs": [
    {
     "data": {
      "image/png": "[encoded data removed]",
      "text/plain": [
       "<Figure size 1296x360 with 3 Axes>"
      ]
     },
     "metadata": {
      "needs_background": "light"
     },
     "output_type": "display_data"
    }
   ],
   "source": [
    "dt6 = pd.crosstab(df['credit'],df['ni.marital.status'])\n",
    "\n",
    "fig, ax = plt.subplots(nrows = 1, ncols = 3, figsize = (18,5))\n",
    "sns.barplot(x = dt.index, y = 'credit', order = order, data = dt, ax = ax[0])\n",
    "sns.barplot(x = dt6.index, y = 1.0, data = dt6, order = order, ax = ax[1])\n",
    "sns.barplot(x = dt6.index, y = 0.0, data = dt6, order = order, ax = ax[2])\n",
    "plt.show()"
   ]
  },
  {
   "cell_type": "code",
   "execution_count": null,
   "id": "7d9e8904",
   "metadata": {},
   "outputs": [],
   "source": []
  },
  {
   "cell_type": "code",
   "execution_count": null,
   "id": "4de9647d",
   "metadata": {},
   "outputs": [],
   "source": []
  },
  {
   "cell_type": "code",
   "execution_count": null,
   "id": "5adbf50e",
   "metadata": {},
   "outputs": [],
   "source": []
  },
  {
   "cell_type": "code",
   "execution_count": null,
   "id": "8234da36",
   "metadata": {},
   "outputs": [],
   "source": []
  },
  {
   "cell_type": "code",
   "execution_count": null,
   "id": "68c6473c",
   "metadata": {},
   "outputs": [],
   "source": []
  },
  {
   "cell_type": "code",
   "execution_count": null,
   "id": "1cab4751",
   "metadata": {},
   "outputs": [],
   "source": []
  },
  {
   "cell_type": "code",
   "execution_count": null,
   "id": "cbea83ec",
   "metadata": {},
   "outputs": [],
   "source": []
  },
  {
   "cell_type": "code",
   "execution_count": null,
   "id": "59602696",
   "metadata": {},
   "outputs": [],
   "source": []
  },
  {
   "cell_type": "code",
   "execution_count": null,
   "id": "82cb3c09",
   "metadata": {},
   "outputs": [],
   "source": []
  },
  {
   "cell_type": "code",
   "execution_count": null,
   "id": "e6050652",
   "metadata": {},
   "outputs": [],
   "source": []
  },
  {
   "cell_type": "code",
   "execution_count": null,
   "id": "0d731419",
   "metadata": {},
   "outputs": [],
   "source": []
  },
  {
   "cell_type": "code",
   "execution_count": null,
   "id": "4782e0e4",
   "metadata": {},
   "outputs": [],
   "source": []
  },
  {
   "cell_type": "code",
   "execution_count": null,
   "id": "0be86283",
   "metadata": {},
   "outputs": [],
   "source": []
  },
  {
   "cell_type": "code",
   "execution_count": null,
   "id": "ad40c8c7",
   "metadata": {},
   "outputs": [],
   "source": []
  },
  {
   "cell_type": "code",
   "execution_count": null,
   "id": "d2551a1f",
   "metadata": {},
   "outputs": [],
   "source": []
  }
 ],
 "metadata": {
  "kernelspec": {
   "display_name": "Python 3",
   "language": "python",
   "name": "python3"
  },
  "language_info": {
   "codemirror_mode": {
    "name": "ipython",
    "version": 3
   },
   "file_extension": ".py",
   "mimetype": "text/x-python",
   "name": "python",
   "nbconvert_exporter": "python",
   "pygments_lexer": "ipython3",
   "version": "3.8.8"
  }
 },
 "nbformat": 4,
 "nbformat_minor": 5
}
